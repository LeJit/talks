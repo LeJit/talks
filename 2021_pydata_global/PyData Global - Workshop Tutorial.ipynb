{
 "cells": [
  {
   "cell_type": "markdown",
   "metadata": {
    "id": "NDxtnoIr7mIN"
   },
   "source": [
    "# PyData Global 2021 Workshop <br>_Assessing and mitigating unfairness in AI Systems<br>_\n",
    "\n",
    "---\n",
    "Tutorial: \n",
    "- *Manojit Nandi* \n",
    "<br>\n",
    "\n",
    "Panel: \n",
    "- Moderator: *Michael Madaio*\n",
    "- Panelist: *Triveni Gandhi*, *Hanna Wallach*, *Kristen Laird*"
   ]
  },
  {
   "cell_type": "markdown",
   "metadata": {
    "id": "Sch9KDWg7SL8"
   },
   "source": [
    "Fairness in AI systems is an interdisciplinary field of research and practice that aims to understand and address some of the negative impacts of AI systems on society. In this workshop, we will walk through the process of assessing and mitigating fairness-related harms in the context of the U.S. health care system using *Fairlearn*."
   ]
  },
  {
   "cell_type": "markdown",
   "metadata": {
    "id": "0gZTFumIxCfK"
   },
   "source": [
    "# **Introduction of Fairlearn**\n"
   ]
  },
  {
   "cell_type": "markdown",
   "metadata": {
    "id": "ORfTAukTuEPN"
   },
   "source": [
    "### [Fairlearn](https://fairlearn.org)\n",
    "\n",
    "Fairlearn is an open-source, community-driven project to help data scientists improve fairness of AI systems. It includes:\n",
    "\n",
    "* A Python library for fairness assessment and improvement (fairness metrics, mitigation algorithms, plotting, etc.)\n",
    "\n",
    "* Educational resources covering organizational and technical processes for unfairness mitigation (user guide, case studies, Jupyter notebooks, etc.)\n",
    "\n",
    "The project was started in 2018 at Microsoft Research. In 2021 it adopted neutral governance structure and since then it is completely community-driven."
   ]
  },
  {
   "cell_type": "markdown",
   "metadata": {
    "id": "fboVvqvVvpKz"
   },
   "source": [
    "# **Prepare environment**"
   ]
  },
  {
   "cell_type": "markdown",
   "metadata": {
    "id": "fVtpwFGJLcgU"
   },
   "source": [
    "## Import and set up packages"
   ]
  },
  {
   "cell_type": "code",
   "execution_count": 1,
   "metadata": {
    "id": "cEwLsWyTLgJn"
   },
   "outputs": [],
   "source": [
    "import numpy as np\n",
    "import pandas as pd\n",
    "\n",
    "pd.set_option(\"display.float_format\", \"{:.3f}\".format)"
   ]
  },
  {
   "cell_type": "code",
   "execution_count": 2,
   "metadata": {
    "id": "wBOSsyc48MK0"
   },
   "outputs": [],
   "source": [
    "import matplotlib.pyplot as plt\n",
    "import seaborn as sns\n",
    "\n",
    "sns.set()"
   ]
  },
  {
   "cell_type": "code",
   "execution_count": 3,
   "metadata": {
    "id": "VhbFzU6GLgW0"
   },
   "outputs": [],
   "source": [
    "from sklearn.linear_model import LogisticRegression\n",
    "from sklearn.model_selection import train_test_split\n",
    "from sklearn.preprocessing import StandardScaler\n",
    "from sklearn.pipeline import Pipeline\n",
    "from sklearn.utils import Bunch\n",
    "from sklearn.metrics import (\n",
    "    balanced_accuracy_score,\n",
    "    roc_auc_score,\n",
    "    accuracy_score,\n",
    "    recall_score,\n",
    "    confusion_matrix,\n",
    "    roc_auc_score,\n",
    "    roc_curve,\n",
    "    plot_roc_curve)\n",
    "from sklearn import set_config\n",
    "\n",
    "set_config(display=\"diagram\")"
   ]
  },
  {
   "cell_type": "code",
   "execution_count": 4,
   "metadata": {
    "id": "GcilMnWhLgaT"
   },
   "outputs": [],
   "source": [
    "from fairlearn.metrics import (\n",
    "    MetricFrame,\n",
    "    true_positive_rate,\n",
    "    false_positive_rate,\n",
    "    false_negative_rate,\n",
    "    selection_rate,\n",
    "    count,\n",
    "    false_negative_rate_difference\n",
    ")\n",
    "\n",
    "from fairlearn.postprocessing import ThresholdOptimizer, plot_threshold_optimizer\n",
    "from fairlearn.postprocessing._interpolated_thresholder import InterpolatedThresholder\n",
    "from fairlearn.postprocessing._threshold_operation import ThresholdOperation\n",
    "from fairlearn.reductions import ExponentiatedGradient, EqualizedOdds, TruePositiveRateParity"
   ]
  },
  {
   "cell_type": "code",
   "execution_count": 5,
   "metadata": {
    "id": "S4ANMj1M8k0h"
   },
   "outputs": [],
   "source": [
    "from IPython import display\n",
    "from datetime import date\n",
    "import warnings\n",
    "\n",
    "warnings.simplefilter(\"ignore\")"
   ]
  },
  {
   "cell_type": "markdown",
   "metadata": {
    "id": "4OoPTetsDv-v"
   },
   "source": [
    "# **Overview of fairness in AI systems**"
   ]
  },
  {
   "cell_type": "markdown",
   "metadata": {},
   "source": [
    "## *Impact*, not *bias*"
   ]
  },
  {
   "cell_type": "markdown",
   "metadata": {},
   "source": [
    "If you've heard anything about fairness in AI systems, you've probably heard this term *bias*. However, I will avoid using that term. The term \"bias\" is ambiguous in many cases and can mean different things to different communities.\n",
    "\n",
    "Instead, let's focus on **impact**. We want to center the conversation on those who are harmed by these systems rather than centering on the AI systems themselves. Since we will be focusing on *harms*, we need a framework to discuss harms."
   ]
  },
  {
   "cell_type": "markdown",
   "metadata": {},
   "source": [
    "## Types of fairness-related harms"
   ]
  },
  {
   "cell_type": "markdown",
   "metadata": {},
   "source": [
    "1. *Allocation harms*: Allocation harms occur when AI systems allocate resources or opportunities in a way that negatively impact people's lives.\n",
    "    - ![Apple Credit Card](https://www.thesun.ie/wp-content/uploads/sites/3/2019/11/AD-COMPOSITE-Apple-Credit-Card.jpg?w=1500)\n",
    "\n",
    "2. *Quality of Service harms*: Quality of service harms occur when an AI system performs worse for one group compared to others, even no opportunities are withheld.\n",
    "    - ![Gender Shades](https://www.topbots.com/wp-content/uploads/2019/01/02_gender_shades_web.png)\n",
    "\n",
    "3. *Representation harms*: Representation harms occur when an AI system stereotypes, demeans, or promotes antagonistic representation of users.\n",
    "    - ![Google Photos](https://th.bing.com/th/id/R.4a779a0bfb2adb534f95437896e683db?rik=Lb8G2%2f3JRRl%2fZg&pid=ImgRaw&r=0)\n",
    "    "
   ]
  },
  {
   "cell_type": "markdown",
   "metadata": {
    "id": "_j1vtg6TD7Fi"
   },
   "source": [
    "# **Introduction to the health care scenario**"
   ]
  },
  {
   "cell_type": "markdown",
   "metadata": {
    "id": "HUkG_zdEylGU"
   },
   "source": [
    "Our scenario builds on previous research that highlighted racial disparities in how health care resources are allocated in the U.S. ([Obermeyer et al., 2019](https://science.sciencemag.org/content/366/6464/447.full)).\n",
    "Motivated by that work, in this tutorial we consider an automated system for recommending patients for _high-risk care management_ programs, which are described by Obermeyer et al. 2019 as follows:\n",
    "\n",
    "> These programs seek to improve the care of patients with complex health needs by providing additional resources, including greater attention from trained providers, to help ensure that care is well coordinated. Most health systems use these programs as the cornerstone of population health management efforts, and they are widely considered effective at improving outcomes and satisfaction while reducing costs. [...] Because the programs are themselves expensive—with costs going toward teams of dedicated nurses, extra primary care appointment slots, and other scarce resources—**health systems rely extensively on algorithms to identify patients who will benefit the most.**\n",
    "\n",
    "**Convenience restriction**\n",
    "\n",
    "* In practice, the modeling of health needs would use large data sets covering a wide range of diagnoses. In this tutorial, we will work with a [publicly available clinical dataset](https://archive.ics.uci.edu/ml/datasets/Diabetes+130-US+hospitals+for+years+1999-2008) that focuses on _diabetic patients only_ ([Strack et al., 2014](https://www.hindawi.com/journals/bmri/2014/781670/))."
   ]
  },
  {
   "cell_type": "markdown",
   "metadata": {
    "id": "q-j4KN95wLLS"
   },
   "source": [
    "## Dataset and task"
   ]
  },
  {
   "cell_type": "markdown",
   "metadata": {
    "id": "zOwrRsB7wEeM"
   },
   "source": [
    "We will be working with a clincial dataset of hospital re-admissions over a ten-year period (1998-2008) for diabetic patients across 130 different hospitals in the US. Each record represents the hospital admission records for a patient diagnosed with diabetes whose stay lasted one to fourteen days.\n",
    "\n",
    "The features describing each encounter include demographics, diagnoses, diabetic medications, number of visits in the year preceding the encounter, and payer information, as well as whether the patient was readmitted after release, and whether the readmission occurred within 30 days of the release.\n",
    "\n",
    "We would like to develop a classification model, which decides whether the patients should be suggested to their primary care physicians for an enrollment into the high-risk care management program. The positive prediction will mean recommendation into the care program.\n",
    "\n",
    "**Decision point: Task definition**\n",
    "\n",
    "* A hospital **readmission within 30 days** can be viewed as a proxy that the patients needed more assistance at the release time, so it will be the label we wish to predict.\n",
    "\n",
    "* Because of the class imbalance, we will be measuring our performance via **balanced accuracy**. Another key performance consideration is how many patients are recommended for care, metric we refer to as **selection rate**.\n",
    "\n",
    "Ideally, health care professionals would be involved in both designing and using the model, including formalizing the task definition. \n"
   ]
  },
  {
   "cell_type": "markdown",
   "metadata": {
    "id": "2BE26iXWwUqr"
   },
   "source": [
    "## Fairness considerations"
   ]
  },
  {
   "cell_type": "markdown",
   "metadata": {
    "id": "eZUcQVZYyRvz"
   },
   "source": [
    "* _Which groups are most likely to be disproportionately negatively affected?_ Previous work suggests that groups with different race and ethnicity can be differently affected.\n",
    "\n",
    "* _What are the harms?_ The key harms here are allocation harms. In particular, false negatives, i.e., don't recommend somebody who will be readmitted.\n",
    "\n",
    "* _How should we measure those harms?_\n"
   ]
  },
  {
   "cell_type": "markdown",
   "metadata": {
    "id": "R7tpRumX_4Nh"
   },
   "source": [
    "# Task definition and dataset characteristics"
   ]
  },
  {
   "cell_type": "markdown",
   "metadata": {
    "id": "3iJGhfCgPiy-"
   },
   "source": [
    "Two critical decisions when desiging an AI system are\n",
    "1. how we define the machine learning task\n",
    "2. what dataset we use to train our models\n",
    "\n",
    "These choices are often intertwined, because the dataset is often a convenience dataset, based on availability, which leads to a specific choice of label and performance metric (that's also the case in our scenario).\n",
    "\n",
    "In this part of the tutorial, we first load the dataset, and then we examine it for a variety of fairness issues:\n",
    "1. sample sizes of different demographic groups, and in particular different racial groups\n",
    "2. appropriateness of our choice of label (readmission within 30 days)\n",
    "\n",
    "Besides dataset characteristics, one additional aspect of dataset fairness is whether the data was collected in a manner that respects the autonomy of individuals in the dataset.\n",
    "\n",
    "The dataset characteristics can be systematically documented through the **datasheets** practice. By documenting our understanding of the dataset, we communicate any concerns we have about the data and highlight downstream issues that may arise during the model training, evaluation and deployment.\n",
    "\n"
   ]
  },
  {
   "cell_type": "markdown",
   "metadata": {
    "id": "3-ABnntZT8Fn"
   },
   "source": [
    "## Load the dataset\n"
   ]
  },
  {
   "cell_type": "markdown",
   "metadata": {
    "id": "bvyHqcLIT8Fo"
   },
   "source": [
    "We next load the dataset and review the meaning of its columns.\n"
   ]
  },
  {
   "cell_type": "code",
   "execution_count": 6,
   "metadata": {
    "id": "gkfwniFQT8Fp"
   },
   "outputs": [],
   "source": [
    "df = pd.read_csv(\"https://raw.githubusercontent.com/fairlearn/talks/main/2021_scipy_tutorial/data/diabetic_preprocessed.csv\")"
   ]
  },
  {
   "cell_type": "code",
   "execution_count": 7,
   "metadata": {
    "colab": {
     "base_uri": "https://localhost:8080/",
     "height": 360
    },
    "id": "mIFN96kiT8Fq",
    "outputId": "9dbf587e-5f51-4dc4-877a-3ffb9a7374a2"
   },
   "outputs": [
    {
     "data": {
      "text/html": [
       "<div>\n",
       "<style scoped>\n",
       "    .dataframe tbody tr th:only-of-type {\n",
       "        vertical-align: middle;\n",
       "    }\n",
       "\n",
       "    .dataframe tbody tr th {\n",
       "        vertical-align: top;\n",
       "    }\n",
       "\n",
       "    .dataframe thead th {\n",
       "        text-align: right;\n",
       "    }\n",
       "</style>\n",
       "<table border=\"1\" class=\"dataframe\">\n",
       "  <thead>\n",
       "    <tr style=\"text-align: right;\">\n",
       "      <th></th>\n",
       "      <th>race</th>\n",
       "      <th>gender</th>\n",
       "      <th>age</th>\n",
       "      <th>discharge_disposition_id</th>\n",
       "      <th>admission_source_id</th>\n",
       "      <th>time_in_hospital</th>\n",
       "      <th>medical_specialty</th>\n",
       "      <th>num_lab_procedures</th>\n",
       "      <th>num_procedures</th>\n",
       "      <th>num_medications</th>\n",
       "      <th>...</th>\n",
       "      <th>change</th>\n",
       "      <th>diabetesMed</th>\n",
       "      <th>medicare</th>\n",
       "      <th>medicaid</th>\n",
       "      <th>had_emergency</th>\n",
       "      <th>had_inpatient_days</th>\n",
       "      <th>had_outpatient_days</th>\n",
       "      <th>readmitted</th>\n",
       "      <th>readmit_binary</th>\n",
       "      <th>readmit_30_days</th>\n",
       "    </tr>\n",
       "  </thead>\n",
       "  <tbody>\n",
       "    <tr>\n",
       "      <th>0</th>\n",
       "      <td>Caucasian</td>\n",
       "      <td>Female</td>\n",
       "      <td>30 years or younger</td>\n",
       "      <td>Other</td>\n",
       "      <td>Referral</td>\n",
       "      <td>1</td>\n",
       "      <td>Other</td>\n",
       "      <td>41</td>\n",
       "      <td>0</td>\n",
       "      <td>1</td>\n",
       "      <td>...</td>\n",
       "      <td>No</td>\n",
       "      <td>No</td>\n",
       "      <td>False</td>\n",
       "      <td>False</td>\n",
       "      <td>False</td>\n",
       "      <td>False</td>\n",
       "      <td>False</td>\n",
       "      <td>NO</td>\n",
       "      <td>0</td>\n",
       "      <td>0</td>\n",
       "    </tr>\n",
       "    <tr>\n",
       "      <th>1</th>\n",
       "      <td>Caucasian</td>\n",
       "      <td>Female</td>\n",
       "      <td>30 years or younger</td>\n",
       "      <td>Discharged to Home</td>\n",
       "      <td>Emergency</td>\n",
       "      <td>3</td>\n",
       "      <td>Missing</td>\n",
       "      <td>59</td>\n",
       "      <td>0</td>\n",
       "      <td>18</td>\n",
       "      <td>...</td>\n",
       "      <td>Ch</td>\n",
       "      <td>Yes</td>\n",
       "      <td>False</td>\n",
       "      <td>False</td>\n",
       "      <td>False</td>\n",
       "      <td>False</td>\n",
       "      <td>False</td>\n",
       "      <td>&gt;30</td>\n",
       "      <td>1</td>\n",
       "      <td>0</td>\n",
       "    </tr>\n",
       "    <tr>\n",
       "      <th>2</th>\n",
       "      <td>AfricanAmerican</td>\n",
       "      <td>Female</td>\n",
       "      <td>30 years or younger</td>\n",
       "      <td>Discharged to Home</td>\n",
       "      <td>Emergency</td>\n",
       "      <td>2</td>\n",
       "      <td>Missing</td>\n",
       "      <td>11</td>\n",
       "      <td>5</td>\n",
       "      <td>13</td>\n",
       "      <td>...</td>\n",
       "      <td>No</td>\n",
       "      <td>Yes</td>\n",
       "      <td>False</td>\n",
       "      <td>False</td>\n",
       "      <td>False</td>\n",
       "      <td>True</td>\n",
       "      <td>True</td>\n",
       "      <td>NO</td>\n",
       "      <td>0</td>\n",
       "      <td>0</td>\n",
       "    </tr>\n",
       "    <tr>\n",
       "      <th>3</th>\n",
       "      <td>Caucasian</td>\n",
       "      <td>Male</td>\n",
       "      <td>30-60 years</td>\n",
       "      <td>Discharged to Home</td>\n",
       "      <td>Emergency</td>\n",
       "      <td>2</td>\n",
       "      <td>Missing</td>\n",
       "      <td>44</td>\n",
       "      <td>1</td>\n",
       "      <td>16</td>\n",
       "      <td>...</td>\n",
       "      <td>Ch</td>\n",
       "      <td>Yes</td>\n",
       "      <td>False</td>\n",
       "      <td>False</td>\n",
       "      <td>False</td>\n",
       "      <td>False</td>\n",
       "      <td>False</td>\n",
       "      <td>NO</td>\n",
       "      <td>0</td>\n",
       "      <td>0</td>\n",
       "    </tr>\n",
       "    <tr>\n",
       "      <th>4</th>\n",
       "      <td>Caucasian</td>\n",
       "      <td>Male</td>\n",
       "      <td>30-60 years</td>\n",
       "      <td>Discharged to Home</td>\n",
       "      <td>Emergency</td>\n",
       "      <td>1</td>\n",
       "      <td>Missing</td>\n",
       "      <td>51</td>\n",
       "      <td>0</td>\n",
       "      <td>8</td>\n",
       "      <td>...</td>\n",
       "      <td>Ch</td>\n",
       "      <td>Yes</td>\n",
       "      <td>False</td>\n",
       "      <td>False</td>\n",
       "      <td>False</td>\n",
       "      <td>False</td>\n",
       "      <td>False</td>\n",
       "      <td>NO</td>\n",
       "      <td>0</td>\n",
       "      <td>0</td>\n",
       "    </tr>\n",
       "  </tbody>\n",
       "</table>\n",
       "<p>5 rows × 25 columns</p>\n",
       "</div>"
      ],
      "text/plain": [
       "              race  gender                  age discharge_disposition_id  \\\n",
       "0        Caucasian  Female  30 years or younger                    Other   \n",
       "1        Caucasian  Female  30 years or younger       Discharged to Home   \n",
       "2  AfricanAmerican  Female  30 years or younger       Discharged to Home   \n",
       "3        Caucasian    Male          30-60 years       Discharged to Home   \n",
       "4        Caucasian    Male          30-60 years       Discharged to Home   \n",
       "\n",
       "  admission_source_id  time_in_hospital medical_specialty  num_lab_procedures  \\\n",
       "0            Referral                 1             Other                  41   \n",
       "1           Emergency                 3           Missing                  59   \n",
       "2           Emergency                 2           Missing                  11   \n",
       "3           Emergency                 2           Missing                  44   \n",
       "4           Emergency                 1           Missing                  51   \n",
       "\n",
       "   num_procedures  num_medications  ... change  diabetesMed medicare medicaid  \\\n",
       "0               0                1  ...     No           No    False    False   \n",
       "1               0               18  ...     Ch          Yes    False    False   \n",
       "2               5               13  ...     No          Yes    False    False   \n",
       "3               1               16  ...     Ch          Yes    False    False   \n",
       "4               0                8  ...     Ch          Yes    False    False   \n",
       "\n",
       "  had_emergency had_inpatient_days had_outpatient_days  readmitted  \\\n",
       "0         False              False               False          NO   \n",
       "1         False              False               False         >30   \n",
       "2         False               True                True          NO   \n",
       "3         False              False               False          NO   \n",
       "4         False              False               False          NO   \n",
       "\n",
       "   readmit_binary  readmit_30_days  \n",
       "0               0                0  \n",
       "1               1                0  \n",
       "2               0                0  \n",
       "3               0                0  \n",
       "4               0                0  \n",
       "\n",
       "[5 rows x 25 columns]"
      ]
     },
     "execution_count": 7,
     "metadata": {},
     "output_type": "execute_result"
    }
   ],
   "source": [
    "df.head()"
   ]
  },
  {
   "cell_type": "markdown",
   "metadata": {
    "id": "KXQNItgRT8Fu"
   },
   "source": [
    "The columns contain mostly boolean and categorical data (including age and various test results), with just the following exceptions: `time_in_hospital`, `num_lab_procedures`, `num_procedures`, `num_medications`, `number_diagnoses`.\n",
    "\n",
    "\n",
    "|features| description|\n",
    "|---|---|\n",
    "| race, gender, age | demographic features |\n",
    "| medicare, medicaid | insurance information |\n",
    "| admission_source_id | emergency, referral, or other |\n",
    "| had_emergency, had_inpatient_days,<br>had_outpatient_days | hospital visits in prior year |\n",
    "| medical_specialty | admitting physician's specialty |\n",
    "| time_in_hospital, num_lab_procedures,<br>num_procedures, num_medications,<br>primary_diagnosis, number_diagnoses,<br>max_glu_serum, A1Cresult, insulin<br>change, diabetesMed | description of the hospital visit<br> |\n",
    "| discharge_disposition_id | discharched to home or not |\n",
    "| readmitted, readmit_binary,<br>readmit_30_days | readmission information |\n",
    "\n",
    "\n"
   ]
  },
  {
   "cell_type": "code",
   "execution_count": 8,
   "metadata": {
    "colab": {
     "base_uri": "https://localhost:8080/",
     "height": 738
    },
    "id": "gPtaDcfHT8Fv",
    "outputId": "42347f1f-d3c8-4221-f98d-fdeaa25ef4fd"
   },
   "outputs": [
    {
     "data": {
      "text/html": [
       "<div>\n",
       "<style scoped>\n",
       "    .dataframe tbody tr th:only-of-type {\n",
       "        vertical-align: middle;\n",
       "    }\n",
       "\n",
       "    .dataframe tbody tr th {\n",
       "        vertical-align: top;\n",
       "    }\n",
       "\n",
       "    .dataframe thead th {\n",
       "        text-align: right;\n",
       "    }\n",
       "</style>\n",
       "<table border=\"1\" class=\"dataframe\">\n",
       "  <thead>\n",
       "    <tr style=\"text-align: right;\">\n",
       "      <th></th>\n",
       "      <th>0</th>\n",
       "      <th>1</th>\n",
       "      <th>2</th>\n",
       "      <th>3</th>\n",
       "      <th>4</th>\n",
       "      <th>5</th>\n",
       "    </tr>\n",
       "  </thead>\n",
       "  <tbody>\n",
       "    <tr>\n",
       "      <th>race</th>\n",
       "      <td>Caucasian</td>\n",
       "      <td>AfricanAmerican</td>\n",
       "      <td>Unknown</td>\n",
       "      <td>Hispanic</td>\n",
       "      <td>Other</td>\n",
       "      <td>Asian</td>\n",
       "    </tr>\n",
       "    <tr>\n",
       "      <th>gender</th>\n",
       "      <td>Female</td>\n",
       "      <td>Male</td>\n",
       "      <td>Unknown/Invalid</td>\n",
       "      <td></td>\n",
       "      <td></td>\n",
       "      <td></td>\n",
       "    </tr>\n",
       "    <tr>\n",
       "      <th>age</th>\n",
       "      <td>Over 60 years</td>\n",
       "      <td>30-60 years</td>\n",
       "      <td>30 years or younger</td>\n",
       "      <td></td>\n",
       "      <td></td>\n",
       "      <td></td>\n",
       "    </tr>\n",
       "    <tr>\n",
       "      <th>discharge_disposition_id</th>\n",
       "      <td>Discharged to Home</td>\n",
       "      <td>Other</td>\n",
       "      <td></td>\n",
       "      <td></td>\n",
       "      <td></td>\n",
       "      <td></td>\n",
       "    </tr>\n",
       "    <tr>\n",
       "      <th>admission_source_id</th>\n",
       "      <td>Emergency</td>\n",
       "      <td>Referral</td>\n",
       "      <td>Other</td>\n",
       "      <td></td>\n",
       "      <td></td>\n",
       "      <td></td>\n",
       "    </tr>\n",
       "    <tr>\n",
       "      <th>medical_specialty</th>\n",
       "      <td>Missing</td>\n",
       "      <td>Other</td>\n",
       "      <td>InternalMedicine</td>\n",
       "      <td>Emergency/Trauma</td>\n",
       "      <td>Family/GeneralPractice</td>\n",
       "      <td>Cardiology</td>\n",
       "    </tr>\n",
       "    <tr>\n",
       "      <th>primary_diagnosis</th>\n",
       "      <td>Other</td>\n",
       "      <td>Respiratory Issues</td>\n",
       "      <td>Diabetes</td>\n",
       "      <td>Genitourinary Issues</td>\n",
       "      <td>Musculoskeletal Issues</td>\n",
       "      <td></td>\n",
       "    </tr>\n",
       "    <tr>\n",
       "      <th>max_glu_serum</th>\n",
       "      <td>None</td>\n",
       "      <td>Norm</td>\n",
       "      <td>&gt;200</td>\n",
       "      <td>&gt;300</td>\n",
       "      <td></td>\n",
       "      <td></td>\n",
       "    </tr>\n",
       "    <tr>\n",
       "      <th>A1Cresult</th>\n",
       "      <td>None</td>\n",
       "      <td>&gt;8</td>\n",
       "      <td>Norm</td>\n",
       "      <td>&gt;7</td>\n",
       "      <td></td>\n",
       "      <td></td>\n",
       "    </tr>\n",
       "    <tr>\n",
       "      <th>insulin</th>\n",
       "      <td>No</td>\n",
       "      <td>Steady</td>\n",
       "      <td>Down</td>\n",
       "      <td>Up</td>\n",
       "      <td></td>\n",
       "      <td></td>\n",
       "    </tr>\n",
       "    <tr>\n",
       "      <th>change</th>\n",
       "      <td>No</td>\n",
       "      <td>Ch</td>\n",
       "      <td></td>\n",
       "      <td></td>\n",
       "      <td></td>\n",
       "      <td></td>\n",
       "    </tr>\n",
       "    <tr>\n",
       "      <th>diabetesMed</th>\n",
       "      <td>Yes</td>\n",
       "      <td>No</td>\n",
       "      <td></td>\n",
       "      <td></td>\n",
       "      <td></td>\n",
       "      <td></td>\n",
       "    </tr>\n",
       "    <tr>\n",
       "      <th>medicare</th>\n",
       "      <td>False</td>\n",
       "      <td>True</td>\n",
       "      <td></td>\n",
       "      <td></td>\n",
       "      <td></td>\n",
       "      <td></td>\n",
       "    </tr>\n",
       "    <tr>\n",
       "      <th>medicaid</th>\n",
       "      <td>False</td>\n",
       "      <td>True</td>\n",
       "      <td></td>\n",
       "      <td></td>\n",
       "      <td></td>\n",
       "      <td></td>\n",
       "    </tr>\n",
       "    <tr>\n",
       "      <th>had_emergency</th>\n",
       "      <td>False</td>\n",
       "      <td>True</td>\n",
       "      <td></td>\n",
       "      <td></td>\n",
       "      <td></td>\n",
       "      <td></td>\n",
       "    </tr>\n",
       "    <tr>\n",
       "      <th>had_inpatient_days</th>\n",
       "      <td>False</td>\n",
       "      <td>True</td>\n",
       "      <td></td>\n",
       "      <td></td>\n",
       "      <td></td>\n",
       "      <td></td>\n",
       "    </tr>\n",
       "    <tr>\n",
       "      <th>had_outpatient_days</th>\n",
       "      <td>False</td>\n",
       "      <td>True</td>\n",
       "      <td></td>\n",
       "      <td></td>\n",
       "      <td></td>\n",
       "      <td></td>\n",
       "    </tr>\n",
       "    <tr>\n",
       "      <th>readmitted</th>\n",
       "      <td>NO</td>\n",
       "      <td>&gt;30</td>\n",
       "      <td>&lt;30</td>\n",
       "      <td></td>\n",
       "      <td></td>\n",
       "      <td></td>\n",
       "    </tr>\n",
       "    <tr>\n",
       "      <th>readmit_binary</th>\n",
       "      <td>0.000</td>\n",
       "      <td>1.000</td>\n",
       "      <td></td>\n",
       "      <td></td>\n",
       "      <td></td>\n",
       "      <td></td>\n",
       "    </tr>\n",
       "    <tr>\n",
       "      <th>readmit_30_days</th>\n",
       "      <td>0.000</td>\n",
       "      <td>1.000</td>\n",
       "      <td></td>\n",
       "      <td></td>\n",
       "      <td></td>\n",
       "      <td></td>\n",
       "    </tr>\n",
       "  </tbody>\n",
       "</table>\n",
       "</div>"
      ],
      "text/plain": [
       "                                           0                   1  \\\n",
       "race                               Caucasian     AfricanAmerican   \n",
       "gender                                Female                Male   \n",
       "age                            Over 60 years         30-60 years   \n",
       "discharge_disposition_id  Discharged to Home               Other   \n",
       "admission_source_id                Emergency            Referral   \n",
       "medical_specialty                    Missing               Other   \n",
       "primary_diagnosis                      Other  Respiratory Issues   \n",
       "max_glu_serum                           None                Norm   \n",
       "A1Cresult                               None                  >8   \n",
       "insulin                                   No              Steady   \n",
       "change                                    No                  Ch   \n",
       "diabetesMed                              Yes                  No   \n",
       "medicare                               False                True   \n",
       "medicaid                               False                True   \n",
       "had_emergency                          False                True   \n",
       "had_inpatient_days                     False                True   \n",
       "had_outpatient_days                    False                True   \n",
       "readmitted                                NO                 >30   \n",
       "readmit_binary                         0.000               1.000   \n",
       "readmit_30_days                        0.000               1.000   \n",
       "\n",
       "                                            2                     3  \\\n",
       "race                                  Unknown              Hispanic   \n",
       "gender                        Unknown/Invalid                         \n",
       "age                       30 years or younger                         \n",
       "discharge_disposition_id                                              \n",
       "admission_source_id                     Other                         \n",
       "medical_specialty            InternalMedicine      Emergency/Trauma   \n",
       "primary_diagnosis                    Diabetes  Genitourinary Issues   \n",
       "max_glu_serum                            >200                  >300   \n",
       "A1Cresult                                Norm                    >7   \n",
       "insulin                                  Down                    Up   \n",
       "change                                                                \n",
       "diabetesMed                                                           \n",
       "medicare                                                              \n",
       "medicaid                                                              \n",
       "had_emergency                                                         \n",
       "had_inpatient_days                                                    \n",
       "had_outpatient_days                                                   \n",
       "readmitted                                <30                         \n",
       "readmit_binary                                                        \n",
       "readmit_30_days                                                       \n",
       "\n",
       "                                               4           5  \n",
       "race                                       Other       Asian  \n",
       "gender                                                        \n",
       "age                                                           \n",
       "discharge_disposition_id                                      \n",
       "admission_source_id                                           \n",
       "medical_specialty         Family/GeneralPractice  Cardiology  \n",
       "primary_diagnosis         Musculoskeletal Issues              \n",
       "max_glu_serum                                                 \n",
       "A1Cresult                                                     \n",
       "insulin                                                       \n",
       "change                                                        \n",
       "diabetesMed                                                   \n",
       "medicare                                                      \n",
       "medicaid                                                      \n",
       "had_emergency                                                 \n",
       "had_inpatient_days                                            \n",
       "had_outpatient_days                                           \n",
       "readmitted                                                    \n",
       "readmit_binary                                                \n",
       "readmit_30_days                                               "
      ]
     },
     "execution_count": 8,
     "metadata": {},
     "output_type": "execute_result"
    }
   ],
   "source": [
    "# Show the values of all binary and categorical features\n",
    "categorical_values = {}\n",
    "for col in df:\n",
    "  if col not in {'time_in_hospital', 'num_lab_procedures',\n",
    "                 'num_procedures', 'num_medications', 'number_diagnoses'}:\n",
    "    categorical_values[col] = pd.Series(df[col].value_counts().index.values)\n",
    "categorical_values_df = pd.DataFrame(categorical_values).fillna('')\n",
    "categorical_values_df.T"
   ]
  },
  {
   "cell_type": "markdown",
   "metadata": {
    "id": "8loEiuFSWb8A"
   },
   "source": [
    "We mark all categorical features: "
   ]
  },
  {
   "cell_type": "code",
   "execution_count": 9,
   "metadata": {
    "id": "P4y1FRMdWduE"
   },
   "outputs": [],
   "source": [
    "categorical_features = [\n",
    "    \"race\",\n",
    "    \"gender\",\n",
    "    \"age\",\n",
    "    \"discharge_disposition_id\",\n",
    "    \"admission_source_id\",\n",
    "    \"medical_specialty\",\n",
    "    \"primary_diagnosis\",\n",
    "    \"max_glu_serum\",\n",
    "    \"A1Cresult\",\n",
    "    \"insulin\",\n",
    "    \"change\",\n",
    "    \"diabetesMed\",\n",
    "    \"readmitted\"\n",
    "]"
   ]
  },
  {
   "cell_type": "code",
   "execution_count": 10,
   "metadata": {
    "id": "Qyo3GQ4RWduG"
   },
   "outputs": [],
   "source": [
    "for col_name in categorical_features:\n",
    "  df[col_name] = df[col_name].astype(\"category\")"
   ]
  },
  {
   "cell_type": "markdown",
   "metadata": {
    "id": "6LTax67Em4q8"
   },
   "source": [
    "## Group sample sizes "
   ]
  },
  {
   "cell_type": "markdown",
   "metadata": {
    "id": "ft28kXKHm4q9"
   },
   "source": [
    "From the perspective of fairness assessment, a key data characteristic is the sample size of groups with respect to which we conduct fairness assessment.\n",
    "\n",
    "Small sample sizes have two implications:\n",
    "\n",
    "* **assessment**: the impacts of the AI system on smaller groups are harder to assess, because due to fewer data points we have a much larger uncertainty (error bars) in our estimates\n",
    "\n",
    "* **model training**: fewer training data points mean that our model fails to appropriately capture any data patterns specific to smaller groups, which means that its predictive performance on these groups could be worse\n",
    "\n",
    "Let's examine the sample sizes of the groups according to `race`:\n",
    "\n"
   ]
  },
  {
   "cell_type": "code",
   "execution_count": 11,
   "metadata": {
    "colab": {
     "base_uri": "https://localhost:8080/"
    },
    "id": "wEGJjCrOm4q9",
    "outputId": "a7430662-00d7-405b-b9af-1dcaf8fc5c28"
   },
   "outputs": [
    {
     "data": {
      "text/plain": [
       "Caucasian          76099\n",
       "AfricanAmerican    19210\n",
       "Unknown             2273\n",
       "Hispanic            2037\n",
       "Other               1506\n",
       "Asian                641\n",
       "Name: race, dtype: int64"
      ]
     },
     "execution_count": 11,
     "metadata": {},
     "output_type": "execute_result"
    }
   ],
   "source": [
    "df[\"race\"].value_counts()"
   ]
  },
  {
   "cell_type": "code",
   "execution_count": 12,
   "metadata": {
    "colab": {
     "base_uri": "https://localhost:8080/",
     "height": 330
    },
    "id": "HznSDLWEm4q-",
    "outputId": "009b8aea-9ae4-4810-eb13-67ac8efae163"
   },
   "outputs": [
    {
     "data": {
      "image/png": "[encoded data removed]",
      "text/plain": [
       "<Figure size 432x288 with 1 Axes>"
      ]
     },
     "metadata": {},
     "output_type": "display_data"
    }
   ],
   "source": [
    "df[\"race\"].value_counts().plot(kind='bar', rot=45);"
   ]
  },
  {
   "cell_type": "markdown",
   "metadata": {
    "id": "ZkI6KA3rm4q-"
   },
   "source": [
    "Normalized as frequencies:"
   ]
  },
  {
   "cell_type": "code",
   "execution_count": 13,
   "metadata": {
    "colab": {
     "base_uri": "https://localhost:8080/"
    },
    "id": "qE2UoDU3m4q-",
    "outputId": "c23f07b1-493d-4df2-db5a-06bc921eefde"
   },
   "outputs": [
    {
     "data": {
      "text/plain": [
       "Caucasian         0.748\n",
       "AfricanAmerican   0.189\n",
       "Unknown           0.022\n",
       "Hispanic          0.020\n",
       "Other             0.015\n",
       "Asian             0.006\n",
       "Name: race, dtype: float64"
      ]
     },
     "execution_count": 13,
     "metadata": {},
     "output_type": "execute_result"
    }
   ],
   "source": [
    "df[\"race\"].value_counts(normalize=True)"
   ]
  },
  {
   "cell_type": "markdown",
   "metadata": {
    "id": "DEUrg6J3m4q_"
   },
   "source": [
    "In our dataset, our patients are predominantly *Caucasian* (75%). The next largest racial group is *AfricanAmerican*, making up 19% of the patients. The remaining race categories (including *Unknown*) compose only 6% of the data."
   ]
  },
  {
   "cell_type": "markdown",
   "metadata": {
    "id": "xIdDhgtAm4rA"
   },
   "source": [
    "We also examine the dataset composition by `gender`:"
   ]
  },
  {
   "cell_type": "code",
   "execution_count": 14,
   "metadata": {
    "colab": {
     "base_uri": "https://localhost:8080/"
    },
    "id": "0h26CH50m4rA",
    "outputId": "20d290a6-c8a7-4d21-c676-2a6f552bc3a6"
   },
   "outputs": [
    {
     "data": {
      "text/plain": [
       "Female             54708\n",
       "Male               47055\n",
       "Unknown/Invalid        3\n",
       "Name: gender, dtype: int64"
      ]
     },
     "execution_count": 14,
     "metadata": {},
     "output_type": "execute_result"
    }
   ],
   "source": [
    "df[\"gender\"].value_counts() # counts"
   ]
  },
  {
   "cell_type": "code",
   "execution_count": 15,
   "metadata": {
    "colab": {
     "base_uri": "https://localhost:8080/"
    },
    "id": "UTbI5v48m4rA",
    "outputId": "e69992ee-8b33-4aef-a903-b51eb63094e8"
   },
   "outputs": [
    {
     "data": {
      "text/plain": [
       "Female            0.538\n",
       "Male              0.462\n",
       "Unknown/Invalid   0.000\n",
       "Name: gender, dtype: float64"
      ]
     },
     "execution_count": 15,
     "metadata": {},
     "output_type": "execute_result"
    }
   ],
   "source": [
    "df[\"gender\"].value_counts(normalize=True) # frequencies"
   ]
  },
  {
   "cell_type": "markdown",
   "metadata": {
    "id": "i3xBANdpm4rA"
   },
   "source": [
    "Gender is in our case effectively binary (and we have no further information how it was operationalized), with both *Female* represented at 54% and *Male* represented at 46%. There are only 3 samples annotated as *Unknown/Invalid*."
   ]
  },
  {
   "cell_type": "markdown",
   "metadata": {
    "id": "NyLBXpKWm4rA"
   },
   "source": [
    "### Decision point: How do we address smaller group sizes?"
   ]
  },
  {
   "cell_type": "markdown",
   "metadata": {
    "id": "wT-BPQ2Gm4rB"
   },
   "source": [
    "When the data set lacks coverage of certain groups, it means that we will not be able to reliably assess any fairness-related issues. There are three interventions (which could be carried out in a combination):\n",
    "\n",
    "* **collect more data**: collect more data for groups with fewer samples\n",
    "* **buckets**: merge some of the groups\n",
    "* **drop small groups**\n",
    "\n",
    "The choice of strategy depends on our existing understanding of which groups are at the greatest risk of a harm. In particular, pooling the groups with widely different risks could mask the extent of harms. We generally caution against dropping small groups as this leads to the representational harm of erasure.\n",
    "\n",
    "If any groups are merged or dropped, these decisions should be annotated / explained (in the datasheet or other documentation process).\n",
    "\n",
    "In our case, we will:\n",
    "\n",
    "* merge the three smallest race groups *Asian*, *Hispanic*, *Other* (similar to [Strack et al., 2014](https://www.hindawi.com/journals/bmri/2014/781670/)), but also retain the original groups for auxiliary assessments\n",
    "\n",
    "* drop the gender group *Unknown/Invalid*, because the sample size is so small that no meaningful fairness assessment is possible"
   ]
  },
  {
   "cell_type": "code",
   "execution_count": 16,
   "metadata": {
    "id": "iBN_fIhpm4rB"
   },
   "outputs": [],
   "source": [
    "# drop gender group Unknown/Invalid\n",
    "df = df.query(\"gender != 'Unknown/Invalid'\")\n",
    "\n",
    "# retain the original race as race_all, and merge Asian+Hispanic+Other \n",
    "df[\"race_all\"] = df[\"race\"]\n",
    "df[\"race\"] = df[\"race\"].replace({\"Asian\": \"Other\", \"Hispanic\": \"Other\"})"
   ]
  },
  {
   "cell_type": "markdown",
   "metadata": {
    "id": "3i9KdmTWKUJZ"
   },
   "source": [
    "## Label imbalance\n",
    "\n"
   ]
  },
  {
   "cell_type": "markdown",
   "metadata": {
    "id": "ViGqA5VTGrEo"
   },
   "source": [
    "Now that we have established the validity of our label, we will check frequency of its values in our data. The frequency of different labels is an important descriptive characteristic in classification settings for several reasons:\n",
    "\n",
    "* some classification algorithms and performance measures might not work well with data sets with extreme class imbalance\n",
    "* in binary classification settings, our ability to evaluate error is often driven by the size of the smaller of the two classes (again, the smaller the sample the larger the uncertainty in estimates)\n",
    "* label imbalance may exacerbate the problems due to smaller group sizes in fairness assessment\n",
    "\n"
   ]
  },
  {
   "cell_type": "markdown",
   "metadata": {
    "id": "cos3--59EiZt"
   },
   "source": [
    "Let's check how many samples in our data are labeled as positive and how many as negative."
   ]
  },
  {
   "cell_type": "code",
   "execution_count": 17,
   "metadata": {
    "colab": {
     "base_uri": "https://localhost:8080/"
    },
    "id": "eR5ULLYGE4UK",
    "outputId": "02f2e533-2a7f-44af-e57f-c24c7b8b4d4d"
   },
   "outputs": [
    {
     "data": {
      "text/plain": [
       "0    90406\n",
       "1    11357\n",
       "Name: readmit_30_days, dtype: int64"
      ]
     },
     "execution_count": 17,
     "metadata": {},
     "output_type": "execute_result"
    }
   ],
   "source": [
    "df[\"readmit_30_days\"].value_counts() # counts"
   ]
  },
  {
   "cell_type": "code",
   "execution_count": 18,
   "metadata": {
    "colab": {
     "base_uri": "https://localhost:8080/"
    },
    "id": "0UWBbg4Cz90t",
    "outputId": "a0e1e14b-47f9-4f49-da41-ba53a7a63082"
   },
   "outputs": [
    {
     "data": {
      "text/plain": [
       "0   0.888\n",
       "1   0.112\n",
       "Name: readmit_30_days, dtype: float64"
      ]
     },
     "execution_count": 18,
     "metadata": {},
     "output_type": "execute_result"
    }
   ],
   "source": [
    "df[\"readmit_30_days\"].value_counts(normalize=True) # frequencies"
   ]
  },
  {
   "cell_type": "markdown",
   "metadata": {
    "id": "b-_K_KHXz9MR"
   },
   "source": [
    "As we can see, the target label is heavily skewed towards the patients not being readmitted within 30 days. In our dataset, only 11% of patients were readmitted within 30 days.\n",
    "\n",
    "Since there are fewer positive examples, we expect that we will have a much larger uncertainty (error bars) in our estimates of *false negative rates* (FNR), compared with *false positive rates* (FPR). This means that there will be larger differences between training FNR and test FNR, even if there is no overfitting, simply because of the smaller sample sizes. \n",
    "\n",
    "Our target metric is *balanced error rate*, which is the average of FPR and FNR. The value of this metric is robust to different frequencies of positives and negatives. However, since half of the metric is contributed by FNR, we expect the uncertainty in balanced error values to behave similarly to the uncertainty of FNR."
   ]
  },
  {
   "cell_type": "markdown",
   "metadata": {
    "id": "OkopoyE3GQ8g"
   },
   "source": [
    "Now, let's examine how much the label frequencies vary within each group defined by `race`:"
   ]
  },
  {
   "cell_type": "code",
   "execution_count": 19,
   "metadata": {
    "colab": {
     "base_uri": "https://localhost:8080/",
     "height": 285
    },
    "id": "tcH3Mxwmm4rC",
    "outputId": "75641d75-670d-4a81-a354-855f80c38613"
   },
   "outputs": [
    {
     "data": {
      "image/png": "[encoded data removed]",
      "text/plain": [
       "<Figure size 432x288 with 1 Axes>"
      ]
     },
     "metadata": {},
     "output_type": "display_data"
    }
   ],
   "source": [
    "sns.barplot(x=\"readmit_30_days\", y=\"race\", data=df, ci=95);"
   ]
  },
  {
   "cell_type": "markdown",
   "metadata": {
    "id": "ox06aTMmm4rB"
   },
   "source": [
    "We see the rate of *30-day readmission* is similar for the *AfricanAmerican* and *Caucasian* groups, but appears smaller for *Other* and smallest for *Unknown* (this is consistent with an overall lower rate of hospital visits in the prior year). The smaller sample size of the *Other* and *Unknown* groups mean that there is more uncertainty around the estimate for these two groups."
   ]
  },
  {
   "cell_type": "markdown",
   "metadata": {
    "id": "HB7zfhA1UKiW"
   },
   "source": [
    "# Training the initial model"
   ]
  },
  {
   "cell_type": "markdown",
   "metadata": {
    "id": "0f7jZOzGX24Z"
   },
   "source": [
    "We next train a classification model to predict our target variable (readmission within 30 days) while optimizing balanced accuracy.\n",
    "\n",
    "What kind of model should we train? Deep neural nets? Random forests? Logistic regression?\n",
    "\n",
    "There are a variety of considerations. We highlight two:\n",
    "\n",
    "* **Interpretability.** Interpretability is tightly linked with questions of fairness. There are several reasons why it is important to have interpretable models that are open to the stakeholder scrutiny:\n",
    "  * It allows discovery of fairness issues that were not discovered by the data science team.\n",
    "  * It provides a path toward recourse for those that are affected by the model.\n",
    "  * It allows for a *face validity* check, a \"sniff test\", by experts to verify that the model \"makes sense\" (at the face value). While this step is subjective, it is really important when the model is applied to different populations than those on which the assessment was conducted.\n",
    "\n",
    "* **Model expressiveness.** How well can the model separate positive examples from negative examples? How well can it do so given the available dataset size? Can it do so across all groups or does it need to trade off performance on one group against performance on another group?\n",
    "\n",
    "Some additional considerations are training time (this impacts the ability to iterate), familiarity (this impacts the ability to fine tune and debug), and carbon footprint (this impacts the Earth climate both directly and indirectly by normalizing unnecessarily heavy workloads)."
   ]
  },
  {
   "cell_type": "markdown",
   "metadata": {
    "id": "7hbsqXap9Mzp"
   },
   "source": [
    "### Decision point: Model type"
   ]
  },
  {
   "cell_type": "markdown",
   "metadata": {
    "id": "iftAwdfoVDM0"
   },
   "source": [
    "We will use a logistic regression model. Our reasoning:\n",
    "\n",
    "* **Interpretability**. Logistic models over a small number of variables (as used here) are highly interpretable in the sense that stakeholders can simulate them easily.\n",
    "\n",
    "* **Model expressiveness**. Logistic regression predictions are described by a linear weighting of the feature values. The concern might be that this is too simple. The previous work by [Strack et al. (2014)](https://www.hindawi.com/journals/bmri/2014/781670/), which also used a logistic model to predict readmission rates concluded that a slightly more expressive model might be useful (their analysis uncovered 8 pairwise interactions that were significant, see their Table 5)."
   ]
  },
  {
   "cell_type": "markdown",
   "metadata": {
    "id": "52wWLOFoXkho"
   },
   "source": [
    "## Prepare training and test datasets"
   ]
  },
  {
   "cell_type": "markdown",
   "metadata": {
    "id": "vCwtDyx8yqSG"
   },
   "source": [
    "As we mentioned in the task definition, our target variable is **readmission within 30 days**, and our sensitive feature for the purposes of fairness assessment is **race**.\n"
   ]
  },
  {
   "cell_type": "code",
   "execution_count": 20,
   "metadata": {
    "id": "WpiSRj2JyqSH"
   },
   "outputs": [],
   "source": [
    "target_variable = \"readmit_30_days\"\n",
    "demographic = [\"race\", \"gender\"]\n",
    "sensitive = [\"race\"]\n",
    "# If multiple sensitive features are chosen, the rest of the script considers intersectional groups."
   ]
  },
  {
   "cell_type": "code",
   "execution_count": 21,
   "metadata": {
    "id": "uaNqDyqvi1QE"
   },
   "outputs": [],
   "source": [
    "Y, A = df.loc[:, target_variable], df.loc[:, sensitive]"
   ]
  },
  {
   "cell_type": "markdown",
   "metadata": {
    "id": "niu49A9YXQmf"
   },
   "source": [
    "We next drop the features that we don't want to use in our model and expand the categorical features into 0/1 indicators (\"dummies\")."
   ]
  },
  {
   "cell_type": "code",
   "execution_count": 22,
   "metadata": {
    "id": "JXyRuCsri1cY"
   },
   "outputs": [],
   "source": [
    "X = pd.get_dummies(df.drop(columns=[\n",
    "    \"race\",\n",
    "    \"race_all\",\n",
    "    \"discharge_disposition_id\",\n",
    "    \"readmitted\",\n",
    "    \"readmit_binary\",\n",
    "    \"readmit_30_days\"\n",
    "]))"
   ]
  },
  {
   "cell_type": "code",
   "execution_count": 23,
   "metadata": {
    "colab": {
     "base_uri": "https://localhost:8080/",
     "height": 274
    },
    "id": "kAA0sIhQUWFa",
    "outputId": "73d62224-bf2e-40d2-a29a-8909e26d3cf9"
   },
   "outputs": [
    {
     "data": {
      "text/html": [
       "<div>\n",
       "<style scoped>\n",
       "    .dataframe tbody tr th:only-of-type {\n",
       "        vertical-align: middle;\n",
       "    }\n",
       "\n",
       "    .dataframe tbody tr th {\n",
       "        vertical-align: top;\n",
       "    }\n",
       "\n",
       "    .dataframe thead th {\n",
       "        text-align: right;\n",
       "    }\n",
       "</style>\n",
       "<table border=\"1\" class=\"dataframe\">\n",
       "  <thead>\n",
       "    <tr style=\"text-align: right;\">\n",
       "      <th></th>\n",
       "      <th>time_in_hospital</th>\n",
       "      <th>num_lab_procedures</th>\n",
       "      <th>num_procedures</th>\n",
       "      <th>num_medications</th>\n",
       "      <th>number_diagnoses</th>\n",
       "      <th>medicare</th>\n",
       "      <th>medicaid</th>\n",
       "      <th>had_emergency</th>\n",
       "      <th>had_inpatient_days</th>\n",
       "      <th>had_outpatient_days</th>\n",
       "      <th>...</th>\n",
       "      <th>A1Cresult_None</th>\n",
       "      <th>A1Cresult_Norm</th>\n",
       "      <th>insulin_Down</th>\n",
       "      <th>insulin_No</th>\n",
       "      <th>insulin_Steady</th>\n",
       "      <th>insulin_Up</th>\n",
       "      <th>change_Ch</th>\n",
       "      <th>change_No</th>\n",
       "      <th>diabetesMed_No</th>\n",
       "      <th>diabetesMed_Yes</th>\n",
       "    </tr>\n",
       "  </thead>\n",
       "  <tbody>\n",
       "    <tr>\n",
       "      <th>0</th>\n",
       "      <td>1</td>\n",
       "      <td>41</td>\n",
       "      <td>0</td>\n",
       "      <td>1</td>\n",
       "      <td>1</td>\n",
       "      <td>False</td>\n",
       "      <td>False</td>\n",
       "      <td>False</td>\n",
       "      <td>False</td>\n",
       "      <td>False</td>\n",
       "      <td>...</td>\n",
       "      <td>1</td>\n",
       "      <td>0</td>\n",
       "      <td>0</td>\n",
       "      <td>1</td>\n",
       "      <td>0</td>\n",
       "      <td>0</td>\n",
       "      <td>0</td>\n",
       "      <td>1</td>\n",
       "      <td>1</td>\n",
       "      <td>0</td>\n",
       "    </tr>\n",
       "    <tr>\n",
       "      <th>1</th>\n",
       "      <td>3</td>\n",
       "      <td>59</td>\n",
       "      <td>0</td>\n",
       "      <td>18</td>\n",
       "      <td>9</td>\n",
       "      <td>False</td>\n",
       "      <td>False</td>\n",
       "      <td>False</td>\n",
       "      <td>False</td>\n",
       "      <td>False</td>\n",
       "      <td>...</td>\n",
       "      <td>1</td>\n",
       "      <td>0</td>\n",
       "      <td>0</td>\n",
       "      <td>0</td>\n",
       "      <td>0</td>\n",
       "      <td>1</td>\n",
       "      <td>1</td>\n",
       "      <td>0</td>\n",
       "      <td>0</td>\n",
       "      <td>1</td>\n",
       "    </tr>\n",
       "    <tr>\n",
       "      <th>2</th>\n",
       "      <td>2</td>\n",
       "      <td>11</td>\n",
       "      <td>5</td>\n",
       "      <td>13</td>\n",
       "      <td>6</td>\n",
       "      <td>False</td>\n",
       "      <td>False</td>\n",
       "      <td>False</td>\n",
       "      <td>True</td>\n",
       "      <td>True</td>\n",
       "      <td>...</td>\n",
       "      <td>1</td>\n",
       "      <td>0</td>\n",
       "      <td>0</td>\n",
       "      <td>1</td>\n",
       "      <td>0</td>\n",
       "      <td>0</td>\n",
       "      <td>0</td>\n",
       "      <td>1</td>\n",
       "      <td>0</td>\n",
       "      <td>1</td>\n",
       "    </tr>\n",
       "    <tr>\n",
       "      <th>3</th>\n",
       "      <td>2</td>\n",
       "      <td>44</td>\n",
       "      <td>1</td>\n",
       "      <td>16</td>\n",
       "      <td>7</td>\n",
       "      <td>False</td>\n",
       "      <td>False</td>\n",
       "      <td>False</td>\n",
       "      <td>False</td>\n",
       "      <td>False</td>\n",
       "      <td>...</td>\n",
       "      <td>1</td>\n",
       "      <td>0</td>\n",
       "      <td>0</td>\n",
       "      <td>0</td>\n",
       "      <td>0</td>\n",
       "      <td>1</td>\n",
       "      <td>1</td>\n",
       "      <td>0</td>\n",
       "      <td>0</td>\n",
       "      <td>1</td>\n",
       "    </tr>\n",
       "    <tr>\n",
       "      <th>4</th>\n",
       "      <td>1</td>\n",
       "      <td>51</td>\n",
       "      <td>0</td>\n",
       "      <td>8</td>\n",
       "      <td>5</td>\n",
       "      <td>False</td>\n",
       "      <td>False</td>\n",
       "      <td>False</td>\n",
       "      <td>False</td>\n",
       "      <td>False</td>\n",
       "      <td>...</td>\n",
       "      <td>1</td>\n",
       "      <td>0</td>\n",
       "      <td>0</td>\n",
       "      <td>0</td>\n",
       "      <td>1</td>\n",
       "      <td>0</td>\n",
       "      <td>1</td>\n",
       "      <td>0</td>\n",
       "      <td>0</td>\n",
       "      <td>1</td>\n",
       "    </tr>\n",
       "  </tbody>\n",
       "</table>\n",
       "<p>5 rows × 46 columns</p>\n",
       "</div>"
      ],
      "text/plain": [
       "   time_in_hospital  num_lab_procedures  num_procedures  num_medications  \\\n",
       "0                 1                  41               0                1   \n",
       "1                 3                  59               0               18   \n",
       "2                 2                  11               5               13   \n",
       "3                 2                  44               1               16   \n",
       "4                 1                  51               0                8   \n",
       "\n",
       "   number_diagnoses  medicare  medicaid  had_emergency  had_inpatient_days  \\\n",
       "0                 1     False     False          False               False   \n",
       "1                 9     False     False          False               False   \n",
       "2                 6     False     False          False                True   \n",
       "3                 7     False     False          False               False   \n",
       "4                 5     False     False          False               False   \n",
       "\n",
       "   had_outpatient_days  ...  A1Cresult_None  A1Cresult_Norm  insulin_Down  \\\n",
       "0                False  ...               1               0             0   \n",
       "1                False  ...               1               0             0   \n",
       "2                 True  ...               1               0             0   \n",
       "3                False  ...               1               0             0   \n",
       "4                False  ...               1               0             0   \n",
       "\n",
       "   insulin_No  insulin_Steady  insulin_Up  change_Ch  change_No  \\\n",
       "0           1               0           0          0          1   \n",
       "1           0               0           1          1          0   \n",
       "2           1               0           0          0          1   \n",
       "3           0               0           1          1          0   \n",
       "4           0               1           0          1          0   \n",
       "\n",
       "   diabetesMed_No  diabetesMed_Yes  \n",
       "0               1                0  \n",
       "1               0                1  \n",
       "2               0                1  \n",
       "3               0                1  \n",
       "4               0                1  \n",
       "\n",
       "[5 rows x 46 columns]"
      ]
     },
     "execution_count": 23,
     "metadata": {},
     "output_type": "execute_result"
    }
   ],
   "source": [
    "X.head() # sanity check"
   ]
  },
  {
   "cell_type": "markdown",
   "metadata": {
    "id": "ATzi8cKCD7V3"
   },
   "source": [
    "We split our data into a training and test portion. The test portion will be used to evaluate our performance metric (i.e., balanced accuracy), but also for fairness assessment. The split is half/half for training and test to ensure that we have sufficient sample sizes for fairness assessment."
   ]
  },
  {
   "cell_type": "code",
   "execution_count": 24,
   "metadata": {
    "id": "-wpnURazmJ4-"
   },
   "outputs": [],
   "source": [
    "random_seed = 445\n",
    "np.random.seed(random_seed)"
   ]
  },
  {
   "cell_type": "code",
   "execution_count": 25,
   "metadata": {
    "id": "xgl_b-CUl7TW"
   },
   "outputs": [],
   "source": [
    "X_train, X_test, Y_train, Y_test, A_train, A_test, df_train, df_test = train_test_split(\n",
    "    X,\n",
    "    Y,\n",
    "    A,\n",
    "    df,\n",
    "    test_size=0.50,\n",
    "    stratify=Y,\n",
    "    random_state=random_seed\n",
    ")"
   ]
  },
  {
   "cell_type": "markdown",
   "metadata": {
    "id": "eSMbXR9iVqr8"
   },
   "source": [
    "Our performance metric is **balanced accuracy**, so for the purposes of training (but not evaluation!) we will resample the data set, so that it has the same number of positive and negative examples. This means that we can use estimators that optimize standard accuracy (although some estimators allow the use us importance weights).\n"
   ]
  },
  {
   "cell_type": "markdown",
   "metadata": {
    "id": "nPNQpb2ZN1ku"
   },
   "source": [
    "Because we are downsampling the number of negative examples, we create a training dataset with a significantly lower number of data points. For more complex machine learning models, this lower number of training data points may affect the model's accuracy."
   ]
  },
  {
   "cell_type": "code",
   "execution_count": 26,
   "metadata": {
    "id": "L1aVgzyFNa4B"
   },
   "outputs": [],
   "source": [
    "def resample_dataset(X_train, Y_train, A_train):\n",
    "\n",
    "  negative_ids = Y_train[Y_train == 0].index\n",
    "  positive_ids = Y_train[Y_train == 1].index\n",
    "  balanced_ids = positive_ids.union(np.random.choice(a=negative_ids, size=len(positive_ids)))\n",
    "\n",
    "  X_train = X_train.loc[balanced_ids, :]\n",
    "  Y_train = Y_train.loc[balanced_ids]\n",
    "  A_train = A_train.loc[balanced_ids, :]\n",
    "  return X_train, Y_train, A_train"
   ]
  },
  {
   "cell_type": "code",
   "execution_count": 27,
   "metadata": {
    "id": "6Ogw-r3DQsds"
   },
   "outputs": [],
   "source": [
    "X_train_bal, Y_train_bal, A_train_bal = resample_dataset(X_train, Y_train, A_train)"
   ]
  },
  {
   "cell_type": "markdown",
   "metadata": {
    "id": "4V523GQbYobT"
   },
   "source": [
    "## Train the model"
   ]
  },
  {
   "cell_type": "markdown",
   "metadata": {
    "id": "g7jwN2cVbO0g"
   },
   "source": [
    "We train a logistic regression model and save its predictions on test data for analysis."
   ]
  },
  {
   "cell_type": "code",
   "execution_count": 28,
   "metadata": {
    "id": "f6nKDzt164vw"
   },
   "outputs": [],
   "source": [
    "unmitigated_pipeline = Pipeline(steps=[\n",
    "    (\"preprocessing\", StandardScaler()),\n",
    "    (\"logistic_regression\", LogisticRegression(max_iter=1000))\n",
    "])"
   ]
  },
  {
   "cell_type": "code",
   "execution_count": 29,
   "metadata": {
    "colab": {
     "base_uri": "https://localhost:8080/",
     "height": 111
    },
    "id": "ld9clGbHl7tv",
    "outputId": "89fa7f0d-680f-424f-a7cd-96686987a943"
   },
   "outputs": [
    {
     "data": {
      "text/html": [
       "<style>#sk-6c1321cd-d0d3-48f5-8cb6-d26cbfb6a0be {color: black;background-color: white;}#sk-6c1321cd-d0d3-48f5-8cb6-d26cbfb6a0be pre{padding: 0;}#sk-6c1321cd-d0d3-48f5-8cb6-d26cbfb6a0be div.sk-toggleable {background-color: white;}#sk-6c1321cd-d0d3-48f5-8cb6-d26cbfb6a0be label.sk-toggleable__label {cursor: pointer;display: block;width: 100%;margin-bottom: 0;padding: 0.3em;box-sizing: border-box;text-align: center;}#sk-6c1321cd-d0d3-48f5-8cb6-d26cbfb6a0be div.sk-toggleable__content {max-height: 0;max-width: 0;overflow: hidden;text-align: left;background-color: #f0f8ff;}#sk-6c1321cd-d0d3-48f5-8cb6-d26cbfb6a0be div.sk-toggleable__content pre {margin: 0.2em;color: black;border-radius: 0.25em;background-color: #f0f8ff;}#sk-6c1321cd-d0d3-48f5-8cb6-d26cbfb6a0be input.sk-toggleable__control:checked~div.sk-toggleable__content {max-height: 200px;max-width: 100%;overflow: auto;}#sk-6c1321cd-d0d3-48f5-8cb6-d26cbfb6a0be div.sk-estimator input.sk-toggleable__control:checked~label.sk-toggleable__label {background-color: #d4ebff;}#sk-6c1321cd-d0d3-48f5-8cb6-d26cbfb6a0be div.sk-label input.sk-toggleable__control:checked~label.sk-toggleable__label {background-color: #d4ebff;}#sk-6c1321cd-d0d3-48f5-8cb6-d26cbfb6a0be input.sk-hidden--visually {border: 0;clip: rect(1px 1px 1px 1px);clip: rect(1px, 1px, 1px, 1px);height: 1px;margin: -1px;overflow: hidden;padding: 0;position: absolute;width: 1px;}#sk-6c1321cd-d0d3-48f5-8cb6-d26cbfb6a0be div.sk-estimator {font-family: monospace;background-color: #f0f8ff;border: 1px dotted black;border-radius: 0.25em;box-sizing: border-box;margin-bottom: 0.5em;}#sk-6c1321cd-d0d3-48f5-8cb6-d26cbfb6a0be div.sk-estimator:hover {background-color: #d4ebff;}#sk-6c1321cd-d0d3-48f5-8cb6-d26cbfb6a0be div.sk-parallel-item::after {content: \"\";width: 100%;border-bottom: 1px solid gray;flex-grow: 1;}#sk-6c1321cd-d0d3-48f5-8cb6-d26cbfb6a0be div.sk-label:hover label.sk-toggleable__label {background-color: #d4ebff;}#sk-6c1321cd-d0d3-48f5-8cb6-d26cbfb6a0be div.sk-serial::before {content: \"\";position: absolute;border-left: 1px solid gray;box-sizing: border-box;top: 2em;bottom: 0;left: 50%;}#sk-6c1321cd-d0d3-48f5-8cb6-d26cbfb6a0be div.sk-serial {display: flex;flex-direction: column;align-items: center;background-color: white;padding-right: 0.2em;padding-left: 0.2em;}#sk-6c1321cd-d0d3-48f5-8cb6-d26cbfb6a0be div.sk-item {z-index: 1;}#sk-6c1321cd-d0d3-48f5-8cb6-d26cbfb6a0be div.sk-parallel {display: flex;align-items: stretch;justify-content: center;background-color: white;}#sk-6c1321cd-d0d3-48f5-8cb6-d26cbfb6a0be div.sk-parallel::before {content: \"\";position: absolute;border-left: 1px solid gray;box-sizing: border-box;top: 2em;bottom: 0;left: 50%;}#sk-6c1321cd-d0d3-48f5-8cb6-d26cbfb6a0be div.sk-parallel-item {display: flex;flex-direction: column;position: relative;background-color: white;}#sk-6c1321cd-d0d3-48f5-8cb6-d26cbfb6a0be div.sk-parallel-item:first-child::after {align-self: flex-end;width: 50%;}#sk-6c1321cd-d0d3-48f5-8cb6-d26cbfb6a0be div.sk-parallel-item:last-child::after {align-self: flex-start;width: 50%;}#sk-6c1321cd-d0d3-48f5-8cb6-d26cbfb6a0be div.sk-parallel-item:only-child::after {width: 0;}#sk-6c1321cd-d0d3-48f5-8cb6-d26cbfb6a0be div.sk-dashed-wrapped {border: 1px dashed gray;margin: 0 0.4em 0.5em 0.4em;box-sizing: border-box;padding-bottom: 0.4em;background-color: white;position: relative;}#sk-6c1321cd-d0d3-48f5-8cb6-d26cbfb6a0be div.sk-label label {font-family: monospace;font-weight: bold;background-color: white;display: inline-block;line-height: 1.2em;}#sk-6c1321cd-d0d3-48f5-8cb6-d26cbfb6a0be div.sk-label-container {position: relative;z-index: 2;text-align: center;}#sk-6c1321cd-d0d3-48f5-8cb6-d26cbfb6a0be div.sk-container {display: inline-block;position: relative;}</style><div id=\"sk-6c1321cd-d0d3-48f5-8cb6-d26cbfb6a0be\" class\"sk-top-container\"><div class=\"sk-container\"><div class=\"sk-item sk-dashed-wrapped\"><div class=\"sk-label-container\"><div class=\"sk-label sk-toggleable\"><input class=\"sk-toggleable__control sk-hidden--visually\" id=\"761e74ba-8e9e-4639-909a-2ab554d13232\" type=\"checkbox\" ><label class=\"sk-toggleable__label\" for=\"761e74ba-8e9e-4639-909a-2ab554d13232\">Pipeline</label><div class=\"sk-toggleable__content\"><pre>Pipeline(steps=[('preprocessing', StandardScaler()),\n",
       "                ('logistic_regression', LogisticRegression(max_iter=1000))])</pre></div></div></div><div class=\"sk-serial\"><div class=\"sk-item\"><div class=\"sk-estimator sk-toggleable\"><input class=\"sk-toggleable__control sk-hidden--visually\" id=\"19806d25-de5b-4f7b-823c-6cea6189af29\" type=\"checkbox\" ><label class=\"sk-toggleable__label\" for=\"19806d25-de5b-4f7b-823c-6cea6189af29\">StandardScaler</label><div class=\"sk-toggleable__content\"><pre>StandardScaler()</pre></div></div></div><div class=\"sk-item\"><div class=\"sk-estimator sk-toggleable\"><input class=\"sk-toggleable__control sk-hidden--visually\" id=\"50d71de4-b736-4571-8e30-4f0554dafbf3\" type=\"checkbox\" ><label class=\"sk-toggleable__label\" for=\"50d71de4-b736-4571-8e30-4f0554dafbf3\">LogisticRegression</label><div class=\"sk-toggleable__content\"><pre>LogisticRegression(max_iter=1000)</pre></div></div></div></div></div></div></div>"
      ],
      "text/plain": [
       "Pipeline(steps=[('preprocessing', StandardScaler()),\n",
       "                ('logistic_regression', LogisticRegression(max_iter=1000))])"
      ]
     },
     "execution_count": 29,
     "metadata": {},
     "output_type": "execute_result"
    }
   ],
   "source": [
    "unmitigated_pipeline.fit(X_train_bal, Y_train_bal)"
   ]
  },
  {
   "cell_type": "code",
   "execution_count": 30,
   "metadata": {
    "id": "Ok-eREU0xbAD"
   },
   "outputs": [],
   "source": [
    "Y_pred_proba = unmitigated_pipeline.predict_proba(X_test)[:,1]\n",
    "Y_pred = unmitigated_pipeline.predict(X_test)"
   ]
  },
  {
   "cell_type": "markdown",
   "metadata": {
    "id": "nkA0K8KV0HeD"
   },
   "source": [
    "Check model performance on test data."
   ]
  },
  {
   "cell_type": "code",
   "execution_count": 31,
   "metadata": {
    "colab": {
     "base_uri": "https://localhost:8080/",
     "height": 285
    },
    "id": "nz7QJOLx0RVH",
    "outputId": "ef446998-8269-4e9b-c8ba-43a777b947d8"
   },
   "outputs": [
    {
     "data": {
      "image/png": "[encoded data removed]",
      "text/plain": [
       "<Figure size 432x288 with 1 Axes>"
      ]
     },
     "metadata": {},
     "output_type": "display_data"
    }
   ],
   "source": [
    "# Plot ROC curve of probabilistic predictions\n",
    "plot_roc_curve(unmitigated_pipeline, X_test, Y_test);"
   ]
  },
  {
   "cell_type": "code",
   "execution_count": 32,
   "metadata": {
    "colab": {
     "base_uri": "https://localhost:8080/"
    },
    "id": "pxYppCAy1owq",
    "outputId": "b9febbe3-8016-43a7-c14a-98a94f05716a"
   },
   "outputs": [
    {
     "data": {
      "text/plain": [
       "0.5937900251950625"
      ]
     },
     "execution_count": 32,
     "metadata": {},
     "output_type": "execute_result"
    }
   ],
   "source": [
    "# Show balanced accuracy rate of the 0/1 predictions\n",
    "balanced_accuracy_score(Y_test, Y_pred)"
   ]
  },
  {
   "cell_type": "markdown",
   "metadata": {
    "id": "jmWrDs5N2HVD"
   },
   "source": [
    "As we see, the performance of the model is well above the performance of a coin flip (whose performance would be 0.5 in both cases), albeit it is quite far from a perfect classifier (whose performance would be 1.0 in both cases).\n"
   ]
  },
  {
   "cell_type": "markdown",
   "metadata": {
    "id": "hX8CrWjhD7MB"
   },
   "source": [
    "# **Fairness assessment**"
   ]
  },
  {
   "cell_type": "markdown",
   "metadata": {
    "id": "0CS9-jaxtxh2"
   },
   "source": [
    "## Measuring fairness-related harms\n",
    "\n",
    "\n",
    "\n"
   ]
  },
  {
   "cell_type": "markdown",
   "metadata": {
    "id": "s8TMm9w8duVY"
   },
   "source": [
    "The goal of fairness assessment is to answer the question: *Which groups of people may be disproportionately negatively impacted by an AI system and in what ways?*\n",
    "\n",
    "The steps of the assesment are as follows:\n",
    "1. Identify harms\n",
    "2. Identify the groups that might be harmed\n",
    "3. Quantify harms\n",
    "4. Compare quantified harms across the groups\n",
    "\n",
    "We next examine these four steps in more detail."
   ]
  },
  {
   "cell_type": "markdown",
   "metadata": {
    "id": "X6hMFmzmPbL6"
   },
   "source": [
    "### 1. Identify harms\n",
    "\n",
    "For example, in a system for screening job applications, qualified candidates that are automatically rejected experience an allocation harm. In a speech-to-text transcription system, high error rates constitute harm in the quality of service.\n",
    "\n",
    "**In the health care scenario**, the patients that would benefit from a care management program, but are not recommended for it experience an allocation harm. In the context of the classification scenario these are **FALSE NEGATIVES**."
   ]
  },
  {
   "cell_type": "markdown",
   "metadata": {
    "id": "aqqUk1mjPnpM"
   },
   "source": [
    "### 2. Identify the groups that might be harmed\n",
    "\n",
    "In most applications, we consider demographic groups including historically marginalized groups (e.g., based on gender, race, ethnicity). We should also consider groups that are relevant to a particular application. For example, for speech-to-text transcription, groups based on the regional dialect or being a native or a non-native speaker.\n",
    "\n",
    "It is also important to consider group intersections, for example, in addition to considering groups according to gender and groups according to race, it is also important to consider their intersections (e.g., Black women, Latinx nonbinary people, etc.).\n",
    "\n",
    "**In the health care scenario**, based on the previous work, we focus on groups defined by **RACE**."
   ]
  },
  {
   "cell_type": "markdown",
   "metadata": {
    "id": "nmvSqI3dPrVk"
   },
   "source": [
    "### 3. Quantify harms\n",
    "\n",
    "Define metrics that quantify harms or benefits:\n",
    "\n",
    "* In job screening scenario, we need to quantify the number of candidates that are classified as \"negative\" (not recommended for the job), but whose true label is \"positive\" (they are qualified). One possible metric is the **false negative rate**: fraction of qualified candidates that are screened out.\n",
    "\n",
    "* In speech-to-text scenario, the harm could be measured by **word error rate**, number of mistakes in a transcript divided by the overall number of words.\n",
    "\n",
    "* **In the health care scenario**, we could consider two metrics for quantifying harms / benefits:\n",
    "  * **false negative rate**: fraction of patients that are readmitted within 30 days, but that are not recommended for the care management program; this quantifies harm\n",
    "  * **selection rate**: overall fraction of patients that are recommended for the care management program (regardless of whether they are readmittted with 30 days or no); this quantifies benefit; here the assumption is that all patients benefit similarly from the extra care.\n",
    "\n",
    "There are several reasons for including selection rate in addition to false negative rate. We would like to monitor how the benefits are allocated, focusing on groups that might be disadvantaged. Another reason is to get extra robustness in our assessement, because our measure (i.e., readmission within 30 days) is only an imperfect measure of our construct (who is most likely to benefit from the care management program). The auxiliary metrics, like selection rate, may alert us to large disparities in how the benefit is allocated, and allow us to catch issues that we might have missed.\n"
   ]
  },
  {
   "cell_type": "markdown",
   "metadata": {
    "id": "fpJXt6miPvRX"
   },
   "source": [
    "### 4. Compare quantified harms across the groups\n",
    "\n",
    "The workhorse of fairness assessment are _disaggregated metrics_, which are **metrics evaluated on slices of data**. For example, to measure harms due to errors, we would begin by evaluating the errors on each slice of the data that corresponds to a group we identified in Step 2.\n",
    "If some of the groups are seeing much larger errors than other groups, we would flag this as a fairness harm.\n",
    "\n",
    "To summarize the disparities in errors (or other metrics), we may want to report quantities such as the **difference** or **ratio** of the metric values between the best and the worst slice. In settings where the goal is to guarantee certain minimum quality of service (such as speech recognition), it is also meaningful to report the **worst performance** across all considered groups.\n",
    "\n"
   ]
  },
  {
   "cell_type": "markdown",
   "metadata": {
    "id": "7Is_zdXvnW0s"
   },
   "source": [
    "For example, when comparing false negative rate across groups defined by race, we may summarize our findings with a table like the following:\n",
    "\n",
    "| | false negative rate<br>(FNR) |\n",
    "|---|---|\n",
    "| AfricanAmerican | 0.43 |\n",
    "| Caucasian | 0.44 |\n",
    "| Other | 0.52 |\n",
    "| Unknown | 0.67 |\n",
    "| | |\n",
    "|_largest difference_| 0.24 &nbsp;&nbsp;(best is 0.0)|\n",
    "|_smallest ratio_| 0.64 &nbsp;&nbsp;(best is 1.0)|\n",
    "|_maximum_<br>_(worst-case) FNR_|0.67|"
   ]
  },
  {
   "cell_type": "markdown",
   "metadata": {
    "id": "9CjHlopBDgSG"
   },
   "source": [
    "## Fairness assessment with `MetricFrame`"
   ]
  },
  {
   "cell_type": "markdown",
   "metadata": {
    "id": "epJO2baHV2Dy"
   },
   "source": [
    "Fairlearn provides the data structure called `MetricFrame` to enable evaluation of disaggregated metrics. We will show how to use a `MetricFrame` object to assess the trained `LogisticRegression` classifier for potential fairness-related harms.\n",
    "\n"
   ]
  },
  {
   "cell_type": "code",
   "execution_count": 33,
   "metadata": {
    "colab": {
     "base_uri": "https://localhost:8080/"
    },
    "id": "0iiAYRvoduPh",
    "outputId": "3287b55e-3610-424d-a99d-a6e19c2b1693"
   },
   "outputs": [
    {
     "data": {
      "text/plain": [
       "race\n",
       "AfricanAmerican   0.428\n",
       "Caucasian         0.442\n",
       "Other             0.523\n",
       "Unknown           0.670\n",
       "Name: false_negative_rate, dtype: object"
      ]
     },
     "execution_count": 33,
     "metadata": {},
     "output_type": "execute_result"
    }
   ],
   "source": [
    "# In its simplest form MetricFrame takes four arguments:\n",
    "#    metric_function with signature metric_function(y_true, y_pred)\n",
    "#    y_true: array of labels\n",
    "#    y_pred: array of predictions\n",
    "#    sensitive_features: array of sensitive feature values\n",
    "\n",
    "mf1 = MetricFrame(metrics=false_negative_rate,\n",
    "                  y_true=Y_test,\n",
    "                  y_pred=Y_pred,\n",
    "                  sensitive_features=df_test['race'])\n",
    "\n",
    "# The disaggregated metrics are stored in a pandas Series mf1.by_group:\n",
    "\n",
    "mf1.by_group"
   ]
  },
  {
   "cell_type": "code",
   "execution_count": 34,
   "metadata": {
    "colab": {
     "base_uri": "https://localhost:8080/"
    },
    "id": "5tl1Qxt1fT2v",
    "outputId": "e2af1585-7602-4664-f396-2f0d395d4ad2"
   },
   "outputs": [
    {
     "name": "stdout",
     "output_type": "stream",
     "text": [
      "difference: 0.242\n",
      "ratio: 0.639\n",
      "max across groups: 0.67\n"
     ]
    }
   ],
   "source": [
    "# The largest difference, smallest ratio and worst-case performance are accessed as\n",
    "#   mf1.difference(), mf1.ratio(), mf1.group_max()\n",
    "\n",
    "print(f\"difference: {mf1.difference():.3}\\n\"\n",
    "      f\"ratio: {mf1.ratio():.3}\\n\"\n",
    "      f\"max across groups: {mf1.group_max():.3}\")"
   ]
  },
  {
   "cell_type": "code",
   "execution_count": 35,
   "metadata": {
    "colab": {
     "base_uri": "https://localhost:8080/",
     "height": 203
    },
    "id": "R2zmBHo5gk-F",
    "outputId": "e970f25b-7218-4430-8969-d8f891ddce27"
   },
   "outputs": [
    {
     "data": {
      "text/html": [
       "<div>\n",
       "<style scoped>\n",
       "    .dataframe tbody tr th:only-of-type {\n",
       "        vertical-align: middle;\n",
       "    }\n",
       "\n",
       "    .dataframe tbody tr th {\n",
       "        vertical-align: top;\n",
       "    }\n",
       "\n",
       "    .dataframe thead th {\n",
       "        text-align: right;\n",
       "    }\n",
       "</style>\n",
       "<table border=\"1\" class=\"dataframe\">\n",
       "  <thead>\n",
       "    <tr style=\"text-align: right;\">\n",
       "      <th></th>\n",
       "      <th>selection_rate</th>\n",
       "      <th>false_negative_rate</th>\n",
       "      <th>balanced_accuracy</th>\n",
       "    </tr>\n",
       "    <tr>\n",
       "      <th>race</th>\n",
       "      <th></th>\n",
       "      <th></th>\n",
       "      <th></th>\n",
       "    </tr>\n",
       "  </thead>\n",
       "  <tbody>\n",
       "    <tr>\n",
       "      <th>AfricanAmerican</th>\n",
       "      <td>0.400</td>\n",
       "      <td>0.428</td>\n",
       "      <td>0.597</td>\n",
       "    </tr>\n",
       "    <tr>\n",
       "      <th>Caucasian</th>\n",
       "      <td>0.391</td>\n",
       "      <td>0.442</td>\n",
       "      <td>0.594</td>\n",
       "    </tr>\n",
       "    <tr>\n",
       "      <th>Other</th>\n",
       "      <td>0.328</td>\n",
       "      <td>0.523</td>\n",
       "      <td>0.584</td>\n",
       "    </tr>\n",
       "    <tr>\n",
       "      <th>Unknown</th>\n",
       "      <td>0.264</td>\n",
       "      <td>0.670</td>\n",
       "      <td>0.536</td>\n",
       "    </tr>\n",
       "  </tbody>\n",
       "</table>\n",
       "</div>"
      ],
      "text/plain": [
       "                selection_rate false_negative_rate balanced_accuracy\n",
       "race                                                                \n",
       "AfricanAmerican          0.400               0.428             0.597\n",
       "Caucasian                0.391               0.442             0.594\n",
       "Other                    0.328               0.523             0.584\n",
       "Unknown                  0.264               0.670             0.536"
      ]
     },
     "execution_count": 35,
     "metadata": {},
     "output_type": "execute_result"
    }
   ],
   "source": [
    "# You can also evaluate multiple metrics by providing a dictionary\n",
    "\n",
    "metrics_dict = {\n",
    "    \"selection_rate\": selection_rate,\n",
    "    \"false_negative_rate\": false_negative_rate,\n",
    "    \"balanced_accuracy\": balanced_accuracy_score,\n",
    "}\n",
    "\n",
    "metricframe_unmitigated = MetricFrame(metrics=metrics_dict,\n",
    "                  y_true=Y_test,\n",
    "                  y_pred=Y_pred,\n",
    "                  sensitive_features=df_test['race'])\n",
    "\n",
    "# The disaggregated metrics are then stored in a pandas DataFrame:\n",
    "\n",
    "metricframe_unmitigated.by_group"
   ]
  },
  {
   "cell_type": "code",
   "execution_count": 36,
   "metadata": {
    "colab": {
     "base_uri": "https://localhost:8080/"
    },
    "id": "Hc29jRJrhlSC",
    "outputId": "e2ffee50-2764-434f-d322-2a8fdafe6a09"
   },
   "outputs": [
    {
     "data": {
      "text/plain": [
       "selection_rate        0.137\n",
       "false_negative_rate   0.242\n",
       "balanced_accuracy     0.061\n",
       "dtype: object"
      ]
     },
     "execution_count": 36,
     "metadata": {},
     "output_type": "execute_result"
    }
   ],
   "source": [
    "# The largest difference, smallest ratio, and the maximum and minimum values\n",
    "# across the groups are then all pandas Series, for example:\n",
    "\n",
    "metricframe_unmitigated.difference()"
   ]
  },
  {
   "cell_type": "code",
   "execution_count": 37,
   "metadata": {
    "colab": {
     "base_uri": "https://localhost:8080/",
     "height": 172
    },
    "id": "bVbjFa4Aig9Y",
    "outputId": "228f2de1-4de8-4059-b166-c75550e52de2"
   },
   "outputs": [
    {
     "data": {
      "text/html": [
       "<div>\n",
       "<style scoped>\n",
       "    .dataframe tbody tr th:only-of-type {\n",
       "        vertical-align: middle;\n",
       "    }\n",
       "\n",
       "    .dataframe tbody tr th {\n",
       "        vertical-align: top;\n",
       "    }\n",
       "\n",
       "    .dataframe thead th {\n",
       "        text-align: right;\n",
       "    }\n",
       "</style>\n",
       "<table border=\"1\" class=\"dataframe\">\n",
       "  <thead>\n",
       "    <tr style=\"text-align: right;\">\n",
       "      <th></th>\n",
       "      <th>selection_rate</th>\n",
       "      <th>false_negative_rate</th>\n",
       "      <th>balanced_accuracy</th>\n",
       "    </tr>\n",
       "  </thead>\n",
       "  <tbody>\n",
       "    <tr>\n",
       "      <th>difference</th>\n",
       "      <td>0.137</td>\n",
       "      <td>0.242</td>\n",
       "      <td>0.061</td>\n",
       "    </tr>\n",
       "    <tr>\n",
       "      <th>ratio</th>\n",
       "      <td>0.659</td>\n",
       "      <td>0.639</td>\n",
       "      <td>0.897</td>\n",
       "    </tr>\n",
       "    <tr>\n",
       "      <th>group_min</th>\n",
       "      <td>0.264</td>\n",
       "      <td>0.428</td>\n",
       "      <td>0.536</td>\n",
       "    </tr>\n",
       "    <tr>\n",
       "      <th>group_max</th>\n",
       "      <td>0.400</td>\n",
       "      <td>0.670</td>\n",
       "      <td>0.597</td>\n",
       "    </tr>\n",
       "  </tbody>\n",
       "</table>\n",
       "</div>"
      ],
      "text/plain": [
       "           selection_rate false_negative_rate balanced_accuracy\n",
       "difference          0.137               0.242             0.061\n",
       "ratio               0.659               0.639             0.897\n",
       "group_min           0.264               0.428             0.536\n",
       "group_max           0.400               0.670             0.597"
      ]
     },
     "execution_count": 37,
     "metadata": {},
     "output_type": "execute_result"
    }
   ],
   "source": [
    "# You'll probably want to view them transposed:\n",
    "\n",
    "pd.DataFrame({'difference': metricframe_unmitigated.difference(),\n",
    "              'ratio': metricframe_unmitigated.ratio(),\n",
    "              'group_min': metricframe_unmitigated.group_min(),\n",
    "              'group_max': metricframe_unmitigated.group_max()}).T"
   ]
  },
  {
   "cell_type": "code",
   "execution_count": 38,
   "metadata": {
    "colab": {
     "base_uri": "https://localhost:8080/",
     "height": 311
    },
    "id": "DvjRBIcjjSkl",
    "outputId": "0aebd5a1-f287-4d75-cdd3-8af1daf1d190"
   },
   "outputs": [
    {
     "data": {
      "image/png": "[encoded data removed]",
      "text/plain": [
       "<Figure size 864x288 with 3 Axes>"
      ]
     },
     "metadata": {},
     "output_type": "display_data"
    }
   ],
   "source": [
    "# You can also easily plot all of the metrics using DataFrame plotting capabilities\n",
    "\n",
    "metricframe_unmitigated.by_group.plot.bar(subplots=True, layout= [1,3], figsize=(12, 4),\n",
    "                      legend=False, rot=-45, position=1.5);"
   ]
  },
  {
   "cell_type": "markdown",
   "metadata": {
    "id": "b5C3SITjuPUm"
   },
   "source": [
    "According to the above bar chart, it seems that the group *Unknown* is selected for the care management program less often than other groups as reflected by the selection rate. Also this group experiences the largest false negative rate, so a larger fraction of group members that are likely to benefit from the care management program are not selected. Finally, the balanced accuracy on this group is also the lowest.\n",
    "\n"
   ]
  },
  {
   "cell_type": "markdown",
   "metadata": {
    "id": "c2Qs68rv2_Vg"
   },
   "source": [
    "We observe disparity, even though we did not include race in our model. There's a variety of reasons why such disparities may occur. It could be due to representational issues (i.e., not enough instances per group), or because the feature distribution itself differs across groups (i.e., different relationship between features and target variable, obvious example would be people with darker skin in facial recognition systems, but can be much more subtle). Real-world applications often exhibit both kinds of issues at the same time."
   ]
  },
  {
   "cell_type": "markdown",
   "metadata": {
    "id": "8ZqVGZkam1eH"
   },
   "source": [
    "\n",
    "\n",
    "---\n"
   ]
  },
  {
   "cell_type": "markdown",
   "metadata": {
    "id": "-dgITdRiD7Yu"
   },
   "source": [
    "# **Mitigating fairness-related harms in ML models**"
   ]
  },
  {
   "cell_type": "markdown",
   "metadata": {
    "id": "sbUSG1jVA06G"
   },
   "source": [
    "We have found that the logistic regression predictor leads to a large difference in false negative rates between the groups. We next look at **algorithmic mitigation strategies** of this fairness issue (and similar ones).\n",
    "\n",
    "*Note that while we currently focus on the training stage of the AI lifecycle mitigation should not be limited to this stage. In fact, we have already discussed mitigation strategies that are applicable at the task definition stage (e.g., checking for construct validity) and data collection stage (e.g., collecting more data).*\n",
    "\n",
    "Within the model training stage, mitigation may occur at different steps relative to model training:\n",
    "\n",
    "* **Preprocessing**: A mitigation algorithm is applied to transform the input data to the training algorithm; for example, some strategies seek to remove and dependence between the input features and sensitive features.\n",
    "\n",
    "* **At training time**: The model is trained by an (optimization) algorithm that seeks to satisfy fairness constraints.\n",
    "\n",
    "* **Postprocessing**: The output of a trained model is transformed to mitigate fairness issues; for example, the predicted probability of readmission is thresholded according to a group-specific threshold.\n",
    "\n",
    "We will now dive into two algorithms: a postprocessing approach and a reductions approach (which is a training-time algorithm). Both of them are in fact **meta-algorithms** in the sense that they act as wrappers around *any* standard (fairness-unaware) machine learning algorithms. This makes them quite versatile in practice.\n"
   ]
  },
  {
   "cell_type": "markdown",
   "metadata": {
    "id": "rX8QycCL0mJj"
   },
   "source": [
    "## Postprocessing with `ThresholdOptimizer`"
   ]
  },
  {
   "cell_type": "markdown",
   "metadata": {
    "id": "fRZfSFzcFaXP"
   },
   "source": [
    "**Postprocessing** techniques are a class of unfairness-mitigation algorithms that take an already trained model and a dataset as an input and seek to fit a transformation function to model's outputs to satisfy some (group) fairness constraint(s). They might be the only feasible unfairness mitigation approach when developers cannot influence training of the model, due to practical reasons or due to security or privacy.\n"
   ]
  },
  {
   "cell_type": "markdown",
   "metadata": {
    "id": "6PgzZkK9Wbni"
   },
   "source": [
    "Here we use the `ThresholdOptimizer` algorithm from Fairlearn, which follows the approach of [Hardt, Price, and Srebro (2016)](https://arxiv.org/abs/1610.02413).\n",
    "\n",
    "`ThresholdOptimizer` takes in an exisiting (possibly pre-fit) machine learning model whose predictions act as a scoring function and identifies a separate thrceshold for each group in order to optimize some specified objective metric (such as **balanced accuracy**) subject to specified fairness constraints (such as **false negative rate parity**). Thus, the resulting classifier is just a suitably thresholded version of the underlying machinelearning model.\n",
    "\n",
    "The constraint **false negative rate parity** requires that all the groups have equal values of false negative rate.\n",
    "\n"
   ]
  },
  {
   "cell_type": "markdown",
   "metadata": {
    "id": "OFOovaN7AwDr"
   },
   "source": [
    "To instatiate our `ThresholdOptimizer`, we pass in:\n",
    "\n",
    "*   An existing `estimator` that we wish to threshold. \n",
    "*   The fairness `constraints` we want to satisfy.\n",
    "*   The `objective` metric we want to maximize.\n",
    "\n"
   ]
  },
  {
   "cell_type": "code",
   "execution_count": 39,
   "metadata": {
    "id": "8je0grKPWHhy"
   },
   "outputs": [],
   "source": [
    "# Now we instantite ThresholdOptimizer with the logistic regression estimator\n",
    "postprocess_est = ThresholdOptimizer(\n",
    "    estimator=unmitigated_pipeline,\n",
    "    constraints=\"false_negative_rate_parity\",\n",
    "    objective=\"balanced_accuracy_score\",\n",
    "    prefit=True,\n",
    "    predict_method='predict_proba'\n",
    ")"
   ]
  },
  {
   "cell_type": "markdown",
   "metadata": {
    "id": "VDD86L7eCSe0"
   },
   "source": [
    "In order to use the `ThresholdOptimizer`, we need access to the sensitive features **both during training time and once it's deployed**."
   ]
  },
  {
   "cell_type": "code",
   "execution_count": 40,
   "metadata": {
    "colab": {
     "base_uri": "https://localhost:8080/",
     "height": 344
    },
    "id": "VCHJBB7x1rAK",
    "outputId": "dfc6338e-2be0-4007-bde2-fd8544cc4a89"
   },
   "outputs": [
    {
     "data": {
      "text/html": [
       "<style>#sk-197cf2ed-50ac-4641-a1fd-f2edae6c97ef {color: black;background-color: white;}#sk-197cf2ed-50ac-4641-a1fd-f2edae6c97ef pre{padding: 0;}#sk-197cf2ed-50ac-4641-a1fd-f2edae6c97ef div.sk-toggleable {background-color: white;}#sk-197cf2ed-50ac-4641-a1fd-f2edae6c97ef label.sk-toggleable__label {cursor: pointer;display: block;width: 100%;margin-bottom: 0;padding: 0.3em;box-sizing: border-box;text-align: center;}#sk-197cf2ed-50ac-4641-a1fd-f2edae6c97ef div.sk-toggleable__content {max-height: 0;max-width: 0;overflow: hidden;text-align: left;background-color: #f0f8ff;}#sk-197cf2ed-50ac-4641-a1fd-f2edae6c97ef div.sk-toggleable__content pre {margin: 0.2em;color: black;border-radius: 0.25em;background-color: #f0f8ff;}#sk-197cf2ed-50ac-4641-a1fd-f2edae6c97ef input.sk-toggleable__control:checked~div.sk-toggleable__content {max-height: 200px;max-width: 100%;overflow: auto;}#sk-197cf2ed-50ac-4641-a1fd-f2edae6c97ef div.sk-estimator input.sk-toggleable__control:checked~label.sk-toggleable__label {background-color: #d4ebff;}#sk-197cf2ed-50ac-4641-a1fd-f2edae6c97ef div.sk-label input.sk-toggleable__control:checked~label.sk-toggleable__label {background-color: #d4ebff;}#sk-197cf2ed-50ac-4641-a1fd-f2edae6c97ef input.sk-hidden--visually {border: 0;clip: rect(1px 1px 1px 1px);clip: rect(1px, 1px, 1px, 1px);height: 1px;margin: -1px;overflow: hidden;padding: 0;position: absolute;width: 1px;}#sk-197cf2ed-50ac-4641-a1fd-f2edae6c97ef div.sk-estimator {font-family: monospace;background-color: #f0f8ff;border: 1px dotted black;border-radius: 0.25em;box-sizing: border-box;margin-bottom: 0.5em;}#sk-197cf2ed-50ac-4641-a1fd-f2edae6c97ef div.sk-estimator:hover {background-color: #d4ebff;}#sk-197cf2ed-50ac-4641-a1fd-f2edae6c97ef div.sk-parallel-item::after {content: \"\";width: 100%;border-bottom: 1px solid gray;flex-grow: 1;}#sk-197cf2ed-50ac-4641-a1fd-f2edae6c97ef div.sk-label:hover label.sk-toggleable__label {background-color: #d4ebff;}#sk-197cf2ed-50ac-4641-a1fd-f2edae6c97ef div.sk-serial::before {content: \"\";position: absolute;border-left: 1px solid gray;box-sizing: border-box;top: 2em;bottom: 0;left: 50%;}#sk-197cf2ed-50ac-4641-a1fd-f2edae6c97ef div.sk-serial {display: flex;flex-direction: column;align-items: center;background-color: white;padding-right: 0.2em;padding-left: 0.2em;}#sk-197cf2ed-50ac-4641-a1fd-f2edae6c97ef div.sk-item {z-index: 1;}#sk-197cf2ed-50ac-4641-a1fd-f2edae6c97ef div.sk-parallel {display: flex;align-items: stretch;justify-content: center;background-color: white;}#sk-197cf2ed-50ac-4641-a1fd-f2edae6c97ef div.sk-parallel::before {content: \"\";position: absolute;border-left: 1px solid gray;box-sizing: border-box;top: 2em;bottom: 0;left: 50%;}#sk-197cf2ed-50ac-4641-a1fd-f2edae6c97ef div.sk-parallel-item {display: flex;flex-direction: column;position: relative;background-color: white;}#sk-197cf2ed-50ac-4641-a1fd-f2edae6c97ef div.sk-parallel-item:first-child::after {align-self: flex-end;width: 50%;}#sk-197cf2ed-50ac-4641-a1fd-f2edae6c97ef div.sk-parallel-item:last-child::after {align-self: flex-start;width: 50%;}#sk-197cf2ed-50ac-4641-a1fd-f2edae6c97ef div.sk-parallel-item:only-child::after {width: 0;}#sk-197cf2ed-50ac-4641-a1fd-f2edae6c97ef div.sk-dashed-wrapped {border: 1px dashed gray;margin: 0 0.4em 0.5em 0.4em;box-sizing: border-box;padding-bottom: 0.4em;background-color: white;position: relative;}#sk-197cf2ed-50ac-4641-a1fd-f2edae6c97ef div.sk-label label {font-family: monospace;font-weight: bold;background-color: white;display: inline-block;line-height: 1.2em;}#sk-197cf2ed-50ac-4641-a1fd-f2edae6c97ef div.sk-label-container {position: relative;z-index: 2;text-align: center;}#sk-197cf2ed-50ac-4641-a1fd-f2edae6c97ef div.sk-container {display: inline-block;position: relative;}</style><div id=\"sk-197cf2ed-50ac-4641-a1fd-f2edae6c97ef\" class\"sk-top-container\"><div class=\"sk-container\"><div class=\"sk-item sk-dashed-wrapped\"><div class=\"sk-label-container\"><div class=\"sk-label sk-toggleable\"><input class=\"sk-toggleable__control sk-hidden--visually\" id=\"a6a97102-bc8d-4ca5-bab4-aba74f8c5b62\" type=\"checkbox\" ><label class=\"sk-toggleable__label\" for=\"a6a97102-bc8d-4ca5-bab4-aba74f8c5b62\">ThresholdOptimizer</label><div class=\"sk-toggleable__content\"><pre>ThresholdOptimizer(constraints='false_negative_rate_parity',\n",
       "                   estimator=Pipeline(steps=[('preprocessing',\n",
       "                                              StandardScaler()),\n",
       "                                             ('logistic_regression',\n",
       "                                              LogisticRegression(max_iter=1000))]),\n",
       "                   objective='balanced_accuracy_score',\n",
       "                   predict_method='predict_proba', prefit=True)</pre></div></div></div><div class=\"sk-parallel\"><div class=\"sk-parallel-item\"><div class=\"sk-item\"><div class=\"sk-serial\"><div class=\"sk-item\"><div class=\"sk-serial\"><div class=\"sk-item\"><div class=\"sk-estimator sk-toggleable\"><input class=\"sk-toggleable__control sk-hidden--visually\" id=\"fb27cdbc-312f-4b90-a150-28df248ae68c\" type=\"checkbox\" ><label class=\"sk-toggleable__label\" for=\"fb27cdbc-312f-4b90-a150-28df248ae68c\">StandardScaler</label><div class=\"sk-toggleable__content\"><pre>StandardScaler()</pre></div></div></div><div class=\"sk-item\"><div class=\"sk-estimator sk-toggleable\"><input class=\"sk-toggleable__control sk-hidden--visually\" id=\"2a190e7a-f7d2-4548-9fb1-a19c7f55eae1\" type=\"checkbox\" ><label class=\"sk-toggleable__label\" for=\"2a190e7a-f7d2-4548-9fb1-a19c7f55eae1\">LogisticRegression</label><div class=\"sk-toggleable__content\"><pre>LogisticRegression(max_iter=1000)</pre></div></div></div></div></div></div></div></div></div></div></div></div>"
      ],
      "text/plain": [
       "ThresholdOptimizer(constraints='false_negative_rate_parity',\n",
       "                   estimator=Pipeline(steps=[('preprocessing',\n",
       "                                              StandardScaler()),\n",
       "                                             ('logistic_regression',\n",
       "                                              LogisticRegression(max_iter=1000))]),\n",
       "                   objective='balanced_accuracy_score',\n",
       "                   predict_method='predict_proba', prefit=True)"
      ]
     },
     "execution_count": 40,
     "metadata": {},
     "output_type": "execute_result"
    }
   ],
   "source": [
    "postprocess_est.fit(X_train_bal, Y_train_bal, sensitive_features=A_train_bal)"
   ]
  },
  {
   "cell_type": "code",
   "execution_count": 41,
   "metadata": {
    "id": "YscNZsYU1rCY"
   },
   "outputs": [],
   "source": [
    "# Record and evaluate the output of the trained ThresholdOptimizer on test data\n",
    "\n",
    "Y_pred_postprocess = postprocess_est.predict(X_test, sensitive_features=A_test)\n",
    "metricframe_postprocess = MetricFrame(\n",
    "    metrics=metrics_dict,\n",
    "    y_true=Y_test,\n",
    "    y_pred=Y_pred_postprocess,\n",
    "    sensitive_features=A_test\n",
    ")"
   ]
  },
  {
   "cell_type": "markdown",
   "metadata": {
    "id": "_izbGv6tQ1KD"
   },
   "source": [
    "We can now inspect how the metric values differ between the postprocessed model and the unmitigated model:"
   ]
  },
  {
   "cell_type": "code",
   "execution_count": 42,
   "metadata": {
    "colab": {
     "base_uri": "https://localhost:8080/",
     "height": 254
    },
    "id": "-9mtWyWc1rH5",
    "outputId": "982dcb16-b82f-42bc-addb-1caaf2d0aa09"
   },
   "outputs": [
    {
     "data": {
      "text/html": [
       "<div>\n",
       "<style scoped>\n",
       "    .dataframe tbody tr th:only-of-type {\n",
       "        vertical-align: middle;\n",
       "    }\n",
       "\n",
       "    .dataframe tbody tr th {\n",
       "        vertical-align: top;\n",
       "    }\n",
       "\n",
       "    .dataframe thead tr th {\n",
       "        text-align: left;\n",
       "    }\n",
       "\n",
       "    .dataframe thead tr:last-of-type th {\n",
       "        text-align: right;\n",
       "    }\n",
       "</style>\n",
       "<table border=\"1\" class=\"dataframe\">\n",
       "  <thead>\n",
       "    <tr>\n",
       "      <th></th>\n",
       "      <th colspan=\"3\" halign=\"left\">Unmitigated</th>\n",
       "      <th colspan=\"3\" halign=\"left\">ThresholdOptimizer</th>\n",
       "    </tr>\n",
       "    <tr>\n",
       "      <th></th>\n",
       "      <th>selection_rate</th>\n",
       "      <th>false_negative_rate</th>\n",
       "      <th>balanced_accuracy</th>\n",
       "      <th>selection_rate</th>\n",
       "      <th>false_negative_rate</th>\n",
       "      <th>balanced_accuracy</th>\n",
       "    </tr>\n",
       "    <tr>\n",
       "      <th>race</th>\n",
       "      <th></th>\n",
       "      <th></th>\n",
       "      <th></th>\n",
       "      <th></th>\n",
       "      <th></th>\n",
       "      <th></th>\n",
       "    </tr>\n",
       "  </thead>\n",
       "  <tbody>\n",
       "    <tr>\n",
       "      <th>AfricanAmerican</th>\n",
       "      <td>0.400</td>\n",
       "      <td>0.428</td>\n",
       "      <td>0.597</td>\n",
       "      <td>0.427</td>\n",
       "      <td>0.400</td>\n",
       "      <td>0.598</td>\n",
       "    </tr>\n",
       "    <tr>\n",
       "      <th>Caucasian</th>\n",
       "      <td>0.391</td>\n",
       "      <td>0.442</td>\n",
       "      <td>0.594</td>\n",
       "      <td>0.451</td>\n",
       "      <td>0.389</td>\n",
       "      <td>0.590</td>\n",
       "    </tr>\n",
       "    <tr>\n",
       "      <th>Other</th>\n",
       "      <td>0.328</td>\n",
       "      <td>0.523</td>\n",
       "      <td>0.584</td>\n",
       "      <td>0.412</td>\n",
       "      <td>0.455</td>\n",
       "      <td>0.574</td>\n",
       "    </tr>\n",
       "    <tr>\n",
       "      <th>Unknown</th>\n",
       "      <td>0.264</td>\n",
       "      <td>0.670</td>\n",
       "      <td>0.536</td>\n",
       "      <td>0.459</td>\n",
       "      <td>0.436</td>\n",
       "      <td>0.557</td>\n",
       "    </tr>\n",
       "  </tbody>\n",
       "</table>\n",
       "</div>"
      ],
      "text/plain": [
       "                   Unmitigated                                        \\\n",
       "                selection_rate false_negative_rate balanced_accuracy   \n",
       "race                                                                   \n",
       "AfricanAmerican          0.400               0.428             0.597   \n",
       "Caucasian                0.391               0.442             0.594   \n",
       "Other                    0.328               0.523             0.584   \n",
       "Unknown                  0.264               0.670             0.536   \n",
       "\n",
       "                ThresholdOptimizer                                        \n",
       "                    selection_rate false_negative_rate balanced_accuracy  \n",
       "race                                                                      \n",
       "AfricanAmerican              0.427               0.400             0.598  \n",
       "Caucasian                    0.451               0.389             0.590  \n",
       "Other                        0.412               0.455             0.574  \n",
       "Unknown                      0.459               0.436             0.557  "
      ]
     },
     "execution_count": 42,
     "metadata": {},
     "output_type": "execute_result"
    }
   ],
   "source": [
    "pd.concat([metricframe_unmitigated.by_group,\n",
    "           metricframe_postprocess.by_group],\n",
    "           keys=['Unmitigated', 'ThresholdOptimizer'],\n",
    "           axis=1)"
   ]
  },
  {
   "cell_type": "markdown",
   "metadata": {
    "id": "mzPCUFsXPU_S"
   },
   "source": [
    "We next zoom in on differences between the largest and the smallest metric values:"
   ]
  },
  {
   "cell_type": "code",
   "execution_count": 43,
   "metadata": {
    "colab": {
     "base_uri": "https://localhost:8080/",
     "height": 127
    },
    "id": "dsC4v8Ap1rKt",
    "outputId": "ebf489b6-07ac-45d5-ae2b-848d6488dbb4"
   },
   "outputs": [
    {
     "data": {
      "text/html": [
       "<div>\n",
       "<style scoped>\n",
       "    .dataframe tbody tr th:only-of-type {\n",
       "        vertical-align: middle;\n",
       "    }\n",
       "\n",
       "    .dataframe tbody tr th {\n",
       "        vertical-align: top;\n",
       "    }\n",
       "\n",
       "    .dataframe thead th {\n",
       "        text-align: right;\n",
       "    }\n",
       "</style>\n",
       "<table border=\"1\" class=\"dataframe\">\n",
       "  <thead>\n",
       "    <tr style=\"text-align: right;\">\n",
       "      <th></th>\n",
       "      <th>selection_rate</th>\n",
       "      <th>false_negative_rate</th>\n",
       "      <th>balanced_accuracy</th>\n",
       "    </tr>\n",
       "  </thead>\n",
       "  <tbody>\n",
       "    <tr>\n",
       "      <th>Unmitigated: difference</th>\n",
       "      <td>0.137</td>\n",
       "      <td>0.242</td>\n",
       "      <td>0.061</td>\n",
       "    </tr>\n",
       "    <tr>\n",
       "      <th>ThresholdOptimizer: difference</th>\n",
       "      <td>0.047</td>\n",
       "      <td>0.066</td>\n",
       "      <td>0.041</td>\n",
       "    </tr>\n",
       "  </tbody>\n",
       "</table>\n",
       "</div>"
      ],
      "text/plain": [
       "                               selection_rate false_negative_rate  \\\n",
       "Unmitigated: difference                 0.137               0.242   \n",
       "ThresholdOptimizer: difference          0.047               0.066   \n",
       "\n",
       "                               balanced_accuracy  \n",
       "Unmitigated: difference                    0.061  \n",
       "ThresholdOptimizer: difference             0.041  "
      ]
     },
     "execution_count": 43,
     "metadata": {},
     "output_type": "execute_result"
    }
   ],
   "source": [
    "pd.concat([metricframe_unmitigated.difference(),\n",
    "           metricframe_postprocess.difference()],\n",
    "          keys=['Unmitigated: difference', 'ThresholdOptimizer: difference'],\n",
    "          axis=1).T"
   ]
  },
  {
   "cell_type": "markdown",
   "metadata": {
    "id": "Hhi_RSxSRoyg"
   },
   "source": [
    "As we see, `ThresholdOptimizer` was able to substantially decrease the difference between the values of false negative rate."
   ]
  },
  {
   "cell_type": "markdown",
   "metadata": {
    "id": "GarQvopkVN2S"
   },
   "source": [
    "Finally, we visualize the disagregated statistics:"
   ]
  },
  {
   "cell_type": "code",
   "execution_count": 44,
   "metadata": {
    "colab": {
     "base_uri": "https://localhost:8080/",
     "height": 314
    },
    "id": "EsTehBH2SW7f",
    "outputId": "3cf05d43-1389-41a2-e2dc-7e7511833c2b"
   },
   "outputs": [
    {
     "data": {
      "text/plain": [
       "array([[<AxesSubplot:title={'center':'selection_rate'}, xlabel='race'>,\n",
       "        <AxesSubplot:title={'center':'false_negative_rate'}, xlabel='race'>,\n",
       "        <AxesSubplot:title={'center':'balanced_accuracy'}, xlabel='race'>]],\n",
       "      dtype=object)"
      ]
     },
     "execution_count": 44,
     "metadata": {},
     "output_type": "execute_result"
    },
    {
     "data": {
      "image/png": "[encoded data removed]",
      "text/plain": [
       "<Figure size 864x288 with 3 Axes>"
      ]
     },
     "metadata": {},
     "output_type": "display_data"
    }
   ],
   "source": [
    "metricframe_postprocess.by_group.plot.bar(subplots=True, layout=[1,3], figsize=(12, 4), legend=False, rot=-45, position=1.5)"
   ]
  },
  {
   "cell_type": "markdown",
   "metadata": {
    "id": "NU_rncBQ0lab"
   },
   "source": [
    "## Reductions approach with `ExponentiatedGradient`"
   ]
  },
  {
   "cell_type": "markdown",
   "metadata": {
    "id": "bpyBnqNLZ-w_"
   },
   "source": [
    "With the `ThresholdOptimizer`, we took a fairness-unaware model and transformed the model's decision boundary to satisfy our fairness constraints. One limitation of `ThresholdOptimizer` is that it needs access to the sensitive features at deployment time.\n",
    "\n",
    "In this section, we will show how to use the _reductions_ approach of [Agarwal et. al (2018)](https://arxiv.org/abs/1803.02453) to obtain a model that satisfies the fairness constraints, but does not need access to sensitive features at deployment time.\n",
    "\n",
    "Terminology \"reductions\" refers to another kind of a wrapper approach, which instead of wrapping an already trained model, wraps any standard classification or regression algorithm, such as \n",
    "`LogisticRegression`. In other words, an input to a reduction algorithm is an object that supports training on any provided (weighted) dataset. In addition, a reduction algorithm receives a data set that includes sensitive features. The goal, like with post-processing, is to optimize a performance metric (such as classification accuracy) subject to fairness constraints (such as an upper bound on differences between false negative rates).\n",
    "\n",
    "The main reduction algorithm algorithm in Fairlearn is `ExponentiatedGradient`. It creates a sequence of reweighted datasets and retrains the wrapped model on each of them. The \n",
    "retraining process is guaranteed to find a model that satisfies the fairness constraints while optimizing the performance metric.\n",
    "\n",
    "The model returned by `ExponentiatedGradient` consists of several inner models, returned by the wrapped estimator. At deployment time, `ExponentiatedGradient` randomizes among these models according to a specific probability weights."
   ]
  },
  {
   "cell_type": "markdown",
   "metadata": {
    "id": "ZvT_qeduHCn8"
   },
   "source": [
    "To instantiate an `ExponentiatedGradient` model, we pass in two parameters:\n",
    "\n",
    "*   A base `estimator` (an object that supports training)\n",
    "*   Fairness `constraints` (an object of type `Moment`).\n",
    "\n",
    "The constraints supported by `ExponentiatedGradient` are more general than those supported by `ThresholdOptimizer`. For example, rather than requiring that false negative rates be equal, it is possible to specify the maxium allowed difference or ratio between the largest and the smallest value.\n"
   ]
  },
  {
   "cell_type": "code",
   "execution_count": 45,
   "metadata": {
    "id": "ToZdrYen0tJZ"
   },
   "outputs": [],
   "source": [
    "expgrad_est = ExponentiatedGradient(\n",
    "    estimator=LogisticRegression(max_iter=1000, random_state=random_seed),\n",
    "    constraints=TruePositiveRateParity(difference_bound=0.02)\n",
    ")"
   ]
  },
  {
   "cell_type": "markdown",
   "metadata": {
    "id": "bLFk3SCxrskU"
   },
   "source": [
    "The constraints above are expressed for the true positive parity, they require that the difference between the largest and the smallest true positive rate (TPR) across all groups be at most 0.02. Since false negative rate (FNR) is equal to 1-TPR, this is equivalent to requiring that the difference between the largest and smallest FNR be at most 0.02."
   ]
  },
  {
   "cell_type": "code",
   "execution_count": 46,
   "metadata": {
    "colab": {
     "base_uri": "https://localhost:8080/",
     "height": 81
    },
    "id": "UFSF5Wn-3M-H",
    "outputId": "43f639cf-58ef-4425-b772-3daec9d9ff3d"
   },
   "outputs": [
    {
     "data": {
      "text/html": [
       "<style>#sk-06f81cdc-4ae2-4c21-9f0b-cf0528d3dd2d {color: black;background-color: white;}#sk-06f81cdc-4ae2-4c21-9f0b-cf0528d3dd2d pre{padding: 0;}#sk-06f81cdc-4ae2-4c21-9f0b-cf0528d3dd2d div.sk-toggleable {background-color: white;}#sk-06f81cdc-4ae2-4c21-9f0b-cf0528d3dd2d label.sk-toggleable__label {cursor: pointer;display: block;width: 100%;margin-bottom: 0;padding: 0.3em;box-sizing: border-box;text-align: center;}#sk-06f81cdc-4ae2-4c21-9f0b-cf0528d3dd2d div.sk-toggleable__content {max-height: 0;max-width: 0;overflow: hidden;text-align: left;background-color: #f0f8ff;}#sk-06f81cdc-4ae2-4c21-9f0b-cf0528d3dd2d div.sk-toggleable__content pre {margin: 0.2em;color: black;border-radius: 0.25em;background-color: #f0f8ff;}#sk-06f81cdc-4ae2-4c21-9f0b-cf0528d3dd2d input.sk-toggleable__control:checked~div.sk-toggleable__content {max-height: 200px;max-width: 100%;overflow: auto;}#sk-06f81cdc-4ae2-4c21-9f0b-cf0528d3dd2d div.sk-estimator input.sk-toggleable__control:checked~label.sk-toggleable__label {background-color: #d4ebff;}#sk-06f81cdc-4ae2-4c21-9f0b-cf0528d3dd2d div.sk-label input.sk-toggleable__control:checked~label.sk-toggleable__label {background-color: #d4ebff;}#sk-06f81cdc-4ae2-4c21-9f0b-cf0528d3dd2d input.sk-hidden--visually {border: 0;clip: rect(1px 1px 1px 1px);clip: rect(1px, 1px, 1px, 1px);height: 1px;margin: -1px;overflow: hidden;padding: 0;position: absolute;width: 1px;}#sk-06f81cdc-4ae2-4c21-9f0b-cf0528d3dd2d div.sk-estimator {font-family: monospace;background-color: #f0f8ff;border: 1px dotted black;border-radius: 0.25em;box-sizing: border-box;margin-bottom: 0.5em;}#sk-06f81cdc-4ae2-4c21-9f0b-cf0528d3dd2d div.sk-estimator:hover {background-color: #d4ebff;}#sk-06f81cdc-4ae2-4c21-9f0b-cf0528d3dd2d div.sk-parallel-item::after {content: \"\";width: 100%;border-bottom: 1px solid gray;flex-grow: 1;}#sk-06f81cdc-4ae2-4c21-9f0b-cf0528d3dd2d div.sk-label:hover label.sk-toggleable__label {background-color: #d4ebff;}#sk-06f81cdc-4ae2-4c21-9f0b-cf0528d3dd2d div.sk-serial::before {content: \"\";position: absolute;border-left: 1px solid gray;box-sizing: border-box;top: 2em;bottom: 0;left: 50%;}#sk-06f81cdc-4ae2-4c21-9f0b-cf0528d3dd2d div.sk-serial {display: flex;flex-direction: column;align-items: center;background-color: white;padding-right: 0.2em;padding-left: 0.2em;}#sk-06f81cdc-4ae2-4c21-9f0b-cf0528d3dd2d div.sk-item {z-index: 1;}#sk-06f81cdc-4ae2-4c21-9f0b-cf0528d3dd2d div.sk-parallel {display: flex;align-items: stretch;justify-content: center;background-color: white;}#sk-06f81cdc-4ae2-4c21-9f0b-cf0528d3dd2d div.sk-parallel::before {content: \"\";position: absolute;border-left: 1px solid gray;box-sizing: border-box;top: 2em;bottom: 0;left: 50%;}#sk-06f81cdc-4ae2-4c21-9f0b-cf0528d3dd2d div.sk-parallel-item {display: flex;flex-direction: column;position: relative;background-color: white;}#sk-06f81cdc-4ae2-4c21-9f0b-cf0528d3dd2d div.sk-parallel-item:first-child::after {align-self: flex-end;width: 50%;}#sk-06f81cdc-4ae2-4c21-9f0b-cf0528d3dd2d div.sk-parallel-item:last-child::after {align-self: flex-start;width: 50%;}#sk-06f81cdc-4ae2-4c21-9f0b-cf0528d3dd2d div.sk-parallel-item:only-child::after {width: 0;}#sk-06f81cdc-4ae2-4c21-9f0b-cf0528d3dd2d div.sk-dashed-wrapped {border: 1px dashed gray;margin: 0 0.4em 0.5em 0.4em;box-sizing: border-box;padding-bottom: 0.4em;background-color: white;position: relative;}#sk-06f81cdc-4ae2-4c21-9f0b-cf0528d3dd2d div.sk-label label {font-family: monospace;font-weight: bold;background-color: white;display: inline-block;line-height: 1.2em;}#sk-06f81cdc-4ae2-4c21-9f0b-cf0528d3dd2d div.sk-label-container {position: relative;z-index: 2;text-align: center;}#sk-06f81cdc-4ae2-4c21-9f0b-cf0528d3dd2d div.sk-container {display: inline-block;position: relative;}</style><div id=\"sk-06f81cdc-4ae2-4c21-9f0b-cf0528d3dd2d\" class\"sk-top-container\"><div class=\"sk-container\"><div class=\"sk-item sk-dashed-wrapped\"><div class=\"sk-label-container\"><div class=\"sk-label sk-toggleable\"><input class=\"sk-toggleable__control sk-hidden--visually\" id=\"b77be21e-eee0-45f2-a39c-b0f7ec925e05\" type=\"checkbox\" ><label class=\"sk-toggleable__label\" for=\"b77be21e-eee0-45f2-a39c-b0f7ec925e05\">ExponentiatedGradient</label><div class=\"sk-toggleable__content\"><pre>ExponentiatedGradient(constraints=<fairlearn.reductions._moments.utility_parity.TruePositiveRateParity object at 0x0000023B3D8478C8>,\n",
       "                      estimator=LogisticRegression(max_iter=1000,\n",
       "                                                   random_state=445),\n",
       "                      nu=0.002303268819590091)</pre></div></div></div><div class=\"sk-parallel\"><div class=\"sk-parallel-item\"><div class=\"sk-item\"><div class=\"sk-serial\"><div class=\"sk-item\"><div class=\"sk-estimator sk-toggleable\"><input class=\"sk-toggleable__control sk-hidden--visually\" id=\"9c156d48-13b3-49d9-97a9-9dd990584972\" type=\"checkbox\" ><label class=\"sk-toggleable__label\" for=\"9c156d48-13b3-49d9-97a9-9dd990584972\">LogisticRegression</label><div class=\"sk-toggleable__content\"><pre>LogisticRegression(max_iter=1000, random_state=445)</pre></div></div></div></div></div></div></div></div></div></div>"
      ],
      "text/plain": [
       "ExponentiatedGradient(constraints=<fairlearn.reductions._moments.utility_parity.TruePositiveRateParity object at 0x0000023B3D8478C8>,\n",
       "                      estimator=LogisticRegression(max_iter=1000,\n",
       "                                                   random_state=445),\n",
       "                      nu=0.002303268819590091)"
      ]
     },
     "execution_count": 46,
     "metadata": {},
     "output_type": "execute_result"
    }
   ],
   "source": [
    "# Fit the exponentiated gradient model\n",
    "expgrad_est.fit(X_train_bal, Y_train_bal, sensitive_features=A_train_bal)"
   ]
  },
  {
   "cell_type": "markdown",
   "metadata": {
    "id": "VsCeOlKFDQZZ"
   },
   "source": [
    "Similarly to `ThresholdOptimizer` the predictions of `ExponentiatedGradient` models are randomized. If we want to assure reproducible results, we can pass  `random_state` to the `predict` function. "
   ]
  },
  {
   "cell_type": "code",
   "execution_count": 47,
   "metadata": {
    "colab": {
     "base_uri": "https://localhost:8080/",
     "height": 203
    },
    "id": "YYz7GAqf4cbp",
    "outputId": "72957bdb-41c5-41c6-b9c5-7f0ba8fdf610"
   },
   "outputs": [
    {
     "data": {
      "text/html": [
       "<div>\n",
       "<style scoped>\n",
       "    .dataframe tbody tr th:only-of-type {\n",
       "        vertical-align: middle;\n",
       "    }\n",
       "\n",
       "    .dataframe tbody tr th {\n",
       "        vertical-align: top;\n",
       "    }\n",
       "\n",
       "    .dataframe thead th {\n",
       "        text-align: right;\n",
       "    }\n",
       "</style>\n",
       "<table border=\"1\" class=\"dataframe\">\n",
       "  <thead>\n",
       "    <tr style=\"text-align: right;\">\n",
       "      <th></th>\n",
       "      <th>selection_rate</th>\n",
       "      <th>false_negative_rate</th>\n",
       "      <th>balanced_accuracy</th>\n",
       "    </tr>\n",
       "    <tr>\n",
       "      <th>race</th>\n",
       "      <th></th>\n",
       "      <th></th>\n",
       "      <th></th>\n",
       "    </tr>\n",
       "  </thead>\n",
       "  <tbody>\n",
       "    <tr>\n",
       "      <th>AfricanAmerican</th>\n",
       "      <td>0.408</td>\n",
       "      <td>0.424</td>\n",
       "      <td>0.595</td>\n",
       "    </tr>\n",
       "    <tr>\n",
       "      <th>Caucasian</th>\n",
       "      <td>0.398</td>\n",
       "      <td>0.445</td>\n",
       "      <td>0.588</td>\n",
       "    </tr>\n",
       "    <tr>\n",
       "      <th>Other</th>\n",
       "      <td>0.338</td>\n",
       "      <td>0.518</td>\n",
       "      <td>0.580</td>\n",
       "    </tr>\n",
       "    <tr>\n",
       "      <th>Unknown</th>\n",
       "      <td>0.344</td>\n",
       "      <td>0.574</td>\n",
       "      <td>0.545</td>\n",
       "    </tr>\n",
       "  </tbody>\n",
       "</table>\n",
       "</div>"
      ],
      "text/plain": [
       "                selection_rate false_negative_rate balanced_accuracy\n",
       "race                                                                \n",
       "AfricanAmerican          0.408               0.424             0.595\n",
       "Caucasian                0.398               0.445             0.588\n",
       "Other                    0.338               0.518             0.580\n",
       "Unknown                  0.344               0.574             0.545"
      ]
     },
     "execution_count": 47,
     "metadata": {},
     "output_type": "execute_result"
    }
   ],
   "source": [
    "# Record and evaluate predictions on test data\n",
    "\n",
    "Y_pred_reductions = expgrad_est.predict(X_test, random_state=random_seed)\n",
    "metricframe_reductions = MetricFrame(\n",
    "    metrics=metrics_dict,\n",
    "    y_true=Y_test,\n",
    "    y_pred=Y_pred_reductions,\n",
    "    sensitive_features=A_test\n",
    ")\n",
    "metricframe_reductions.by_group"
   ]
  },
  {
   "cell_type": "code",
   "execution_count": 48,
   "metadata": {
    "colab": {
     "base_uri": "https://localhost:8080/"
    },
    "id": "idYvm9lq4mh3",
    "outputId": "0848b976-8651-45ae-ddb3-b906b9417ac5"
   },
   "outputs": [
    {
     "data": {
      "text/plain": [
       "selection_rate        0.070\n",
       "false_negative_rate   0.150\n",
       "balanced_accuracy     0.050\n",
       "dtype: object"
      ]
     },
     "execution_count": 48,
     "metadata": {},
     "output_type": "execute_result"
    }
   ],
   "source": [
    "# Evaluate the difference between the largest and smallest value of each metric\n",
    "metricframe_reductions.difference()"
   ]
  },
  {
   "cell_type": "markdown",
   "metadata": {
    "id": "qpxYOozouVx9"
   },
   "source": [
    "While there is a decrease in the false negative rate difference from the unmitigated model, this decrease is not as substantial as with `ThresholdOptimizer`. Note, however, that `ThresholdOptimizer` was able to use the sensitive feature (i.e., race) at deployment time."
   ]
  },
  {
   "cell_type": "markdown",
   "metadata": {
    "id": "IzTeHhWG4nJJ"
   },
   "source": [
    "### Explore individual predictors"
   ]
  },
  {
   "cell_type": "markdown",
   "metadata": {
    "id": "o7qCmHeYKWGp"
   },
   "source": [
    "During the training process, the `ExponentiatedGradient` algorithm iteratively trains multiple inner models on a reweighted training dataset. The algorithm stores each of these predictors and then randomizes among them at deployment time.\n",
    "\n",
    "In many applications, the randomization is undesirable, and also using multiple inner models can pose issues for interpretability. However, the inner models that `ExponentiatedGradient` relies on span a variety of fairness-accuracy trade-offs, and they could be considered for stand-alone deployment: addressing the randomization and interpretability issues, while possibly offering additional flexibility thanks to a variety of trade-offs. \n",
    "\n",
    "In this section explore the performance of the individual predictors learned by the `ExponentiatedGradient` algorithm. First, note that since the base estimator was `LogisticRegression` all these predictors are different logistic regression models:"
   ]
  },
  {
   "cell_type": "code",
   "execution_count": 49,
   "metadata": {
    "colab": {
     "base_uri": "https://localhost:8080/"
    },
    "id": "II_YtUZg3Ue4",
    "outputId": "76948908-4240-4d6b-d1db-38cbeda7d5be"
   },
   "outputs": [
    {
     "data": {
      "text/plain": [
       "0    LogisticRegression(max_iter=1000, random_state...\n",
       "1    LogisticRegression(max_iter=1000, random_state...\n",
       "2    LogisticRegression(max_iter=1000, random_state...\n",
       "3    LogisticRegression(max_iter=1000, random_state...\n",
       "4    LogisticRegression(max_iter=1000, random_state...\n",
       "5    LogisticRegression(max_iter=1000, random_state...\n",
       "6    LogisticRegression(max_iter=1000, random_state...\n",
       "7    LogisticRegression(max_iter=1000, random_state...\n",
       "8    LogisticRegression(max_iter=1000, random_state...\n",
       "dtype: object"
      ]
     },
     "execution_count": 49,
     "metadata": {},
     "output_type": "execute_result"
    }
   ],
   "source": [
    "predictors = expgrad_est.predictors_\n",
    "predictors"
   ]
  },
  {
   "cell_type": "code",
   "execution_count": 50,
   "metadata": {
    "id": "K3Bh2IVm4Ynj"
   },
   "outputs": [],
   "source": [
    "# Collect predictions by all predictors and calculate balanced error\n",
    "# as well as the false negative difference for all of them\n",
    "\n",
    "sweep_preds = [clf.predict(X_test) for clf in predictors]\n",
    "balanced_error_sweep = [1-balanced_accuracy_score(Y_test, Y_sweep) for Y_sweep in sweep_preds]\n",
    "fnr_diff_sweep = [false_negative_rate_difference(Y_test, Y_sweep, sensitive_features=A_test) for Y_sweep in sweep_preds]"
   ]
  },
  {
   "cell_type": "code",
   "execution_count": 51,
   "metadata": {
    "colab": {
     "base_uri": "https://localhost:8080/",
     "height": 260
    },
    "id": "r9TKGsNY8Myu",
    "outputId": "06146e22-ea39-4d70-9488-0dd9b03eddca"
   },
   "outputs": [
    {
     "data": {
      "image/png": "[encoded data removed]",
      "text/plain": [
       "<Figure size 432x288 with 1 Axes>"
      ]
     },
     "metadata": {},
     "output_type": "display_data"
    }
   ],
   "source": [
    "# Show the balanced error / fnr difference values of all predictors on a raster plot  \n",
    "\n",
    "plt.scatter(balanced_error_sweep, fnr_diff_sweep, label=\"ExponentiatedGradient - Iterations\")\n",
    "for i in range(len(predictors)):\n",
    "  plt.annotate(str(i), xy=(balanced_error_sweep[i]+0.001, fnr_diff_sweep[i]+0.001))\n",
    "\n",
    "# Also include in the plot the combined ExponentiatedGradient model\n",
    "# as well as the three previously fitted models\n",
    "\n",
    "plt.scatter(1-balanced_accuracy_score(Y_test, Y_pred_reductions),\n",
    "            false_negative_rate_difference(Y_test, Y_pred_reductions, sensitive_features=A_test),\n",
    "            label=\"ExponentiatedGradient - Combined model\")\n",
    "plt.scatter(1-balanced_accuracy_score(Y_test, Y_pred),\n",
    "            false_negative_rate_difference(Y_test, Y_pred, sensitive_features=A_test),\n",
    "            label=\"Unmitigated\")\n",
    "plt.scatter(1-balanced_accuracy_score(Y_test, Y_pred_postprocess),\n",
    "            false_negative_rate_difference(Y_test, Y_pred_postprocess, sensitive_features=A_test),\n",
    "            label=\"ThresholdOptimizer\")\n",
    "\n",
    "plt.xlabel(\"Balanced Error Rate\")\n",
    "plt.ylabel(\"False Negative Rate Difference\")\n",
    "plt.legend(bbox_to_anchor=(1.9,1))\n",
    "plt.show()"
   ]
  },
  {
   "cell_type": "markdown",
   "metadata": {
    "id": "iyknfgrsW1gi"
   },
   "source": [
    "## Comparing performance of different techniques"
   ]
  },
  {
   "cell_type": "markdown",
   "metadata": {
    "id": "Vee-7c2Tw33O"
   },
   "source": [
    "Now we have covered two different class of techniques for mitigating the fairness-related harms we found in our fairness-unaware model. In this section, we will compare the performance of the models we trained above across our key metrics."
   ]
  },
  {
   "cell_type": "markdown",
   "metadata": {
    "id": "XEXnEeLl7mgc"
   },
   "source": [
    "#### Model performance - by group"
   ]
  },
  {
   "cell_type": "code",
   "execution_count": 52,
   "metadata": {
    "id": "SNyCZxHJuXZV"
   },
   "outputs": [],
   "source": [
    "def plot_technique_comparison(mf_dict, metric):\n",
    "  \"\"\"\n",
    "  Plots a specified metric for a given dictionary of MetricFrames.\n",
    "  \"\"\"\n",
    "  mf_dict = {k:v.by_group[metric] for (k,v) in mf_dict.items()}\n",
    "  comparison_df = pd.DataFrame.from_dict(mf_dict)\n",
    "  comparison_df.plot.bar(figsize=(12, 6), legend=False)\n",
    "  plt.title(metric)\n",
    "  plt.xticks(rotation=0, ha='center');\n",
    "  plt.legend(bbox_to_anchor=(1.01,1), loc='upper left')"
   ]
  },
  {
   "cell_type": "code",
   "execution_count": 53,
   "metadata": {
    "id": "9dNb-kI3uHzM"
   },
   "outputs": [],
   "source": [
    "test_dict = {\n",
    "    \"Reductions\": metricframe_reductions,\n",
    "    \"Unmitigated\": metricframe_unmitigated,\n",
    "    \"Postprocessing\": metricframe_postprocess\n",
    "}"
   ]
  },
  {
   "cell_type": "code",
   "execution_count": 54,
   "metadata": {
    "colab": {
     "base_uri": "https://localhost:8080/",
     "height": 297
    },
    "id": "SweXBa-vEWFM",
    "outputId": "a230ed5d-2665-477d-adba-287c76020032"
   },
   "outputs": [
    {
     "data": {
      "image/png": "[encoded data removed]",
      "text/plain": [
       "<Figure size 864x432 with 1 Axes>"
      ]
     },
     "metadata": {},
     "output_type": "display_data"
    }
   ],
   "source": [
    "plot_technique_comparison(test_dict, \"false_negative_rate\")"
   ]
  },
  {
   "cell_type": "code",
   "execution_count": 55,
   "metadata": {
    "colab": {
     "base_uri": "https://localhost:8080/",
     "height": 297
    },
    "id": "FJOwW9db3wKe",
    "outputId": "a34b7c03-6bfc-4843-c67e-bc5997ebf86c"
   },
   "outputs": [
    {
     "data": {
      "image/png": "[encoded data removed]",
      "text/plain": [
       "<Figure size 864x432 with 1 Axes>"
      ]
     },
     "metadata": {},
     "output_type": "display_data"
    }
   ],
   "source": [
    "plot_technique_comparison(test_dict, \"balanced_accuracy\")"
   ]
  },
  {
   "cell_type": "markdown",
   "metadata": {
    "id": "OYkgAggpW11N"
   },
   "source": [
    "\n",
    "\n",
    "#### Model performance - overall"
   ]
  },
  {
   "cell_type": "code",
   "execution_count": 56,
   "metadata": {
    "id": "w3Rwe98m6Pv2"
   },
   "outputs": [],
   "source": [
    "overall_df = pd.DataFrame.from_dict({\n",
    "    \"Unmitigated\": metricframe_unmitigated.overall,\n",
    "    \"Postprocessing\": metricframe_postprocess.overall,\n",
    "    \"Reductions\": metricframe_reductions.overall\n",
    "})"
   ]
  },
  {
   "cell_type": "code",
   "execution_count": 57,
   "metadata": {
    "colab": {
     "base_uri": "https://localhost:8080/",
     "height": 172
    },
    "id": "44Q-lYTa6PzX",
    "outputId": "376ce1db-ead9-4984-83c6-7e59e815a1b2"
   },
   "outputs": [
    {
     "data": {
      "text/html": [
       "<div>\n",
       "<style scoped>\n",
       "    .dataframe tbody tr th:only-of-type {\n",
       "        vertical-align: middle;\n",
       "    }\n",
       "\n",
       "    .dataframe tbody tr th {\n",
       "        vertical-align: top;\n",
       "    }\n",
       "\n",
       "    .dataframe thead th {\n",
       "        text-align: right;\n",
       "    }\n",
       "</style>\n",
       "<table border=\"1\" class=\"dataframe\">\n",
       "  <thead>\n",
       "    <tr style=\"text-align: right;\">\n",
       "      <th></th>\n",
       "      <th>selection_rate</th>\n",
       "      <th>false_negative_rate</th>\n",
       "      <th>balanced_accuracy</th>\n",
       "    </tr>\n",
       "  </thead>\n",
       "  <tbody>\n",
       "    <tr>\n",
       "      <th>Unmitigated</th>\n",
       "      <td>0.387</td>\n",
       "      <td>0.446</td>\n",
       "      <td>0.594</td>\n",
       "    </tr>\n",
       "    <tr>\n",
       "      <th>Postprocessing</th>\n",
       "      <td>0.445</td>\n",
       "      <td>0.395</td>\n",
       "      <td>0.591</td>\n",
       "    </tr>\n",
       "    <tr>\n",
       "      <th>Reductions</th>\n",
       "      <td>0.396</td>\n",
       "      <td>0.446</td>\n",
       "      <td>0.589</td>\n",
       "    </tr>\n",
       "  </tbody>\n",
       "</table>\n",
       "</div>"
      ],
      "text/plain": [
       "               selection_rate false_negative_rate balanced_accuracy\n",
       "Unmitigated             0.387               0.446             0.594\n",
       "Postprocessing          0.445               0.395             0.591\n",
       "Reductions              0.396               0.446             0.589"
      ]
     },
     "execution_count": 57,
     "metadata": {},
     "output_type": "execute_result"
    }
   ],
   "source": [
    "overall_df.T"
   ]
  },
  {
   "cell_type": "code",
   "execution_count": 58,
   "metadata": {
    "colab": {
     "base_uri": "https://localhost:8080/",
     "height": 359
    },
    "id": "yUaAejwa6P3F",
    "outputId": "c6d84d35-fdde-47be-af88-69881afaa163",
    "scrolled": true
   },
   "outputs": [
    {
     "data": {
      "image/png": "[encoded data removed]",
      "text/plain": [
       "<Figure size 864x360 with 3 Axes>"
      ]
     },
     "metadata": {},
     "output_type": "display_data"
    }
   ],
   "source": [
    "overall_df.transpose().plot.bar(subplots=True, layout= [1,3], figsize=(12, 5), legend=False, rot=-45, position=1.5);"
   ]
  },
  {
   "cell_type": "markdown",
   "metadata": {
    "id": "P9dvkQvKW1lv"
   },
   "source": [
    "### Access to sensitive features\n",
    "\n"
   ]
  },
  {
   "cell_type": "markdown",
   "metadata": {
    "id": "L56tawsAW14B"
   },
   "source": [
    "\n",
    "\n",
    "*   The `ThresholdOptimizer` model requires access to the sensitive features during BOTH training time and once deployed. If you do not have access to the sensitive features once the model is deployed, you will not be able to use the `ThresholdOptimizer`.\n",
    "*   The `ExponentiatedGradient` model requires access to the sensitive features ONLY during training time. \n",
    "\n",
    "\n"
   ]
  },
  {
   "cell_type": "markdown",
   "metadata": {
    "id": "1j9WzWcCVbZV"
   },
   "source": [
    "# Discussion and conclusion"
   ]
  },
  {
   "cell_type": "markdown",
   "metadata": {
    "id": "xtvW54LtB8hp"
   },
   "source": [
    "In this tutorial we have explored in depth a health care scenario through all stages of the AI lifecycle except the model deployment stage. We have seen how fairness-related harms can arise at the stage of task definition, data collection, model training, and model evaluation. \n",
    "\n",
    "Once the model is deployed, it is important to continue monitoring the key metrics to assess any performance difference as well as the potential for fairness related harms. As you learn more about how the model is used, you may need to revise the fairness metrics, update the model, consider additional sensitive features, update the task definition, or collect new data.\n",
    "\n",
    "Although we used a variety of software tools, fairness is a sociotechnical challenge, so mitigations cannot be purely technical, and need to be supported by processes and practices, including government regulation and organizational incentives.\n",
    "\n",
    "If you would like to learn more about fairness of AI systems, or to contribute to Fairlearn, we welcome you to join our community. Fairlearn is built and maintained by contributors with a variety of backgrounds and expertise.\n",
    "\n",
    "Further resources can also be found [on our website](https://fairlearn.org/main/user_guide/further_resources.html)."
   ]
  },
  {
   "cell_type": "markdown",
   "metadata": {},
   "source": [
    "## Attribution"
   ]
  },
  {
   "cell_type": "markdown",
   "metadata": {},
   "source": [
    "This tutorial is adapted from the **Fairness in AI Systems**: *From Social Context to Practice using Fairlearn* given at *SciPy 2021*. The tutorial is avaliable online on [GitHub](https://github.com/fairlearn/talks/tree/main/2021_scipy_tutorial)."
   ]
  }
 ],
 "metadata": {
  "colab": {
   "collapsed_sections": [
    "4MMbl3u7-J-a",
    "ZVSerRqDG3we"
   ],
   "name": "SciPy 2021 Tutorial.ipynb",
   "provenance": [],
   "toc_visible": true
  },
  "interpreter": {
   "hash": "a025db62d48a12d86b0e6b0cb53f59776c5e11a448915a1ba45134646da53519"
  },
  "kernelspec": {
   "display_name": "Python 3",
   "language": "python",
   "name": "python3"
  },
  "language_info": {
   "codemirror_mode": {
    "name": "ipython",
    "version": 3
   },
   "file_extension": ".py",
   "mimetype": "text/x-python",
   "name": "python",
   "nbconvert_exporter": "python",
   "pygments_lexer": "ipython3",
   "version": "3.7.10"
  }
 },
 "nbformat": 4,
 "nbformat_minor": 1
}
