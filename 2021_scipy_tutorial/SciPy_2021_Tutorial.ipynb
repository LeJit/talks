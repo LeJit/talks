{
 "cells": [
  {
   "cell_type": "markdown",
   "metadata": {
    "id": "4MMbl3u7-J-a"
   },
   "source": [
    "# Current status\n",
    "\n",
    "* **Overview of Fairness in AI Systems**\n",
    "  * <mark>ready for review</mark>\n",
    "* **Introduction of Fairlearn and other tutorial resources**\n",
    "  * work hasn't started\n",
    "* **Introduction to the Health Care Scenario**\n",
    "  * <mark>ready for review</mark>\n",
    "* **Task definition and dataset characteristics**\n",
    "  * <mark>ready for review</mark>\n",
    "* **Training the initial model**\n",
    "  * <mark>ready for review</mark>\n",
    "* **Fainess assessment**\n",
    "  * <mark>ready for review</mark>\n",
    "* **Mitigating fairness-related harms in ML models**\n",
    "  * <mark>ready for review</mark>\n",
    "* **Model Cards for Model Reporting**\n",
    "  * <mark>ready for review</mark>\n",
    "* **Discussion and conclusion**\n",
    "  * in progress\n",
    "\n",
    "### Additional materials (for reference):\n",
    "\n",
    "* DEPRECATED notebook on dataset issues: https://colab.research.google.com/drive/1ARyHijiVUa0hyYfTqdZTSwJETcUnD2wP#scrollTo=Q2Dx5VA6D158\n",
    "\n",
    "* Discussion of healthcare scenario: https://docs.google.com/document/d/1C8sEMlRLIZa3-c2XPUJikzNJCaLbwRRNz6ZA4SyvlKY/edit#"
   ]
  },
  {
   "cell_type": "markdown",
   "metadata": {
    "id": "fboVvqvVvpKz"
   },
   "source": [
    "# Install packages\n",
    "\n",
    "The runtime environment needs to be restarted after installing `model-card-toolkit`.\n",
    "\n",
    "> **NOTE:** Code only (section hidden)."
   ]
  },
  {
   "cell_type": "code",
   "execution_count": 3,
   "metadata": {
    "colab": {
     "base_uri": "https://localhost:8080/"
    },
    "id": "w_uVNMHUdb2w",
    "outputId": "3a4e1c5c-0f39-4b96-ee12-a1eaf7018230"
   },
   "outputs": [],
   "source": [
    "#!pip install --upgrade fairlearn==0.6.2\n",
    "#!pip install --upgrade scikit-learn\n",
    "#!pip install --upgrade seaborn\n",
    "#!pip install eli5\n",
    "#!pip install model-card-toolkit"
   ]
  },
  {
   "cell_type": "markdown",
   "metadata": {
    "id": "fVtpwFGJLcgU"
   },
   "source": [
    "# Import packages\n",
    "\n",
    "> **NOTE:** Code only (section hidden)."
   ]
  },
  {
   "cell_type": "code",
   "execution_count": 4,
   "metadata": {
    "id": "cEwLsWyTLgJn"
   },
   "outputs": [],
   "source": [
    "import numpy as np\n",
    "import pandas as pd\n",
    "\n",
    "pd.set_option(\"display.float_format\", \"{:.3f}\".format)"
   ]
  },
  {
   "cell_type": "code",
   "execution_count": 5,
   "metadata": {
    "id": "wBOSsyc48MK0"
   },
   "outputs": [],
   "source": [
    "import matplotlib.pyplot as plt\n",
    "import seaborn as sns\n",
    "\n",
    "sns.set()"
   ]
  },
  {
   "cell_type": "code",
   "execution_count": 6,
   "metadata": {
    "id": "VhbFzU6GLgW0"
   },
   "outputs": [],
   "source": [
    "from sklearn.linear_model import LogisticRegression\n",
    "from sklearn.model_selection import train_test_split\n",
    "from sklearn.preprocessing import StandardScaler\n",
    "from sklearn.pipeline import Pipeline\n",
    "from sklearn.utils import Bunch\n",
    "from sklearn.metrics import (\n",
    "    balanced_accuracy_score,\n",
    "    roc_auc_score,\n",
    "    accuracy_score,\n",
    "    recall_score,\n",
    "    confusion_matrix,\n",
    "    roc_auc_score,\n",
    "    roc_curve,\n",
    "    plot_roc_curve)\n",
    "from sklearn import set_config\n",
    "\n",
    "set_config(display=\"diagram\")"
   ]
  },
  {
   "cell_type": "code",
   "execution_count": 7,
   "metadata": {
    "id": "GcilMnWhLgaT"
   },
   "outputs": [],
   "source": [
    "from fairlearn.metrics import (\n",
    "    MetricFrame,\n",
    "    true_positive_rate,\n",
    "    false_positive_rate,\n",
    "    false_negative_rate,\n",
    "    selection_rate,\n",
    "    false_negative_rate_difference\n",
    ")\n",
    "\n",
    "from fairlearn.postprocessing import ThresholdOptimizer, plot_threshold_optimizer\n",
    "from fairlearn.postprocessing._interpolated_thresholder import InterpolatedThresholder\n",
    "from fairlearn.postprocessing._threshold_operation import ThresholdOperation\n",
    "from fairlearn.reductions import ExponentiatedGradient, EqualizedOdds, TruePositiveRateParity"
   ]
  },
  {
   "cell_type": "code",
   "execution_count": 9,
   "metadata": {
    "id": "oMbCFBSZr2A4"
   },
   "outputs": [],
   "source": [
    "from model_card_toolkit import ModelCardToolkit\n",
    "from model_card_toolkit.utils.graphics import figure_to_base64str"
   ]
  },
  {
   "cell_type": "code",
   "execution_count": 10,
   "metadata": {
    "id": "S4ANMj1M8k0h"
   },
   "outputs": [],
   "source": [
    "from IPython import display\n",
    "from datetime import date"
   ]
  },
  {
   "cell_type": "markdown",
   "metadata": {
    "id": "4OoPTetsDv-v"
   },
   "source": [
    "# **Overview of fairness in AI systems**"
   ]
  },
  {
   "cell_type": "markdown",
   "metadata": {
    "id": "vt9n43o6DPbg"
   },
   "source": [
    "> Please review the slides here: https://1drv.ms/p/s!AkhMVGanL7GSgZIMO2QVWMOarl_-TA?e=vbCcW6\n"
   ]
  },
  {
   "cell_type": "markdown",
   "metadata": {
    "id": "0gZTFumIxCfK"
   },
   "source": [
    "# **Introduction of Fairlearn and other tutorial resources**\n"
   ]
  },
  {
   "cell_type": "markdown",
   "metadata": {
    "id": "SJtY38fGDmFy"
   },
   "source": [
    "> Outline\n",
    ">\n",
    ">* Introduce Fairlearn\n",
    ">\n",
    ">* Describe/list other packages/resources that we are using in the tutorial\n",
    ">\n",
    ">* Make sure that the other required packages are installed and possibly offer some help with installation issues.\n"
   ]
  },
  {
   "cell_type": "markdown",
   "metadata": {
    "id": "9mraFDjvaiB4"
   },
   "source": [
    "[THIS SECTION STILL NEEDS FILLING IN]"
   ]
  },
  {
   "cell_type": "markdown",
   "metadata": {
    "id": "_j1vtg6TD7Fi"
   },
   "source": [
    "# **Introduction to the Health Care Scenario**"
   ]
  },
  {
   "cell_type": "markdown",
   "metadata": {
    "id": "HUkG_zdEylGU"
   },
   "source": [
    "### Introduction\n",
    "\n",
    "Our scenario builds on previous research that highlighted racial disparities in how health care resources are allocated in the U.S. ([Obermeyer et al., 2019](https://science.sciencemag.org/content/366/6464/447.full)).\n",
    "Motivated by that work, in this tutorial we consider an automated system for recommending patients for _high-risk care management_ programs, which are described by Obermeyer et al. 2019 as follows:\n",
    "\n",
    "> These programs seek to improve the care of patients with complex health needs by providing additional resources, including greater attention from trained providers, to help ensure that care is well coordinated. Most health systems use these programs as the cornerstone of population health management efforts, and they are widely considered effective at improving outcomes and satisfaction while reducing costs. [...] Because the programs are themselves expensive—with costs going toward teams of dedicated nurses, extra primary care appointment slots, and other scarce resources—<mark>health systems rely extensively on algorithms to identify patients who will benefit the most.</mark>\n",
    "\n",
    "**Convenience restriction**\n",
    "\n",
    "* In practice, the modeling would use large data sets covering a wide range of diagnoses. In this tutorial, we will work with a [publicly available clinical dataset](https://archive.ics.uci.edu/ml/datasets/Diabetes+130-US+hospitals+for+years+1999-2008) that focuses on _diabetic patients only_ ([Strack et al., 2014](https://www.hindawi.com/journals/bmri/2014/781670/)).\n",
    "\n",
    "### Task definition\n",
    "\n",
    "We will be working with a clincial dataset of hospital re-admissions over a ten-year period (1998-2008) for diabetic patients across 130 different hospitals in the US. Each record represents the hospital admission records for a patient diagnosed with diabetes whose stay lasted between one to fourteen days.\n",
    "\n",
    "The features describing each encounter include demographics, diagnoses, diabetic medications, number of visits in the year preceding the encounter, and payer information, as well as whether the patient was readmitted after release, and whether the readmission occurred within 30 days of the release.\n",
    "\n",
    "We would like to develop a classification model, which decides whether the patients should be suggested to their primary care physicians for an enrollment into the high-risk care management program. The positive prediction will mean recommendation into the care program.\n",
    "\n",
    "**Decision point: Task definition**\n",
    "\n",
    "* A hospital **readmission within 30 days** can be viewed as a proxy that the patients needed more assistance at the release time, so it will be the label we wish to predict.\n",
    "\n",
    "* Because of the class imbalance, we will be measuring our performance via **balanced accuracy**. Another key performance consideration is how many patients are recommended for care, metric we refer to as **selection rate**.\n",
    "\n",
    "Ideally, health care professionals would be involved in both designing and using the model, including formalizing the task definition. \n"
   ]
  },
  {
   "cell_type": "markdown",
   "metadata": {
    "id": "eZUcQVZYyRvz"
   },
   "source": [
    "## Discussion: Fairness considerations\n",
    "\n",
    "* _Which groups are most likely to be disproportionately negatively affected?_ Previous work suggests that groups with different race and ethnicity can be differently affected.\n",
    "\n",
    "* _What are the harms?_ The key harms here are allocation harms. In particular, false negatives, i.e., don't recommend somebody who will be readmitted.\n",
    "\n",
    "* _How would you go about measuring those harms?_\n"
   ]
  },
  {
   "cell_type": "markdown",
   "metadata": {
    "id": "2kD6G-yF1Tcf"
   },
   "source": [
    "In the remainder of the tutorial we will:\n",
    "* First examine the dataset and our choice of label with an eye towards a variety of fairness issues.\n",
    "* Then train a logistic regression model and assess its performance as well as fairness.\n",
    "* Finally, look at two unfairness mitigation strategies."
   ]
  },
  {
   "cell_type": "markdown",
   "metadata": {
    "id": "R7tpRumX_4Nh"
   },
   "source": [
    "# Task definition and dataset characteristics"
   ]
  },
  {
   "cell_type": "markdown",
   "metadata": {
    "id": "3iJGhfCgPiy-"
   },
   "source": [
    "Two critical decisions when desiging an AI system are\n",
    "1. how we define the machine learning task\n",
    "2. what dataset we use to train our models\n",
    "\n",
    "These choices are often intertwined, because the dataset is often a convenience dataset, based on availability, which leads to a specific choice of label and performance metric (that's also the case in our scenario).\n",
    "\n",
    "In this unit, we first load the dataset, and then we examine it for a variety of fairness issues:\n",
    "1. appropriateness of our choice of label (readmission within 30 days) for our goals\n",
    "2. sample sizes of different demographic groups, and in particular different racial groups\n",
    "3. representativeness/informativeness of different features for different groups\n",
    "\n",
    "Besides dataset characteristics, one additional aspect of dataset fairness is whether the data was collected in a manner that respects the autonomy of individuals in the dataset.\n",
    "\n",
    "The dataset characteristics can be systematically documented through the **datasheets** practice. We will touch on this at the end of the unit. By documenting our understanding of the dataset, we communicate any concerns we have about the data and highlight downstream issues that may arise during the model training, evaluation and deployment.\n",
    "\n"
   ]
  },
  {
   "cell_type": "markdown",
   "metadata": {
    "id": "FkTmOAh8Bp1D"
   },
   "source": [
    "## Discussion: Dataset fairness issues\n",
    "\n",
    "* How might historical or societal biases be reflected in the dataset?\n",
    "* What characteristics of the data might lead to fairness-related harms? \n",
    "* Specifically, might there be too few data points about some groups of people?\n",
    "* Is there anything else you’d like to know if there were more robust documentation about the dataset, its characteristics, and limitations?\n"
   ]
  },
  {
   "cell_type": "markdown",
   "metadata": {
    "id": "3-ABnntZT8Fn"
   },
   "source": [
    "## Load the dataset\n"
   ]
  },
  {
   "cell_type": "markdown",
   "metadata": {
    "id": "bvyHqcLIT8Fo"
   },
   "source": [
    "We next load the dataset and review the meaning of its columns.\n"
   ]
  },
  {
   "cell_type": "code",
   "execution_count": 11,
   "metadata": {
    "id": "gkfwniFQT8Fp"
   },
   "outputs": [],
   "source": [
    "df = pd.read_csv(\"https://raw.githubusercontent.com/LeJit/talks/scipy_talk/2021/scipy/data/diabetic_preprocessed.csv\")"
   ]
  },
  {
   "cell_type": "code",
   "execution_count": 12,
   "metadata": {
    "colab": {
     "base_uri": "https://localhost:8080/",
     "height": 351
    },
    "id": "mIFN96kiT8Fq",
    "outputId": "ce7007af-78a3-487d-80d3-ca87f9ff12b4"
   },
   "outputs": [
    {
     "data": {
      "text/html": [
       "<div>\n",
       "<style scoped>\n",
       "    .dataframe tbody tr th:only-of-type {\n",
       "        vertical-align: middle;\n",
       "    }\n",
       "\n",
       "    .dataframe tbody tr th {\n",
       "        vertical-align: top;\n",
       "    }\n",
       "\n",
       "    .dataframe thead th {\n",
       "        text-align: right;\n",
       "    }\n",
       "</style>\n",
       "<table border=\"1\" class=\"dataframe\">\n",
       "  <thead>\n",
       "    <tr style=\"text-align: right;\">\n",
       "      <th></th>\n",
       "      <th>race</th>\n",
       "      <th>gender</th>\n",
       "      <th>age</th>\n",
       "      <th>discharge_disposition_id</th>\n",
       "      <th>admission_source_id</th>\n",
       "      <th>time_in_hospital</th>\n",
       "      <th>medical_specialty</th>\n",
       "      <th>num_lab_procedures</th>\n",
       "      <th>num_procedures</th>\n",
       "      <th>num_medications</th>\n",
       "      <th>...</th>\n",
       "      <th>change</th>\n",
       "      <th>diabetesMed</th>\n",
       "      <th>medicare</th>\n",
       "      <th>medicaid</th>\n",
       "      <th>had_emergency</th>\n",
       "      <th>had_inpatient_days</th>\n",
       "      <th>had_outpatient_days</th>\n",
       "      <th>readmitted</th>\n",
       "      <th>readmit_binary</th>\n",
       "      <th>readmit_30_days</th>\n",
       "    </tr>\n",
       "  </thead>\n",
       "  <tbody>\n",
       "    <tr>\n",
       "      <th>0</th>\n",
       "      <td>Caucasian</td>\n",
       "      <td>Female</td>\n",
       "      <td>30 years or younger</td>\n",
       "      <td>Other</td>\n",
       "      <td>Referral</td>\n",
       "      <td>1</td>\n",
       "      <td>Other</td>\n",
       "      <td>41</td>\n",
       "      <td>0</td>\n",
       "      <td>1</td>\n",
       "      <td>...</td>\n",
       "      <td>No</td>\n",
       "      <td>No</td>\n",
       "      <td>False</td>\n",
       "      <td>False</td>\n",
       "      <td>False</td>\n",
       "      <td>False</td>\n",
       "      <td>False</td>\n",
       "      <td>NO</td>\n",
       "      <td>0</td>\n",
       "      <td>0</td>\n",
       "    </tr>\n",
       "    <tr>\n",
       "      <th>1</th>\n",
       "      <td>Caucasian</td>\n",
       "      <td>Female</td>\n",
       "      <td>30 years or younger</td>\n",
       "      <td>Discharged to Home</td>\n",
       "      <td>Emergency</td>\n",
       "      <td>3</td>\n",
       "      <td>Missing</td>\n",
       "      <td>59</td>\n",
       "      <td>0</td>\n",
       "      <td>18</td>\n",
       "      <td>...</td>\n",
       "      <td>Ch</td>\n",
       "      <td>Yes</td>\n",
       "      <td>False</td>\n",
       "      <td>False</td>\n",
       "      <td>False</td>\n",
       "      <td>False</td>\n",
       "      <td>False</td>\n",
       "      <td>&gt;30</td>\n",
       "      <td>1</td>\n",
       "      <td>0</td>\n",
       "    </tr>\n",
       "    <tr>\n",
       "      <th>2</th>\n",
       "      <td>AfricanAmerican</td>\n",
       "      <td>Female</td>\n",
       "      <td>30 years or younger</td>\n",
       "      <td>Discharged to Home</td>\n",
       "      <td>Emergency</td>\n",
       "      <td>2</td>\n",
       "      <td>Missing</td>\n",
       "      <td>11</td>\n",
       "      <td>5</td>\n",
       "      <td>13</td>\n",
       "      <td>...</td>\n",
       "      <td>No</td>\n",
       "      <td>Yes</td>\n",
       "      <td>False</td>\n",
       "      <td>False</td>\n",
       "      <td>False</td>\n",
       "      <td>True</td>\n",
       "      <td>True</td>\n",
       "      <td>NO</td>\n",
       "      <td>0</td>\n",
       "      <td>0</td>\n",
       "    </tr>\n",
       "    <tr>\n",
       "      <th>3</th>\n",
       "      <td>Caucasian</td>\n",
       "      <td>Male</td>\n",
       "      <td>30-60 years</td>\n",
       "      <td>Discharged to Home</td>\n",
       "      <td>Emergency</td>\n",
       "      <td>2</td>\n",
       "      <td>Missing</td>\n",
       "      <td>44</td>\n",
       "      <td>1</td>\n",
       "      <td>16</td>\n",
       "      <td>...</td>\n",
       "      <td>Ch</td>\n",
       "      <td>Yes</td>\n",
       "      <td>False</td>\n",
       "      <td>False</td>\n",
       "      <td>False</td>\n",
       "      <td>False</td>\n",
       "      <td>False</td>\n",
       "      <td>NO</td>\n",
       "      <td>0</td>\n",
       "      <td>0</td>\n",
       "    </tr>\n",
       "    <tr>\n",
       "      <th>4</th>\n",
       "      <td>Caucasian</td>\n",
       "      <td>Male</td>\n",
       "      <td>30-60 years</td>\n",
       "      <td>Discharged to Home</td>\n",
       "      <td>Emergency</td>\n",
       "      <td>1</td>\n",
       "      <td>Missing</td>\n",
       "      <td>51</td>\n",
       "      <td>0</td>\n",
       "      <td>8</td>\n",
       "      <td>...</td>\n",
       "      <td>Ch</td>\n",
       "      <td>Yes</td>\n",
       "      <td>False</td>\n",
       "      <td>False</td>\n",
       "      <td>False</td>\n",
       "      <td>False</td>\n",
       "      <td>False</td>\n",
       "      <td>NO</td>\n",
       "      <td>0</td>\n",
       "      <td>0</td>\n",
       "    </tr>\n",
       "  </tbody>\n",
       "</table>\n",
       "<p>5 rows × 25 columns</p>\n",
       "</div>"
      ],
      "text/plain": [
       "              race  gender                  age discharge_disposition_id  \\\n",
       "0        Caucasian  Female  30 years or younger                    Other   \n",
       "1        Caucasian  Female  30 years or younger       Discharged to Home   \n",
       "2  AfricanAmerican  Female  30 years or younger       Discharged to Home   \n",
       "3        Caucasian    Male          30-60 years       Discharged to Home   \n",
       "4        Caucasian    Male          30-60 years       Discharged to Home   \n",
       "\n",
       "  admission_source_id  time_in_hospital medical_specialty  num_lab_procedures  \\\n",
       "0            Referral                 1             Other                  41   \n",
       "1           Emergency                 3           Missing                  59   \n",
       "2           Emergency                 2           Missing                  11   \n",
       "3           Emergency                 2           Missing                  44   \n",
       "4           Emergency                 1           Missing                  51   \n",
       "\n",
       "   num_procedures  num_medications  ... change  diabetesMed medicare medicaid  \\\n",
       "0               0                1  ...     No           No    False    False   \n",
       "1               0               18  ...     Ch          Yes    False    False   \n",
       "2               5               13  ...     No          Yes    False    False   \n",
       "3               1               16  ...     Ch          Yes    False    False   \n",
       "4               0                8  ...     Ch          Yes    False    False   \n",
       "\n",
       "  had_emergency had_inpatient_days had_outpatient_days  readmitted  \\\n",
       "0         False              False               False          NO   \n",
       "1         False              False               False         >30   \n",
       "2         False               True                True          NO   \n",
       "3         False              False               False          NO   \n",
       "4         False              False               False          NO   \n",
       "\n",
       "   readmit_binary  readmit_30_days  \n",
       "0               0                0  \n",
       "1               1                0  \n",
       "2               0                0  \n",
       "3               0                0  \n",
       "4               0                0  \n",
       "\n",
       "[5 rows x 25 columns]"
      ]
     },
     "execution_count": 12,
     "metadata": {},
     "output_type": "execute_result"
    }
   ],
   "source": [
    "df.head()"
   ]
  },
  {
   "cell_type": "markdown",
   "metadata": {
    "id": "KXQNItgRT8Fu"
   },
   "source": [
    "The columns contain mostly boolean and categorical data (including age and various test results), with just the following exceptions: time_in_hospital, num_lab_procedures, num_procedures, num_medications, number_diagnoses.\n",
    "\n",
    "\n",
    "|features| description|\n",
    "|---|---|\n",
    "| race, gender, age | demographic features |\n",
    "| medicare, medicaid | insurance information |\n",
    "| admission_source_id | emergency, referral, or other |\n",
    "| had_emergency, had_inpatient_days,<br>had_outpatient_days | hospital visits in prior year |\n",
    "| medical_specialty | admitting physician's specialty |\n",
    "| time_in_hospital, num_lab_procedures,<br>num_procedures, num_medications,<br>primary_diagnosis, number_diagnoses,<br>max_glu_serum, A1Cresult, insulin<br>change, diabetesMed | description of the hospital visit<br> |\n",
    "| discharge_disposition_id | discharched to home or not |\n",
    "| readmitted, readmit_binary,<br>readmit_30_days | readmission information |\n",
    "\n",
    "\n"
   ]
  },
  {
   "cell_type": "code",
   "execution_count": 13,
   "metadata": {
    "colab": {
     "base_uri": "https://localhost:8080/",
     "height": 647
    },
    "id": "gPtaDcfHT8Fv",
    "outputId": "c30da4ba-334a-4754-f1dc-a04fb42053db"
   },
   "outputs": [
    {
     "data": {
      "text/html": [
       "<div>\n",
       "<style scoped>\n",
       "    .dataframe tbody tr th:only-of-type {\n",
       "        vertical-align: middle;\n",
       "    }\n",
       "\n",
       "    .dataframe tbody tr th {\n",
       "        vertical-align: top;\n",
       "    }\n",
       "\n",
       "    .dataframe thead th {\n",
       "        text-align: right;\n",
       "    }\n",
       "</style>\n",
       "<table border=\"1\" class=\"dataframe\">\n",
       "  <thead>\n",
       "    <tr style=\"text-align: right;\">\n",
       "      <th></th>\n",
       "      <th>0</th>\n",
       "      <th>1</th>\n",
       "      <th>2</th>\n",
       "      <th>3</th>\n",
       "      <th>4</th>\n",
       "      <th>5</th>\n",
       "    </tr>\n",
       "  </thead>\n",
       "  <tbody>\n",
       "    <tr>\n",
       "      <th>race</th>\n",
       "      <td>Caucasian</td>\n",
       "      <td>AfricanAmerican</td>\n",
       "      <td>Unknown</td>\n",
       "      <td>Hispanic</td>\n",
       "      <td>Other</td>\n",
       "      <td>Asian</td>\n",
       "    </tr>\n",
       "    <tr>\n",
       "      <th>gender</th>\n",
       "      <td>Female</td>\n",
       "      <td>Male</td>\n",
       "      <td>Unknown/Invalid</td>\n",
       "      <td></td>\n",
       "      <td></td>\n",
       "      <td></td>\n",
       "    </tr>\n",
       "    <tr>\n",
       "      <th>age</th>\n",
       "      <td>Over 60 years</td>\n",
       "      <td>30-60 years</td>\n",
       "      <td>30 years or younger</td>\n",
       "      <td></td>\n",
       "      <td></td>\n",
       "      <td></td>\n",
       "    </tr>\n",
       "    <tr>\n",
       "      <th>discharge_disposition_id</th>\n",
       "      <td>Discharged to Home</td>\n",
       "      <td>Other</td>\n",
       "      <td></td>\n",
       "      <td></td>\n",
       "      <td></td>\n",
       "      <td></td>\n",
       "    </tr>\n",
       "    <tr>\n",
       "      <th>admission_source_id</th>\n",
       "      <td>Emergency</td>\n",
       "      <td>Referral</td>\n",
       "      <td>Other</td>\n",
       "      <td></td>\n",
       "      <td></td>\n",
       "      <td></td>\n",
       "    </tr>\n",
       "    <tr>\n",
       "      <th>medical_specialty</th>\n",
       "      <td>Missing</td>\n",
       "      <td>Other</td>\n",
       "      <td>InternalMedicine</td>\n",
       "      <td>Emergency/Trauma</td>\n",
       "      <td>Family/GeneralPractice</td>\n",
       "      <td>Cardiology</td>\n",
       "    </tr>\n",
       "    <tr>\n",
       "      <th>primary_diagnosis</th>\n",
       "      <td>Other</td>\n",
       "      <td>Respiratory Issues</td>\n",
       "      <td>Diabetes</td>\n",
       "      <td>Genitourinary Issues</td>\n",
       "      <td>Musculoskeletal Issues</td>\n",
       "      <td></td>\n",
       "    </tr>\n",
       "    <tr>\n",
       "      <th>max_glu_serum</th>\n",
       "      <td>None</td>\n",
       "      <td>Norm</td>\n",
       "      <td>&gt;200</td>\n",
       "      <td>&gt;300</td>\n",
       "      <td></td>\n",
       "      <td></td>\n",
       "    </tr>\n",
       "    <tr>\n",
       "      <th>A1Cresult</th>\n",
       "      <td>None</td>\n",
       "      <td>&gt;8</td>\n",
       "      <td>Norm</td>\n",
       "      <td>&gt;7</td>\n",
       "      <td></td>\n",
       "      <td></td>\n",
       "    </tr>\n",
       "    <tr>\n",
       "      <th>insulin</th>\n",
       "      <td>No</td>\n",
       "      <td>Steady</td>\n",
       "      <td>Down</td>\n",
       "      <td>Up</td>\n",
       "      <td></td>\n",
       "      <td></td>\n",
       "    </tr>\n",
       "    <tr>\n",
       "      <th>change</th>\n",
       "      <td>No</td>\n",
       "      <td>Ch</td>\n",
       "      <td></td>\n",
       "      <td></td>\n",
       "      <td></td>\n",
       "      <td></td>\n",
       "    </tr>\n",
       "    <tr>\n",
       "      <th>diabetesMed</th>\n",
       "      <td>Yes</td>\n",
       "      <td>No</td>\n",
       "      <td></td>\n",
       "      <td></td>\n",
       "      <td></td>\n",
       "      <td></td>\n",
       "    </tr>\n",
       "    <tr>\n",
       "      <th>medicare</th>\n",
       "      <td>False</td>\n",
       "      <td>True</td>\n",
       "      <td></td>\n",
       "      <td></td>\n",
       "      <td></td>\n",
       "      <td></td>\n",
       "    </tr>\n",
       "    <tr>\n",
       "      <th>medicaid</th>\n",
       "      <td>False</td>\n",
       "      <td>True</td>\n",
       "      <td></td>\n",
       "      <td></td>\n",
       "      <td></td>\n",
       "      <td></td>\n",
       "    </tr>\n",
       "    <tr>\n",
       "      <th>had_emergency</th>\n",
       "      <td>False</td>\n",
       "      <td>True</td>\n",
       "      <td></td>\n",
       "      <td></td>\n",
       "      <td></td>\n",
       "      <td></td>\n",
       "    </tr>\n",
       "    <tr>\n",
       "      <th>had_inpatient_days</th>\n",
       "      <td>False</td>\n",
       "      <td>True</td>\n",
       "      <td></td>\n",
       "      <td></td>\n",
       "      <td></td>\n",
       "      <td></td>\n",
       "    </tr>\n",
       "    <tr>\n",
       "      <th>had_outpatient_days</th>\n",
       "      <td>False</td>\n",
       "      <td>True</td>\n",
       "      <td></td>\n",
       "      <td></td>\n",
       "      <td></td>\n",
       "      <td></td>\n",
       "    </tr>\n",
       "    <tr>\n",
       "      <th>readmitted</th>\n",
       "      <td>NO</td>\n",
       "      <td>&gt;30</td>\n",
       "      <td>&lt;30</td>\n",
       "      <td></td>\n",
       "      <td></td>\n",
       "      <td></td>\n",
       "    </tr>\n",
       "    <tr>\n",
       "      <th>readmit_binary</th>\n",
       "      <td>0.000</td>\n",
       "      <td>1.000</td>\n",
       "      <td></td>\n",
       "      <td></td>\n",
       "      <td></td>\n",
       "      <td></td>\n",
       "    </tr>\n",
       "    <tr>\n",
       "      <th>readmit_30_days</th>\n",
       "      <td>0.000</td>\n",
       "      <td>1.000</td>\n",
       "      <td></td>\n",
       "      <td></td>\n",
       "      <td></td>\n",
       "      <td></td>\n",
       "    </tr>\n",
       "  </tbody>\n",
       "</table>\n",
       "</div>"
      ],
      "text/plain": [
       "                                           0                   1  \\\n",
       "race                               Caucasian     AfricanAmerican   \n",
       "gender                                Female                Male   \n",
       "age                            Over 60 years         30-60 years   \n",
       "discharge_disposition_id  Discharged to Home               Other   \n",
       "admission_source_id                Emergency            Referral   \n",
       "medical_specialty                    Missing               Other   \n",
       "primary_diagnosis                      Other  Respiratory Issues   \n",
       "max_glu_serum                           None                Norm   \n",
       "A1Cresult                               None                  >8   \n",
       "insulin                                   No              Steady   \n",
       "change                                    No                  Ch   \n",
       "diabetesMed                              Yes                  No   \n",
       "medicare                               False                True   \n",
       "medicaid                               False                True   \n",
       "had_emergency                          False                True   \n",
       "had_inpatient_days                     False                True   \n",
       "had_outpatient_days                    False                True   \n",
       "readmitted                                NO                 >30   \n",
       "readmit_binary                         0.000               1.000   \n",
       "readmit_30_days                        0.000               1.000   \n",
       "\n",
       "                                            2                     3  \\\n",
       "race                                  Unknown              Hispanic   \n",
       "gender                        Unknown/Invalid                         \n",
       "age                       30 years or younger                         \n",
       "discharge_disposition_id                                              \n",
       "admission_source_id                     Other                         \n",
       "medical_specialty            InternalMedicine      Emergency/Trauma   \n",
       "primary_diagnosis                    Diabetes  Genitourinary Issues   \n",
       "max_glu_serum                            >200                  >300   \n",
       "A1Cresult                                Norm                    >7   \n",
       "insulin                                  Down                    Up   \n",
       "change                                                                \n",
       "diabetesMed                                                           \n",
       "medicare                                                              \n",
       "medicaid                                                              \n",
       "had_emergency                                                         \n",
       "had_inpatient_days                                                    \n",
       "had_outpatient_days                                                   \n",
       "readmitted                                <30                         \n",
       "readmit_binary                                                        \n",
       "readmit_30_days                                                       \n",
       "\n",
       "                                               4           5  \n",
       "race                                       Other       Asian  \n",
       "gender                                                        \n",
       "age                                                           \n",
       "discharge_disposition_id                                      \n",
       "admission_source_id                                           \n",
       "medical_specialty         Family/GeneralPractice  Cardiology  \n",
       "primary_diagnosis         Musculoskeletal Issues              \n",
       "max_glu_serum                                                 \n",
       "A1Cresult                                                     \n",
       "insulin                                                       \n",
       "change                                                        \n",
       "diabetesMed                                                   \n",
       "medicare                                                      \n",
       "medicaid                                                      \n",
       "had_emergency                                                 \n",
       "had_inpatient_days                                            \n",
       "had_outpatient_days                                           \n",
       "readmitted                                                    \n",
       "readmit_binary                                                \n",
       "readmit_30_days                                               "
      ]
     },
     "execution_count": 13,
     "metadata": {},
     "output_type": "execute_result"
    }
   ],
   "source": [
    "# Show the values of all binary and categorical features\n",
    "categorical_values = {}\n",
    "for col in df:\n",
    "  if col not in {'time_in_hospital', 'num_lab_procedures', 'num_procedures', 'num_medications', 'number_diagnoses'}:\n",
    "    categorical_values[col] = pd.Series(df[col].value_counts().index.values)\n",
    "categorical_values_df = pd.DataFrame(categorical_values).fillna('')\n",
    "categorical_values_df.T"
   ]
  },
  {
   "cell_type": "markdown",
   "metadata": {
    "id": "8loEiuFSWb8A"
   },
   "source": [
    "We mark all categorical features: "
   ]
  },
  {
   "cell_type": "code",
   "execution_count": 14,
   "metadata": {
    "id": "P4y1FRMdWduE"
   },
   "outputs": [],
   "source": [
    "categorical_features = [\n",
    "    \"race\",\n",
    "    \"gender\",\n",
    "    \"age\",\n",
    "    \"discharge_disposition_id\",\n",
    "    \"admission_source_id\",\n",
    "    \"medical_specialty\",\n",
    "    \"primary_diagnosis\",\n",
    "    \"max_glu_serum\",\n",
    "    \"A1Cresult\",\n",
    "    \"insulin\",\n",
    "    \"change\",\n",
    "    \"diabetesMed\",\n",
    "    \"readmitted\"\n",
    "]"
   ]
  },
  {
   "cell_type": "code",
   "execution_count": 15,
   "metadata": {
    "id": "Qyo3GQ4RWduG"
   },
   "outputs": [],
   "source": [
    "for col_name in categorical_features:\n",
    "  df[col_name] = df[col_name].astype(\"category\")"
   ]
  },
  {
   "cell_type": "markdown",
   "metadata": {
    "id": "Wwqk6lGTWczF"
   },
   "source": []
  },
  {
   "cell_type": "markdown",
   "metadata": {
    "id": "6LTax67Em4q8"
   },
   "source": [
    "## Group sample sizes "
   ]
  },
  {
   "cell_type": "markdown",
   "metadata": {
    "id": "ft28kXKHm4q9"
   },
   "source": [
    "From the perspective of fairness assessment, a key data characteristic is the sample size of groups with respect to which we conduct fairness assessment.\n",
    "\n",
    "Small sample sizes have two implications:\n",
    "\n",
    "* **assessment**: the impacts of the AI system on smaller groups are harder to assess, because due to fewer data points we have a much larger uncertainty (error bars) in our estimates\n",
    "\n",
    "* **training**: fewer training data points mean that our model fails to appropriately capture any data patterns specific to smaller groups, which means that its predictive performance on these groups could be worse\n",
    "\n",
    "Let's examine the sample sizes of the groups according to `race`:\n",
    "\n"
   ]
  },
  {
   "cell_type": "code",
   "execution_count": 16,
   "metadata": {
    "colab": {
     "base_uri": "https://localhost:8080/"
    },
    "id": "wEGJjCrOm4q9",
    "outputId": "f1b793f5-ccb4-4210-a1e4-f2cf72b1480b"
   },
   "outputs": [
    {
     "data": {
      "text/plain": [
       "Caucasian          76099\n",
       "AfricanAmerican    19210\n",
       "Unknown             2273\n",
       "Hispanic            2037\n",
       "Other               1506\n",
       "Asian                641\n",
       "Name: race, dtype: int64"
      ]
     },
     "execution_count": 16,
     "metadata": {},
     "output_type": "execute_result"
    }
   ],
   "source": [
    "df[\"race\"].value_counts()"
   ]
  },
  {
   "cell_type": "code",
   "execution_count": 17,
   "metadata": {
    "colab": {
     "base_uri": "https://localhost:8080/",
     "height": 330
    },
    "id": "HznSDLWEm4q-",
    "outputId": "f9e7161a-bf5a-47cb-a45e-67816c5eb733"
   },
   "outputs": [
    {
     "data": {
      "image/png": "[encoded data removed]",
      "text/plain": [
       "<Figure size 432x288 with 1 Axes>"
      ]
     },
     "metadata": {},
     "output_type": "display_data"
    }
   ],
   "source": [
    "df[\"race\"].value_counts().plot(kind='bar', rot=45);"
   ]
  },
  {
   "cell_type": "markdown",
   "metadata": {
    "id": "ZkI6KA3rm4q-"
   },
   "source": [
    "Normalized as frequencies:"
   ]
  },
  {
   "cell_type": "code",
   "execution_count": 18,
   "metadata": {
    "colab": {
     "base_uri": "https://localhost:8080/"
    },
    "id": "qE2UoDU3m4q-",
    "outputId": "34055269-2423-4337-e66b-79b67c5ba769"
   },
   "outputs": [
    {
     "data": {
      "text/plain": [
       "Caucasian         0.748\n",
       "AfricanAmerican   0.189\n",
       "Unknown           0.022\n",
       "Hispanic          0.020\n",
       "Other             0.015\n",
       "Asian             0.006\n",
       "Name: race, dtype: float64"
      ]
     },
     "execution_count": 18,
     "metadata": {},
     "output_type": "execute_result"
    }
   ],
   "source": [
    "df[\"race\"].value_counts(normalize=True)"
   ]
  },
  {
   "cell_type": "markdown",
   "metadata": {
    "id": "DEUrg6J3m4q_"
   },
   "source": [
    "In our dataset, our patients are predominantly *Caucasian* (75%). The next largest racial group is *AfricanAmerican*, making up 19% of the patients. The remaining race categories (including *Unknown*) compose only 6% of the data."
   ]
  },
  {
   "cell_type": "markdown",
   "metadata": {
    "id": "xIdDhgtAm4rA"
   },
   "source": [
    "We also examine the dataset composition for `gender`:"
   ]
  },
  {
   "cell_type": "code",
   "execution_count": 19,
   "metadata": {
    "colab": {
     "base_uri": "https://localhost:8080/"
    },
    "id": "0h26CH50m4rA",
    "outputId": "79d538fd-68c3-44c0-e8d6-cb148c7102c7"
   },
   "outputs": [
    {
     "data": {
      "text/plain": [
       "Female             54708\n",
       "Male               47055\n",
       "Unknown/Invalid        3\n",
       "Name: gender, dtype: int64"
      ]
     },
     "execution_count": 19,
     "metadata": {},
     "output_type": "execute_result"
    }
   ],
   "source": [
    "df[\"gender\"].value_counts() # counts"
   ]
  },
  {
   "cell_type": "code",
   "execution_count": 20,
   "metadata": {
    "colab": {
     "base_uri": "https://localhost:8080/"
    },
    "id": "UTbI5v48m4rA",
    "outputId": "49c6e76d-478c-46fa-97d4-27b7a418c850"
   },
   "outputs": [
    {
     "data": {
      "text/plain": [
       "Female            0.538\n",
       "Male              0.462\n",
       "Unknown/Invalid   0.000\n",
       "Name: gender, dtype: float64"
      ]
     },
     "execution_count": 20,
     "metadata": {},
     "output_type": "execute_result"
    }
   ],
   "source": [
    "df[\"gender\"].value_counts(normalize=True) # frequencies"
   ]
  },
  {
   "cell_type": "markdown",
   "metadata": {
    "id": "i3xBANdpm4rA"
   },
   "source": [
    "Gender is in our case effectively binary (and we have no further information how it was operationalized), with both *Female* and *Male* represented at around half (at 54% and 46%). There are only 3 samples annotated as *Unknown/Invalid*."
   ]
  },
  {
   "cell_type": "markdown",
   "metadata": {
    "id": "NyLBXpKWm4rA"
   },
   "source": [
    "### Decision point: collect more data? drop groups? create buckets?"
   ]
  },
  {
   "cell_type": "markdown",
   "metadata": {
    "id": "wT-BPQ2Gm4rB"
   },
   "source": [
    "When the data set lacks coverage of certain groups, it means that we will not be able to reliably assess any fairness-related issues. There are three interventions (which could be carried out in a combination):\n",
    "\n",
    "* **collect more data**: collect more data for groups with fewer samples\n",
    "* **buckets**: merge some of the groups\n",
    "* **drop small groups**\n",
    "\n",
    "The choice of strategy depends on our existing understanding of which groups are at the greatest risk of a harm. In particular, pooling the groups with widely different risks could mask the extent of harms. We generally caution against dropping small groups as this leads to the representational harm of erasure.\n",
    "\n",
    "If any groups are merged or dropped, these decisions should be annotated / explained (in the datasheet, which we discuss below).\n",
    "\n",
    "In our case, we will:\n",
    "\n",
    "* merge the three smallest race groups *Asian*, *Hispanic*, *Other* (similar to [Strack et al., 2014](https://www.hindawi.com/journals/bmri/2014/781670/)), but also retain the original groups for auxiliary assessments\n",
    "\n",
    "* drop the gender group *Unknown/Invalid*, because the sample size is so small that no meaningful fairness assessment is possible"
   ]
  },
  {
   "cell_type": "code",
   "execution_count": 21,
   "metadata": {
    "id": "iBN_fIhpm4rB"
   },
   "outputs": [],
   "source": [
    "# drop gender group Unknown/Invalid\n",
    "df = df.query(\"gender != 'Unknown/Invalid'\")\n",
    "\n",
    "# retain the original race as race_all, and merge Asian+Hispanic+Other \n",
    "df[\"race_all\"] = df[\"race\"]\n",
    "df[\"race\"] = df[\"race\"].replace({\"Asian\": \"Other\", \"Hispanic\": \"Other\"})"
   ]
  },
  {
   "cell_type": "markdown",
   "metadata": {
    "id": "N_Sb8ISAnRQF"
   },
   "source": [
    "### Exercise"
   ]
  },
  {
   "cell_type": "markdown",
   "metadata": {
    "id": "ns1Tr9wLm4rB"
   },
   "source": [
    "Please examine the distribution of the `age` feature in the dataset."
   ]
  },
  {
   "cell_type": "markdown",
   "metadata": {
    "id": "MDiLp-cDoWGv"
   },
   "source": [
    "### Answer"
   ]
  },
  {
   "cell_type": "code",
   "execution_count": 22,
   "metadata": {
    "colab": {
     "base_uri": "https://localhost:8080/"
    },
    "id": "UOn4j1o8m4rB",
    "outputId": "f4e6ba3a-dd76-4087-f141-2b8a907e1501"
   },
   "outputs": [
    {
     "data": {
      "text/plain": [
       "Over 60 years          68538\n",
       "30-60 years            30716\n",
       "30 years or younger     2509\n",
       "Name: age, dtype: int64"
      ]
     },
     "execution_count": 22,
     "metadata": {},
     "output_type": "execute_result"
    }
   ],
   "source": [
    "df[\"age\"].value_counts()"
   ]
  },
  {
   "cell_type": "code",
   "execution_count": 23,
   "metadata": {
    "colab": {
     "base_uri": "https://localhost:8080/",
     "height": 267
    },
    "id": "ns7RxP5um4rB",
    "outputId": "6a17d05e-eaeb-4e63-fad3-ba9346921458"
   },
   "outputs": [
    {
     "data": {
      "image/png": "[encoded data removed]",
      "text/plain": [
       "<Figure size 432x288 with 1 Axes>"
      ]
     },
     "metadata": {},
     "output_type": "display_data"
    }
   ],
   "source": [
    "df[\"age\"].value_counts().plot(kind='bar', rot=0);"
   ]
  },
  {
   "cell_type": "markdown",
   "metadata": {
    "id": "HAXa7MoQnjq4"
   },
   "source": [
    "As we might expect, most patients admitted into the hospital in our data set belong to the *Over 60 years* category. Although we will not be assessing for age-based fairness-related harms in this tutorial, we will want to document the age imbalance in our dataset."
   ]
  },
  {
   "cell_type": "markdown",
   "metadata": {
    "id": "pK0LbF_sylTU"
   },
   "source": [
    "## Examining the choice of label"
   ]
  },
  {
   "cell_type": "markdown",
   "metadata": {
    "id": "AtgLr5Cs_YhF"
   },
   "source": [
    "Next we dive into the question of whether our choice of label (readmission within 30 days) aligns with our goal (identify patients that would benefit from the care management program).\n",
    "\n",
    "A framework particularly suited for this analysis is called _measurement modeling_ (see, e.g., [Jacobs and Wallach, 2021](https://arxiv.org/abs/1912.05511)). The goal of measurement modeling is to describe the relationship between an underlying unobservable theoretical _construct_ and an observable _measurement_. In our case:\n",
    "* **construct** = greatest benefit from the care management program\n",
    "* **measurement** = readmission within 30 days (in the absence of such program)\n",
    "\n",
    "In our case, the **measurement** coincides with the **label**.\n",
    "\n",
    "The act of _operationalizing_ the construct via a specific measurement corresponds to making certain assumptions. In our case, we are making the following assumption: **the greatest benefit from the care management program would go to patients that are** (in the absence of such a program) **most likely to be readmitted into the hospital within 30 days.**"
   ]
  },
  {
   "cell_type": "markdown",
   "metadata": {
    "id": "fA19isovvCew"
   },
   "source": [
    "### How can we check the applicability of our assumptions?"
   ]
  },
  {
   "cell_type": "markdown",
   "metadata": {
    "id": "oY95_kOFO6Wb"
   },
   "source": [
    "In the terminology of measurement modeling, how do we establish _construct validity_? Following, [Jacobs and Wallach, 2021](https://arxiv.org/abs/1912.05511),\n",
    "\n",
    "> Establishing construct\n",
    "validity means demonstrating, in a variety of ways, that the measurements obtained from measurement model are both meaningful\n",
    "and useful:\n",
    "> * Does the operationalization capture all relevant aspects\n",
    "of the construct purported to be measured?\n",
    "> * Do the measurements\n",
    "look plausible?\n",
    "> * Do they correlate with other measurements of the\n",
    "same construct? Or do they vary in ways that suggest that the\n",
    "operationalization may be inadvertently capturing aspects of other\n",
    "constructs?\n",
    "> * Are the measurements predictive of measurements of\n",
    "any relevant observable properties (and other unobservable theoretical constructs) thought to be related to the construct, but not incorporated into the operationalization?\n",
    "\n",
    "We focus on one aspect of construct validity, called _predictive validity_, which refers to the extent\n",
    "to which the measurements obtained from a measurement model\n",
    "are predictive of measurements of any relevant observable properties \n",
    "related to the construct purported to be measured, but not incorporated into the operationalization.\n",
    "\n",
    "The predictions do not need to be chronological, meaning that we do not necessarily need to be predicting future from the past, we just need to ensure that the predicted property is not part of the measurement whose validity we're checking.\n"
   ]
  },
  {
   "cell_type": "markdown",
   "metadata": {
    "id": "8IBUG3Sa96LX"
   },
   "source": [
    "### Predictive validity"
   ]
  },
  {
   "cell_type": "markdown",
   "metadata": {
    "id": "rVrLpuwy98uG"
   },
   "source": [
    "We would like to show that our measurement `readmit_30_days` is correlated with patient characteristics that are related to our construct \"benefiting from care management\". One such characteristic is the general patient health, where we expect that patients that are less healthy are more likely to benefit from care management.\n",
    "\n",
    "While our data does not contain full health records that would enable us to holistically measure general patient health, the data does contain two relevant features: `had_emergency` and `had_inpatient_days`, which indicate whether the patient spent any days in the emergency room or in the hospital (but non-emergency) in the preceding year.\n",
    "\n",
    "To establish predictive validity, we would like to show that our measurement `readmit_30_days` is predictive of these two observable characteristics."
   ]
  },
  {
   "cell_type": "markdown",
   "metadata": {
    "id": "BQWxJEN-M6VD"
   },
   "source": [
    "First, let's check the rate at which the patients with different `readmit_30_days` labels were readmitted in the previous year:"
   ]
  },
  {
   "cell_type": "code",
   "execution_count": 24,
   "metadata": {
    "colab": {
     "base_uri": "https://localhost:8080/",
     "height": 284
    },
    "id": "3t11OgTgZfV8",
    "outputId": "6aad94c9-78b8-425f-c658-28ed38da013b"
   },
   "outputs": [
    {
     "data": {
      "image/png": "[encoded data removed]",
      "text/plain": [
       "<Figure size 432x288 with 1 Axes>"
      ]
     },
     "metadata": {},
     "output_type": "display_data"
    }
   ],
   "source": [
    "sns.pointplot(y=\"had_emergency\", x=\"readmit_30_days\", data=df, ci=95, join=False);"
   ]
  },
  {
   "cell_type": "markdown",
   "metadata": {
    "id": "Ptl-tHkDf_GJ"
   },
   "source": [
    "The plot shows that indeed patients with `readmit_30_days=0` have a lower rate of emergency visits in the prior year, whereas patients with `readmit_30_days=1` have a larger rate. (The vertical lines indicate 95% confidence intervals obtained via boostrapping.)"
   ]
  },
  {
   "cell_type": "markdown",
   "metadata": {
    "id": "07GU8IGIY9KC"
   },
   "source": [
    "We see a similar pattern when `readmit_30_days` is used to predict the rate of (non-emergency) hospital visits in the previous year:"
   ]
  },
  {
   "cell_type": "code",
   "execution_count": 25,
   "metadata": {
    "colab": {
     "base_uri": "https://localhost:8080/",
     "height": 284
    },
    "id": "GuPPVpXrO5uE",
    "outputId": "4c66da37-28f2-4508-dda6-b41efaeb245f"
   },
   "outputs": [
    {
     "data": {
      "image/png": "[encoded data removed]",
      "text/plain": [
       "<Figure size 432x288 with 1 Axes>"
      ]
     },
     "metadata": {},
     "output_type": "display_data"
    }
   ],
   "source": [
    "sns.pointplot(y=\"had_inpatient_days\", x=\"readmit_30_days\", data=df, join=False);"
   ]
  },
  {
   "cell_type": "markdown",
   "metadata": {
    "id": "wN8NU8QkRMqM"
   },
   "source": [
    "Now let's take a look whether the predictiveness is similar across different race groups. First, let's check how well `readmit_30_days` predicts `had_emergency`:"
   ]
  },
  {
   "cell_type": "code",
   "execution_count": 26,
   "metadata": {
    "colab": {
     "base_uri": "https://localhost:8080/",
     "height": 382
    },
    "id": "tgLhUlZzOvHC",
    "outputId": "1962ff07-2960-4697-b3a1-5fa3281cb3ec"
   },
   "outputs": [
    {
     "data": {
      "image/png": "[encoded data removed]",
      "text/plain": [
       "<Figure size 480.85x360 with 1 Axes>"
      ]
     },
     "metadata": {},
     "output_type": "display_data"
    }
   ],
   "source": [
    "sns.catplot(y=\"had_emergency\", x=\"readmit_30_days\", hue=\"race\", data=df, kind=\"point\", ci=95, dodge=True, join=False);"
   ]
  },
  {
   "cell_type": "markdown",
   "metadata": {
    "id": "IQ7zH3Wn416g"
   },
   "source": [
    "The patients in the group *Unknown* have a substantially lower rate of emergency visits in the prior year, regardless of whether they are readmitted in 30 days. The readmission is still positively correlated with `had_emergency`, but note the large error bars (due to small sample sizes).\n",
    "\n",
    "We also see that the group with feature value *AfricanAmerican* has a higher rate of emergency visits compared with other groups. However, generally the groups *Caucasian*, *AfricanAmerican* and *Other* follow similar dependence patterns."
   ]
  },
  {
   "cell_type": "markdown",
   "metadata": {
    "id": "G13abbdS7oM-"
   },
   "source": [
    "We see a similar pattern when `readmit_30_days` is used to predict the rate of (non-emergency) hospital visits in the previous year:"
   ]
  },
  {
   "cell_type": "code",
   "execution_count": 27,
   "metadata": {
    "colab": {
     "base_uri": "https://localhost:8080/",
     "height": 382
    },
    "id": "Kx52yWYNQuSH",
    "outputId": "7f0a90c3-1ad2-48f8-e2a2-fb9ff5c80362"
   },
   "outputs": [
    {
     "data": {
      "image/png": "[encoded data removed]",
      "text/plain": [
       "<Figure size 480.85x360 with 1 Axes>"
      ]
     },
     "metadata": {},
     "output_type": "display_data"
    }
   ],
   "source": [
    "sns.catplot(y=\"had_inpatient_days\", x=\"readmit_30_days\", hue=\"race\", data=df, kind=\"point\", ci=95, dodge=True, join=False);"
   ]
  },
  {
   "cell_type": "markdown",
   "metadata": {
    "id": "HrCelj5_hR6a"
   },
   "source": [
    "Again, for *Unknown* the rate of (non-emergency) hospital visits in the previous year is lower than for other groups.In all groups there is a strong positive correlation between `readmit_30_days` and `had_inpatient_days`.\n",
    "\n",
    "In all cases, we see that readmission in 30 days is predictive of our two measurements of general patient health.\n",
    "\n",
    "The analysis is also surfacing the fact that patients with the value of race *Unknown* have fewer hospital visits in the preceding year (both emergency and non-emergency) than other groups. In practice, this would be a good reason to reach out to health professionals to investigate this patient cohort, to make sure that we understand why there is the systematic difference.\n",
    "\n",
    "Note that we have only investigated _predictive validity_, but there are other important aspects of construct validity which we may want to establish (see [Jacobs and Wallach, 2021](https://arxiv.org/abs/1912.05511))."
   ]
  },
  {
   "cell_type": "markdown",
   "metadata": {
    "id": "V_4CZt-UBaOQ"
   },
   "source": [
    "### Exercise"
   ]
  },
  {
   "cell_type": "markdown",
   "metadata": {
    "id": "rW9ktRlqBhZA"
   },
   "source": [
    "Check the predictive validity with respect to `gender` and `age`. Do you see any differences? Can you form a hypothesis why?"
   ]
  },
  {
   "cell_type": "markdown",
   "metadata": {
    "id": "3i9KdmTWKUJZ"
   },
   "source": [
    "## Label imbalance\n",
    "\n"
   ]
  },
  {
   "cell_type": "markdown",
   "metadata": {
    "id": "ViGqA5VTGrEo"
   },
   "source": [
    "Now that we have established the validity of our label, we will check frequency of its values in our data. The frequency of different labels is an important descriptive characteristic in classification settings for several reasons:\n",
    "\n",
    "* some classification algorithms and performance measures might not work well with data sets with extreme class imbalance\n",
    "* in binary classification settings, our ability to evaluate error is often driven by the size of the smaller of the two classes (again, the smaller the sample the larger the uncertainty in estimates)\n",
    "* label imbalance may exacerbate the problems due to smaller group sizes in fairness assessment\n",
    "\n"
   ]
  },
  {
   "cell_type": "markdown",
   "metadata": {
    "id": "cos3--59EiZt"
   },
   "source": [
    "Let's check how many samples in our data are labeled as positive and how many as negative."
   ]
  },
  {
   "cell_type": "code",
   "execution_count": 28,
   "metadata": {
    "colab": {
     "base_uri": "https://localhost:8080/"
    },
    "id": "eR5ULLYGE4UK",
    "outputId": "e9217899-5091-4367-b094-8af3e30ded03"
   },
   "outputs": [
    {
     "data": {
      "text/plain": [
       "0    90406\n",
       "1    11357\n",
       "Name: readmit_30_days, dtype: int64"
      ]
     },
     "execution_count": 28,
     "metadata": {},
     "output_type": "execute_result"
    }
   ],
   "source": [
    "df[\"readmit_30_days\"].value_counts() # counts"
   ]
  },
  {
   "cell_type": "code",
   "execution_count": 29,
   "metadata": {
    "colab": {
     "base_uri": "https://localhost:8080/"
    },
    "id": "0UWBbg4Cz90t",
    "outputId": "3eed5b9b-8a8b-4bb6-a2c0-3a4e8dc76ae0"
   },
   "outputs": [
    {
     "data": {
      "text/plain": [
       "0   0.888\n",
       "1   0.112\n",
       "Name: readmit_30_days, dtype: float64"
      ]
     },
     "execution_count": 29,
     "metadata": {},
     "output_type": "execute_result"
    }
   ],
   "source": [
    "df[\"readmit_30_days\"].value_counts(normalize=True) # frequencies"
   ]
  },
  {
   "cell_type": "markdown",
   "metadata": {
    "id": "b-_K_KHXz9MR"
   },
   "source": [
    "As we can see, the target label is heavily skewed towards the patients not being re-admitted within 30 days. In our dataset, only 11% of patients were re-admitted within 30 days.\n",
    "\n",
    "Since there are fewer positive examples, we expect that we will have a much larger uncertainty (error bars) in our estimates of *false negative rates* (FNR), compared with *false positive rates* (FPR). This means that there will be larger differences between training FNR and test FNR, even if there is no overfitting, simply because of the smaller sample sizes. \n",
    "\n",
    "Our target metric is *balanced error rate*, which is the average of FPR and FNR. The value of this metric is robust to different frequencies of positives and negatives. However, since half of the metric is contributed by FNR, we expect the uncertainty in balanced error values to behave similarly to the uncertainty of FNR."
   ]
  },
  {
   "cell_type": "markdown",
   "metadata": {
    "id": "OkopoyE3GQ8g"
   },
   "source": [
    "Now, let's examine how much the label frequencies vary within each group defined by `race`:"
   ]
  },
  {
   "cell_type": "code",
   "execution_count": 30,
   "metadata": {
    "colab": {
     "base_uri": "https://localhost:8080/",
     "height": 284
    },
    "id": "tcH3Mxwmm4rC",
    "outputId": "df824c9e-959e-4637-e1f8-667454873c07"
   },
   "outputs": [
    {
     "data": {
      "image/png": "[encoded data removed]",
      "text/plain": [
       "<Figure size 432x288 with 1 Axes>"
      ]
     },
     "metadata": {},
     "output_type": "display_data"
    }
   ],
   "source": [
    "sns.barplot(x=\"readmit_30_days\", y=\"race\", data=df, ci=95);"
   ]
  },
  {
   "cell_type": "markdown",
   "metadata": {
    "id": "ox06aTMmm4rB"
   },
   "source": [
    "We see the rate of *30-day readmission* is similar for the *AfricanAmerican* and *Caucasian* groups, but appears smaller for *Other* and smallest for *Unknown* (this is consistent with an overall lower rate of hospital visits in the prior year). The smaller sample size of the *Other* and *Unknown* groups mean that there is more uncertainty around the estimate for these two groups."
   ]
  },
  {
   "cell_type": "markdown",
   "metadata": {
    "id": "0AA5uoqAKUSx"
   },
   "source": [
    "## Proxies for sensitive features\n",
    "\n"
   ]
  },
  {
   "cell_type": "markdown",
   "metadata": {
    "id": "7PSup7dMJjJg"
   },
   "source": [
    "We next investigate which of the features are highly predictive of the sensitive feature *race*; such features are called *proxies*.\n",
    "\n",
    "While in this tutorial we examine fairness issues through the **impact** of the machine-learning model on different populations, there are other concepts of fairness that seek to analyze how the **model might be using information** contained in the sensitive features, and which of the information uses are justified (often using causal reasoning). More pragmatically, certain uses of sensitive features (or proxies of it) might be legally proscribed.\n",
    "\n",
    "In this section we briefly examine the identification of such proxies (but we don't go into legal or causality considerations in this tutorial).\n"
   ]
  },
  {
   "cell_type": "markdown",
   "metadata": {
    "id": "1PHULa3eQEcn"
   },
   "source": [
    "In the United States, *Medicare* and *Medicaid* are joint federal and state programs to help qualified individuals pay for healthcare expenses. *Medicare* is available to people over the age of 65 and younger individuals with severe illnesses. *Medicaid* is available to all individuals under the age of 65 whose adjusted gross income falls below the Federal Poverty Line. "
   ]
  },
  {
   "cell_type": "markdown",
   "metadata": {
    "id": "VNYx0OaVElUC"
   },
   "source": [
    "First, let's explore the relationship between patients who paid with *Medicaid* and our demographic attributes. Because *Medicaid* is available to low-income individuals, and race is correlated with socioeconomic status in the United States, we expect there to be a relationship between `race` and paying with *Medicaid*. "
   ]
  },
  {
   "cell_type": "code",
   "execution_count": 31,
   "metadata": {
    "colab": {
     "base_uri": "https://localhost:8080/",
     "height": 302
    },
    "id": "dR3eNMeY0HTi",
    "outputId": "633acae6-1eb6-48b5-9ff1-4c3295e582a1"
   },
   "outputs": [
    {
     "data": {
      "text/plain": [
       "<AxesSubplot:xlabel='race', ylabel='medicaid'>"
      ]
     },
     "execution_count": 31,
     "metadata": {},
     "output_type": "execute_result"
    },
    {
     "data": {
      "image/png": "[encoded data removed]",
      "text/plain": [
       "<Figure size 432x288 with 1 Axes>"
      ]
     },
     "metadata": {},
     "output_type": "display_data"
    }
   ],
   "source": [
    "sns.pointplot(y=\"medicaid\", x=\"race\", data=df, join=False)"
   ]
  },
  {
   "cell_type": "markdown",
   "metadata": {
    "id": "MTcAD0oxbarW"
   },
   "source": [
    "From our analysis, we see that paying with `medicaid` does appear to have some relationship with the patient's race. *Caucasian* patients are the least likely to pay with *Medicaid* compared with other groups. If paying with *Medicaid* is a proxy for socioeconomic status, then the patterns we find align with our understanding of wealth and race in the United States."
   ]
  },
  {
   "cell_type": "markdown",
   "metadata": {
    "id": "9BLSciTKaBLd"
   },
   "source": [
    "## Additional validity checks"
   ]
  },
  {
   "cell_type": "markdown",
   "metadata": {
    "id": "-PzKOA59ezFs"
   },
   "source": [
    "Similarly as we used predictive validity to check that our label aligns with the construct of \"likely to benefit from the care management program\", we can use predictive validity to verify that our various features are coherent with each other.\n",
    "\n",
    "For example, based on the eligibility criteria for *Medicaid* vs *Medicare*, we expect `medicaid` to be negatively correlated with age and `medicare` to be positively correlated with age:"
   ]
  },
  {
   "cell_type": "code",
   "execution_count": 32,
   "metadata": {
    "colab": {
     "base_uri": "https://localhost:8080/",
     "height": 284
    },
    "id": "869rzUjSUe3C",
    "outputId": "a31b2a8a-4838-42ad-faf1-41a0c7120011"
   },
   "outputs": [
    {
     "data": {
      "image/png": "[encoded data removed]",
      "text/plain": [
       "<Figure size 432x288 with 1 Axes>"
      ]
     },
     "metadata": {},
     "output_type": "display_data"
    }
   ],
   "source": [
    "sns.pointplot(y=\"medicaid\", x=\"age\", data=df, ci=95, join=False);"
   ]
  },
  {
   "cell_type": "code",
   "execution_count": 33,
   "metadata": {
    "colab": {
     "base_uri": "https://localhost:8080/",
     "height": 284
    },
    "id": "nnI8lFHFZyBL",
    "outputId": "e8c7e5e5-dead-40c4-964d-1caac2361c5f"
   },
   "outputs": [
    {
     "data": {
      "image/png": "[encoded data removed]",
      "text/plain": [
       "<Figure size 432x288 with 1 Axes>"
      ]
     },
     "metadata": {},
     "output_type": "display_data"
    }
   ],
   "source": [
    "sns.pointplot(y=\"medicare\", x=\"age\", data=df, ci=95, join=False);"
   ]
  },
  {
   "cell_type": "markdown",
   "metadata": {
    "id": "dBgmuoz8aXw4"
   },
   "source": [
    "As we see, that's indeed the case."
   ]
  },
  {
   "cell_type": "markdown",
   "metadata": {
    "id": "DdrS4By1dVk-"
   },
   "source": [
    "## Exercises"
   ]
  },
  {
   "cell_type": "markdown",
   "metadata": {
    "id": "V-sOl0rqblsb"
   },
   "source": [
    "Now, let's explore the relationship between paying with `medicare` and other demographic features. In the below sections, feel free to performa any analysis you would like to better understand the relationship between `medicare` and `race` and `gender` in this dataset."
   ]
  },
  {
   "cell_type": "code",
   "execution_count": 34,
   "metadata": {
    "colab": {
     "base_uri": "https://localhost:8080/",
     "height": 284
    },
    "id": "lp02oUbWZx54",
    "outputId": "02147f8e-b1a5-4083-f442-dce6a853e49e"
   },
   "outputs": [
    {
     "data": {
      "image/png": "[encoded data removed]",
      "text/plain": [
       "<Figure size 432x288 with 1 Axes>"
      ]
     },
     "metadata": {},
     "output_type": "display_data"
    }
   ],
   "source": [
    "sns.pointplot(y=\"medicare\", x=\"race\", data=df, ci=95, join=False);"
   ]
  },
  {
   "cell_type": "markdown",
   "metadata": {
    "id": "ZVSerRqDG3we"
   },
   "source": [
    "## Datasheets for datasets"
   ]
  },
  {
   "cell_type": "markdown",
   "metadata": {
    "id": "ACLMWSAwGaLc"
   },
   "source": [
    "The _datasheets_ practice was proposed by [Gebru et al. (2018)](https://arxiv.org/abs/1803.09010). A datasheet of a given dataset documents the motivation behind the dataset creation, the dataset composition, collection process, recommended uses and many other characteristics. In the words of Gebru et al., the goal is to\n",
    "> facilitate better communication between dataset creators\n",
    "> and dataset consumers, and encourage the machine learning\n",
    "> community to prioritize transparency and accountability.\n",
    "\n",
    "In this section, we show how to fill in some of the sections of the datasheet for the dataset that we are using. The information is obtained directly from [Strack et al. (2014)](https://www.hindawi.com/journals/bmri/2014/781670/)."
   ]
  },
  {
   "cell_type": "markdown",
   "metadata": {
    "id": "gjcNZ09KG32I"
   },
   "source": [
    "#### **Motivation**"
   ]
  },
  {
   "cell_type": "markdown",
   "metadata": {
    "id": "0TIPJIhX1IKJ"
   },
   "source": [
    "**For what purpose was the dataset created?** *Was there a specific task in mind? Was there a specific gap that needed to be filled?*"
   ]
  },
  {
   "cell_type": "markdown",
   "metadata": {
    "id": "sBNKbKJQJbmf"
   },
   "source": [
    "Hospitals have struggled with the management and treatment of patients with hyperglycemia who are admitted in non-intensive care units (ICU). \n",
    "\n",
    "At the time of the creation of this dataset, there were no standards for non-ICU admissions for hyperglycemic patients nor were there any national assessments of diabetes care in hospitalized patients."
   ]
  },
  {
   "cell_type": "markdown",
   "metadata": {
    "id": "iA-XRu0o1ErL"
   },
   "source": [
    "**Who created the dataset (e.g., which team) and on behalf of which entity?**"
   ]
  },
  {
   "cell_type": "markdown",
   "metadata": {
    "id": "zQSHxl26LQkt"
   },
   "source": [
    "The dataset was created by [Strack et al. (2014)](https://www.hindawi.com/journals/bmri/2014/781670/): a team of researchers from a variety of disciplines, ranging from computer science to public health, from three institutions (Virginia Commonwealth University, University of Cordoba, and Polish Academy of Sciences)."
   ]
  },
  {
   "cell_type": "markdown",
   "metadata": {
    "id": "0Qx32mSJG3zP"
   },
   "source": [
    "#### **Composition**"
   ]
  },
  {
   "cell_type": "markdown",
   "metadata": {
    "id": "8RS2V8001F3E"
   },
   "source": [
    "**What do the instances that comprise the dataset represent?**\n",
    "\n"
   ]
  },
  {
   "cell_type": "markdown",
   "metadata": {
    "id": "JPy_TXp_1Gub"
   },
   "source": [
    "Each instance in this dataset represents a hospital admission for diabetic patient (diabetes was entered as a possible diagnosis for the patient) whose hospital stay lasted between one to fourteen days."
   ]
  },
  {
   "cell_type": "markdown",
   "metadata": {
    "id": "eOb0FPeOJqxm"
   },
   "source": [
    "**Is any information missing from individual instances?**"
   ]
  },
  {
   "cell_type": "markdown",
   "metadata": {
    "id": "4vlZWeQjJq8w"
   },
   "source": [
    "The features `Payer Code` and `Medical Specialty` have 40,255 and 49,947 missing values, respectively. For `Payer Code`, these missing values are reflected in the category *Unknown*. For `Medical Specialty`, these missing values are reflecting in the category *Missing*. \n",
    "\n",
    "For our demographic features, we are missing the `Gender` information for three patients in the dataset. These three records were dropped from our final dataset. Regarding `Race`, the 2,271 missing values were recoded into the `Unknown` race category. \n",
    "\n"
   ]
  },
  {
   "cell_type": "markdown",
   "metadata": {
    "id": "Uh0lLV6mJrSp"
   },
   "source": [
    "**Does the dataset identify any subpopulations (e.g., by age, gender)?**"
   ]
  },
  {
   "cell_type": "markdown",
   "metadata": {
    "id": "U-ZnQfibJrcQ"
   },
   "source": [
    "Patients are identified by gender, age group, and race. \n",
    "\n",
    "For gender, patients are identified as Male, Female, or Unknown. There were only three instances where the patient gender is *Unknown*, so these records were removed from our dataset.\n",
    "\n",
    "Gender | Count| Percentage\n",
    "------ | ------|----------\n",
    "Male      | 47055     | 46.2%\n",
    "Female     |  54708     | 53.7%  \n",
    "\n",
    "\n",
    "\n",
    "For age group, patients are binned into three age buckets: *30 years or younger*, *30-60 years*, *Older than 60 years*.\n",
    "\n",
    "Age Group |Count| Percentage\n",
    "------ | ------|----------\n",
    "30 years or younger      | 2509     | 2.4%\n",
    "30-60 years       | 30716   | 30.2%\n",
    "Older than 60 years      |   68538    | 67.4%  \n",
    "\n",
    "\n",
    "For race, patients are identified as *AfricanAmerican*, *Caucasian*, and *Other*. For individuals whose race information was not collected during hospital admission, their race is listed as *Unknown*.\n",
    "\n",
    "Race | Count| Percentage\n",
    "------ | ------|----------\n",
    "Caucasian      | 76099     | 74.8%\n",
    "AfricanAmerican     |  19210     | 18.9%  \n",
    "Other        |     4183         |  4.1%\n",
    "Unknown        |    2271          | 2.2%"
   ]
  },
  {
   "cell_type": "markdown",
   "metadata": {
    "id": "yzXw0egqG4J4"
   },
   "source": [
    "#### **Preprocessing**"
   ]
  },
  {
   "cell_type": "markdown",
   "metadata": {
    "id": "rGfxGcI21Fyj"
   },
   "source": [
    "**Was any preprocessing/cleaning/labeling of the data done?**"
   ]
  },
  {
   "cell_type": "markdown",
   "metadata": {
    "id": "5jO4Pf911GrL"
   },
   "source": [
    "For the `race` feature, the categories of *Asian* and *Hispanic* and *Other* were merged into the *Other* category. The `age` feature was bucketed into 30-year intervals (*30 years and below*, *30 to 60 years*, and *Over 60 years*). The `discharge_disposition_id` was binarized into a boolean outcome on whether an patient was discharged to home.\n",
    "\n",
    "The full preprocessing code can be found in `preprocess.py`.\n",
    "\n",
    "\n",
    "\n"
   ]
  },
  {
   "cell_type": "markdown",
   "metadata": {
    "id": "C8b5nXfPIA7a"
   },
   "source": [
    "#### **Uses**\n",
    "\n"
   ]
  },
  {
   "cell_type": "markdown",
   "metadata": {
    "id": "_YH8evvN1HX2"
   },
   "source": [
    "**Has the dataset been used for any tasks already?** "
   ]
  },
  {
   "cell_type": "markdown",
   "metadata": {
    "id": "H8RW1LKW1Hbg"
   },
   "source": [
    "This dataset has been used by [Strack et al. (2014)](https://www.hindawi.com/journals/bmri/2014/781670/) to model the relationship between patient readmission and HbA1c measurement during admission, based on primary medical diagnosis.\n",
    "\n",
    "The dataset is publicly available through the UCI Machine Learning Repository and, as of May 2021, has received over 350,000 views."
   ]
  },
  {
   "cell_type": "markdown",
   "metadata": {
    "id": "HB7zfhA1UKiW"
   },
   "source": [
    "# Training the initial model"
   ]
  },
  {
   "cell_type": "markdown",
   "metadata": {
    "id": "0f7jZOzGX24Z"
   },
   "source": [
    "We next train a classification model to predict our target variable (readmission within 30 days) while optimizing balanced accuracy.\n",
    "\n",
    "What kind of model should we train? Deep neural nets? Random forests? Logistic regression?\n",
    "\n",
    "There are a variety of considerations. We highlight two:\n",
    "\n",
    "* **Interpretability.** Interpretability is tightly linked with questions of fairness. There are several reasons why it is important to have interpretable models that are open to the stakeholder scrutiny:\n",
    "  * It allows discovery of fairness issues that were not discovered by the data science team.\n",
    "  * It provides a path toward recourse for those that are affected by the model.\n",
    "  * It allows for a *face validity* check, a \"sniff test\", by experts to verify that the model \"makes sense\" (at the face value). While this step is subjective, it is really important when the model is applied to different populations than those on which the assessment was conducted.\n",
    "\n",
    "* **Representation power.** How well can the model separate positive examples from negative examples? How well can it do so given the available dataset size? Can it do so across all groups or does it need to trade off performance on one group against performance on another group?\n",
    "\n",
    "Some additional considerations are training time (this impacts the ability to iterate), familiarity (this impacts the ability to fine tune and debug), and carbon footprint (this impacts the Earth climate both directly and indirectly by normalizing unnecessarily heavy workloads)."
   ]
  },
  {
   "cell_type": "markdown",
   "metadata": {
    "id": "7hbsqXap9Mzp"
   },
   "source": [
    "### Decision point: model type"
   ]
  },
  {
   "cell_type": "markdown",
   "metadata": {
    "id": "iftAwdfoVDM0"
   },
   "source": [
    "We will use a logistic regression model. Our reasoning:\n",
    "\n",
    "* **Interpretability**. Logistic models over a small number of variables (as used here) are highly interpretable in the sense that stakeholders can simulate them easily.\n",
    "\n",
    "* **Representation**. Logistic regression predictions are described by a linear weighting of the feature values. The concern might be that this is too simple. The previous work by [Strack et al. (2014)](https://www.hindawi.com/journals/bmri/2014/781670/), which also used a logistic model to predict readmission rates concluded that additional 8 pairwise interactions are significant (see their Table 5). For simplicity, we will use the model without interactions in the rest of the tutorial, but will then include some of the interaction terms in exercises."
   ]
  },
  {
   "cell_type": "markdown",
   "metadata": {
    "id": "52wWLOFoXkho"
   },
   "source": [
    "## Prepare training and test datasets"
   ]
  },
  {
   "cell_type": "markdown",
   "metadata": {
    "id": "vCwtDyx8yqSG"
   },
   "source": [
    "As we mentioned in the task definition, our target variable is **readmission within 30 days**, and our sensitive feature for the purposes of fairness assessment is **race**.\n"
   ]
  },
  {
   "cell_type": "code",
   "execution_count": 35,
   "metadata": {
    "id": "WpiSRj2JyqSH"
   },
   "outputs": [],
   "source": [
    "target_variable = \"readmit_30_days\"\n",
    "sensitive = [\"race\"]\n",
    "# If multiple sensitive features are chosen, the rest of the script considers intersectional groups."
   ]
  },
  {
   "cell_type": "code",
   "execution_count": 36,
   "metadata": {
    "id": "uaNqDyqvi1QE"
   },
   "outputs": [],
   "source": [
    "Y, A = df.loc[:, target_variable], df.loc[:, sensitive]"
   ]
  },
  {
   "cell_type": "markdown",
   "metadata": {
    "id": "niu49A9YXQmf"
   },
   "source": [
    "We next drop the features that we don't want to use in our model."
   ]
  },
  {
   "cell_type": "code",
   "execution_count": 37,
   "metadata": {
    "id": "JXyRuCsri1cY"
   },
   "outputs": [],
   "source": [
    "X = pd.get_dummies(df.drop(columns=[\n",
    "    \"gender\",\n",
    "    \"race\",\n",
    "    \"race_all\",\n",
    "    \"readmitted\",\n",
    "    \"readmit_binary\",\n",
    "    \"readmit_30_days\"\n",
    "]))"
   ]
  },
  {
   "cell_type": "code",
   "execution_count": 38,
   "metadata": {
    "colab": {
     "base_uri": "https://localhost:8080/",
     "height": 267
    },
    "id": "kAA0sIhQUWFa",
    "outputId": "f39c9064-cebb-4863-f60c-79b45ea4e7e0"
   },
   "outputs": [
    {
     "data": {
      "text/html": [
       "<div>\n",
       "<style scoped>\n",
       "    .dataframe tbody tr th:only-of-type {\n",
       "        vertical-align: middle;\n",
       "    }\n",
       "\n",
       "    .dataframe tbody tr th {\n",
       "        vertical-align: top;\n",
       "    }\n",
       "\n",
       "    .dataframe thead th {\n",
       "        text-align: right;\n",
       "    }\n",
       "</style>\n",
       "<table border=\"1\" class=\"dataframe\">\n",
       "  <thead>\n",
       "    <tr style=\"text-align: right;\">\n",
       "      <th></th>\n",
       "      <th>time_in_hospital</th>\n",
       "      <th>num_lab_procedures</th>\n",
       "      <th>num_procedures</th>\n",
       "      <th>num_medications</th>\n",
       "      <th>number_diagnoses</th>\n",
       "      <th>medicare</th>\n",
       "      <th>medicaid</th>\n",
       "      <th>had_emergency</th>\n",
       "      <th>had_inpatient_days</th>\n",
       "      <th>had_outpatient_days</th>\n",
       "      <th>...</th>\n",
       "      <th>A1Cresult_None</th>\n",
       "      <th>A1Cresult_Norm</th>\n",
       "      <th>insulin_Down</th>\n",
       "      <th>insulin_No</th>\n",
       "      <th>insulin_Steady</th>\n",
       "      <th>insulin_Up</th>\n",
       "      <th>change_Ch</th>\n",
       "      <th>change_No</th>\n",
       "      <th>diabetesMed_No</th>\n",
       "      <th>diabetesMed_Yes</th>\n",
       "    </tr>\n",
       "  </thead>\n",
       "  <tbody>\n",
       "    <tr>\n",
       "      <th>0</th>\n",
       "      <td>1</td>\n",
       "      <td>41</td>\n",
       "      <td>0</td>\n",
       "      <td>1</td>\n",
       "      <td>1</td>\n",
       "      <td>False</td>\n",
       "      <td>False</td>\n",
       "      <td>False</td>\n",
       "      <td>False</td>\n",
       "      <td>False</td>\n",
       "      <td>...</td>\n",
       "      <td>1</td>\n",
       "      <td>0</td>\n",
       "      <td>0</td>\n",
       "      <td>1</td>\n",
       "      <td>0</td>\n",
       "      <td>0</td>\n",
       "      <td>0</td>\n",
       "      <td>1</td>\n",
       "      <td>1</td>\n",
       "      <td>0</td>\n",
       "    </tr>\n",
       "    <tr>\n",
       "      <th>1</th>\n",
       "      <td>3</td>\n",
       "      <td>59</td>\n",
       "      <td>0</td>\n",
       "      <td>18</td>\n",
       "      <td>9</td>\n",
       "      <td>False</td>\n",
       "      <td>False</td>\n",
       "      <td>False</td>\n",
       "      <td>False</td>\n",
       "      <td>False</td>\n",
       "      <td>...</td>\n",
       "      <td>1</td>\n",
       "      <td>0</td>\n",
       "      <td>0</td>\n",
       "      <td>0</td>\n",
       "      <td>0</td>\n",
       "      <td>1</td>\n",
       "      <td>1</td>\n",
       "      <td>0</td>\n",
       "      <td>0</td>\n",
       "      <td>1</td>\n",
       "    </tr>\n",
       "    <tr>\n",
       "      <th>2</th>\n",
       "      <td>2</td>\n",
       "      <td>11</td>\n",
       "      <td>5</td>\n",
       "      <td>13</td>\n",
       "      <td>6</td>\n",
       "      <td>False</td>\n",
       "      <td>False</td>\n",
       "      <td>False</td>\n",
       "      <td>True</td>\n",
       "      <td>True</td>\n",
       "      <td>...</td>\n",
       "      <td>1</td>\n",
       "      <td>0</td>\n",
       "      <td>0</td>\n",
       "      <td>1</td>\n",
       "      <td>0</td>\n",
       "      <td>0</td>\n",
       "      <td>0</td>\n",
       "      <td>1</td>\n",
       "      <td>0</td>\n",
       "      <td>1</td>\n",
       "    </tr>\n",
       "    <tr>\n",
       "      <th>3</th>\n",
       "      <td>2</td>\n",
       "      <td>44</td>\n",
       "      <td>1</td>\n",
       "      <td>16</td>\n",
       "      <td>7</td>\n",
       "      <td>False</td>\n",
       "      <td>False</td>\n",
       "      <td>False</td>\n",
       "      <td>False</td>\n",
       "      <td>False</td>\n",
       "      <td>...</td>\n",
       "      <td>1</td>\n",
       "      <td>0</td>\n",
       "      <td>0</td>\n",
       "      <td>0</td>\n",
       "      <td>0</td>\n",
       "      <td>1</td>\n",
       "      <td>1</td>\n",
       "      <td>0</td>\n",
       "      <td>0</td>\n",
       "      <td>1</td>\n",
       "    </tr>\n",
       "    <tr>\n",
       "      <th>4</th>\n",
       "      <td>1</td>\n",
       "      <td>51</td>\n",
       "      <td>0</td>\n",
       "      <td>8</td>\n",
       "      <td>5</td>\n",
       "      <td>False</td>\n",
       "      <td>False</td>\n",
       "      <td>False</td>\n",
       "      <td>False</td>\n",
       "      <td>False</td>\n",
       "      <td>...</td>\n",
       "      <td>1</td>\n",
       "      <td>0</td>\n",
       "      <td>0</td>\n",
       "      <td>0</td>\n",
       "      <td>1</td>\n",
       "      <td>0</td>\n",
       "      <td>1</td>\n",
       "      <td>0</td>\n",
       "      <td>0</td>\n",
       "      <td>1</td>\n",
       "    </tr>\n",
       "  </tbody>\n",
       "</table>\n",
       "<p>5 rows × 45 columns</p>\n",
       "</div>"
      ],
      "text/plain": [
       "   time_in_hospital  num_lab_procedures  num_procedures  num_medications  \\\n",
       "0                 1                  41               0                1   \n",
       "1                 3                  59               0               18   \n",
       "2                 2                  11               5               13   \n",
       "3                 2                  44               1               16   \n",
       "4                 1                  51               0                8   \n",
       "\n",
       "   number_diagnoses  medicare  medicaid  had_emergency  had_inpatient_days  \\\n",
       "0                 1     False     False          False               False   \n",
       "1                 9     False     False          False               False   \n",
       "2                 6     False     False          False                True   \n",
       "3                 7     False     False          False               False   \n",
       "4                 5     False     False          False               False   \n",
       "\n",
       "   had_outpatient_days  ...  A1Cresult_None  A1Cresult_Norm  insulin_Down  \\\n",
       "0                False  ...               1               0             0   \n",
       "1                False  ...               1               0             0   \n",
       "2                 True  ...               1               0             0   \n",
       "3                False  ...               1               0             0   \n",
       "4                False  ...               1               0             0   \n",
       "\n",
       "   insulin_No  insulin_Steady  insulin_Up  change_Ch  change_No  \\\n",
       "0           1               0           0          0          1   \n",
       "1           0               0           1          1          0   \n",
       "2           1               0           0          0          1   \n",
       "3           0               0           1          1          0   \n",
       "4           0               1           0          1          0   \n",
       "\n",
       "   diabetesMed_No  diabetesMed_Yes  \n",
       "0               1                0  \n",
       "1               0                1  \n",
       "2               0                1  \n",
       "3               0                1  \n",
       "4               0                1  \n",
       "\n",
       "[5 rows x 45 columns]"
      ]
     },
     "execution_count": 38,
     "metadata": {},
     "output_type": "execute_result"
    }
   ],
   "source": [
    "X.head() # sanity check"
   ]
  },
  {
   "cell_type": "markdown",
   "metadata": {
    "id": "ATzi8cKCD7V3"
   },
   "source": [
    "We split our data into a training and test portion. The test portion will be used to evaluate our performance metric (i.e., balanced accuracy), but also for fairness assessment. The split is half/half for training and test to ensure that we have sufficient sample sizes for fairness assessment."
   ]
  },
  {
   "cell_type": "code",
   "execution_count": 39,
   "metadata": {
    "id": "-wpnURazmJ4-"
   },
   "outputs": [],
   "source": [
    "random_seed = 445\n",
    "np.random.seed(random_seed)"
   ]
  },
  {
   "cell_type": "code",
   "execution_count": 40,
   "metadata": {
    "id": "xgl_b-CUl7TW"
   },
   "outputs": [],
   "source": [
    "X_train, X_test, Y_train, Y_test, A_train, A_test, df_train, df_test = train_test_split(\n",
    "    X,\n",
    "    Y,\n",
    "    A,\n",
    "    df,\n",
    "    test_size=0.50,\n",
    "    stratify=Y,\n",
    "    random_state=random_seed\n",
    ")"
   ]
  },
  {
   "cell_type": "markdown",
   "metadata": {
    "id": "eSMbXR9iVqr8"
   },
   "source": [
    "Our performance metric is **balanced accuracy**, so for the purposes of training (but not evaluation!) we will resample the data set, so that it has the same number of positive and negative examples. This means that we can use estimators that optimize standard standard accuracy (although some estimators allow the use us importance weights).\n"
   ]
  },
  {
   "cell_type": "code",
   "execution_count": 41,
   "metadata": {
    "id": "L1aVgzyFNa4B"
   },
   "outputs": [],
   "source": [
    "def resample_dataset(X_train, Y_train, A_train):\n",
    "\n",
    "  negative_ids = Y_train[Y_train == 0].index\n",
    "  positive_ids = Y_train[Y_train == 1].index\n",
    "  balanced_ids = positive_ids.union(np.random.choice(a=negative_ids, size=len(positive_ids)))\n",
    "\n",
    "  X_train = X_train.loc[balanced_ids, :]\n",
    "  Y_train = Y_train.loc[balanced_ids]\n",
    "  A_train = A_train.loc[balanced_ids, :]\n",
    "  return X_train, Y_train, A_train"
   ]
  },
  {
   "cell_type": "code",
   "execution_count": 42,
   "metadata": {
    "id": "6Ogw-r3DQsds"
   },
   "outputs": [],
   "source": [
    "X_train_bal, Y_train_bal, A_train_bal = resample_dataset(X_train, Y_train, A_train)"
   ]
  },
  {
   "cell_type": "markdown",
   "metadata": {
    "id": "fRddJS7XXv5n"
   },
   "source": [
    "## Save descriptive statistics of training and test data"
   ]
  },
  {
   "cell_type": "markdown",
   "metadata": {
    "id": "hZ-T4lGxX0IQ"
   },
   "source": [
    "We next evaluate and save descriptive statistics of the training dataset. These will be provided as part of _model cards_ to document our training."
   ]
  },
  {
   "cell_type": "code",
   "execution_count": 43,
   "metadata": {
    "colab": {
     "base_uri": "https://localhost:8080/",
     "height": 301
    },
    "id": "n3GhcUCm2LjD",
    "outputId": "ec596d89-5db6-4aa6-bff5-770a8bcae594"
   },
   "outputs": [
    {
     "data": {
      "image/png": "[encoded data removed]",
      "text/plain": [
       "<Figure size 432x288 with 1 Axes>"
      ]
     },
     "metadata": {},
     "output_type": "display_data"
    }
   ],
   "source": [
    "sns.countplot(x=\"race\", data=A_train_bal)\n",
    "plt.title(\"Sensitive Attributes for Training Dataset\")\n",
    "sensitive_train = figure_to_base64str(plt)"
   ]
  },
  {
   "cell_type": "code",
   "execution_count": 44,
   "metadata": {
    "colab": {
     "base_uri": "https://localhost:8080/",
     "height": 301
    },
    "id": "lIp3j8fD2LjE",
    "outputId": "6fcdb10a-d0e5-4f56-fc79-1e27c3751222"
   },
   "outputs": [
    {
     "data": {
      "image/png": "[encoded data removed]",
      "text/plain": [
       "<Figure size 432x288 with 1 Axes>"
      ]
     },
     "metadata": {},
     "output_type": "display_data"
    }
   ],
   "source": [
    "sns.countplot(x=Y_train_bal)\n",
    "plt.title(\"Target Label Histogram for Training Dataset\")\n",
    "outcome_train = figure_to_base64str(plt)"
   ]
  },
  {
   "cell_type": "code",
   "execution_count": 45,
   "metadata": {
    "colab": {
     "base_uri": "https://localhost:8080/",
     "height": 301
    },
    "id": "czIGZYhk2LjF",
    "outputId": "edb28fcb-ba08-47d1-d453-1f01c0fc2382"
   },
   "outputs": [
    {
     "data": {
      "image/png": "[encoded data removed]",
      "text/plain": [
       "<Figure size 432x288 with 1 Axes>"
      ]
     },
     "metadata": {},
     "output_type": "display_data"
    }
   ],
   "source": [
    "sns.countplot(x=\"race\", data=A_test)\n",
    "plt.title(\"Sensitive Attributes for Testing Dataset\")\n",
    "sensitive_test = figure_to_base64str(plt)"
   ]
  },
  {
   "cell_type": "code",
   "execution_count": 46,
   "metadata": {
    "colab": {
     "base_uri": "https://localhost:8080/",
     "height": 301
    },
    "id": "YjhW0t9-2LjF",
    "outputId": "0bede36d-1150-4cef-8777-3045d07c7685"
   },
   "outputs": [
    {
     "data": {
      "image/png": "[encoded data removed]",
      "text/plain": [
       "<Figure size 432x288 with 1 Axes>"
      ]
     },
     "metadata": {},
     "output_type": "display_data"
    }
   ],
   "source": [
    "sns.countplot(x=Y_test)\n",
    "plt.title(\"Target Label Histogram for Test Dataset\")\n",
    "outcome_test = figure_to_base64str(plt)"
   ]
  },
  {
   "cell_type": "markdown",
   "metadata": {
    "id": "4V523GQbYobT"
   },
   "source": [
    "## Train the model"
   ]
  },
  {
   "cell_type": "markdown",
   "metadata": {
    "id": "g7jwN2cVbO0g"
   },
   "source": [
    "We train a logistic regression model and save its predictions on test data for analysis."
   ]
  },
  {
   "cell_type": "code",
   "execution_count": 47,
   "metadata": {
    "id": "f6nKDzt164vw"
   },
   "outputs": [],
   "source": [
    "unmitigated_pipeline = Pipeline(steps=[\n",
    "    (\"preprocessing\", StandardScaler()),\n",
    "    (\"logistic_regression\", LogisticRegression(max_iter=1000))\n",
    "])"
   ]
  },
  {
   "cell_type": "code",
   "execution_count": 48,
   "metadata": {
    "colab": {
     "base_uri": "https://localhost:8080/",
     "height": 111
    },
    "id": "ld9clGbHl7tv",
    "outputId": "ef9a15d3-ea95-4db0-daae-96eda4d99916"
   },
   "outputs": [
    {
     "data": {
      "text/html": [
       "<style>#sk-3520d808-660e-4157-9949-4044b2ceacab {color: black;background-color: white;}#sk-3520d808-660e-4157-9949-4044b2ceacab pre{padding: 0;}#sk-3520d808-660e-4157-9949-4044b2ceacab div.sk-toggleable {background-color: white;}#sk-3520d808-660e-4157-9949-4044b2ceacab label.sk-toggleable__label {cursor: pointer;display: block;width: 100%;margin-bottom: 0;padding: 0.2em 0.3em;box-sizing: border-box;text-align: center;}#sk-3520d808-660e-4157-9949-4044b2ceacab div.sk-toggleable__content {max-height: 0;max-width: 0;overflow: hidden;text-align: left;background-color: #f0f8ff;}#sk-3520d808-660e-4157-9949-4044b2ceacab div.sk-toggleable__content pre {margin: 0.2em;color: black;border-radius: 0.25em;background-color: #f0f8ff;}#sk-3520d808-660e-4157-9949-4044b2ceacab input.sk-toggleable__control:checked~div.sk-toggleable__content {max-height: 200px;max-width: 100%;overflow: auto;}#sk-3520d808-660e-4157-9949-4044b2ceacab div.sk-estimator input.sk-toggleable__control:checked~label.sk-toggleable__label {background-color: #d4ebff;}#sk-3520d808-660e-4157-9949-4044b2ceacab div.sk-label input.sk-toggleable__control:checked~label.sk-toggleable__label {background-color: #d4ebff;}#sk-3520d808-660e-4157-9949-4044b2ceacab input.sk-hidden--visually {border: 0;clip: rect(1px 1px 1px 1px);clip: rect(1px, 1px, 1px, 1px);height: 1px;margin: -1px;overflow: hidden;padding: 0;position: absolute;width: 1px;}#sk-3520d808-660e-4157-9949-4044b2ceacab div.sk-estimator {font-family: monospace;background-color: #f0f8ff;margin: 0.25em 0.25em;border: 1px dotted black;border-radius: 0.25em;box-sizing: border-box;}#sk-3520d808-660e-4157-9949-4044b2ceacab div.sk-estimator:hover {background-color: #d4ebff;}#sk-3520d808-660e-4157-9949-4044b2ceacab div.sk-parallel-item::after {content: \"\";width: 100%;border-bottom: 1px solid gray;flex-grow: 1;}#sk-3520d808-660e-4157-9949-4044b2ceacab div.sk-label:hover label.sk-toggleable__label {background-color: #d4ebff;}#sk-3520d808-660e-4157-9949-4044b2ceacab div.sk-serial::before {content: \"\";position: absolute;border-left: 1px solid gray;box-sizing: border-box;top: 2em;bottom: 0;left: 50%;}#sk-3520d808-660e-4157-9949-4044b2ceacab div.sk-serial {display: flex;flex-direction: column;align-items: center;background-color: white;}#sk-3520d808-660e-4157-9949-4044b2ceacab div.sk-item {z-index: 1;}#sk-3520d808-660e-4157-9949-4044b2ceacab div.sk-parallel {display: flex;align-items: stretch;justify-content: center;background-color: white;}#sk-3520d808-660e-4157-9949-4044b2ceacab div.sk-parallel-item {display: flex;flex-direction: column;position: relative;background-color: white;}#sk-3520d808-660e-4157-9949-4044b2ceacab div.sk-parallel-item:first-child::after {align-self: flex-end;width: 50%;}#sk-3520d808-660e-4157-9949-4044b2ceacab div.sk-parallel-item:last-child::after {align-self: flex-start;width: 50%;}#sk-3520d808-660e-4157-9949-4044b2ceacab div.sk-parallel-item:only-child::after {width: 0;}#sk-3520d808-660e-4157-9949-4044b2ceacab div.sk-dashed-wrapped {border: 1px dashed gray;margin: 0.2em;box-sizing: border-box;padding-bottom: 0.1em;background-color: white;position: relative;}#sk-3520d808-660e-4157-9949-4044b2ceacab div.sk-label label {font-family: monospace;font-weight: bold;background-color: white;display: inline-block;line-height: 1.2em;}#sk-3520d808-660e-4157-9949-4044b2ceacab div.sk-label-container {position: relative;z-index: 2;text-align: center;}#sk-3520d808-660e-4157-9949-4044b2ceacab div.sk-container {display: inline-block;position: relative;}</style><div id=\"sk-3520d808-660e-4157-9949-4044b2ceacab\" class\"sk-top-container\"><div class=\"sk-container\"><div class=\"sk-item sk-dashed-wrapped\"><div class=\"sk-label-container\"><div class=\"sk-label sk-toggleable\"><input class=\"sk-toggleable__control sk-hidden--visually\" id=\"81549d22-268d-4e91-90d9-6c7c538618f8\" type=\"checkbox\" ><label class=\"sk-toggleable__label\" for=\"81549d22-268d-4e91-90d9-6c7c538618f8\">Pipeline</label><div class=\"sk-toggleable__content\"><pre>Pipeline(steps=[('preprocessing', StandardScaler()),\n",
       "                ('logistic_regression', LogisticRegression(max_iter=1000))])</pre></div></div></div><div class=\"sk-serial\"><div class=\"sk-item\"><div class=\"sk-estimator sk-toggleable\"><input class=\"sk-toggleable__control sk-hidden--visually\" id=\"151f32fa-b675-4a1f-86c6-cdc30d79ea75\" type=\"checkbox\" ><label class=\"sk-toggleable__label\" for=\"151f32fa-b675-4a1f-86c6-cdc30d79ea75\">StandardScaler</label><div class=\"sk-toggleable__content\"><pre>StandardScaler()</pre></div></div></div><div class=\"sk-item\"><div class=\"sk-estimator sk-toggleable\"><input class=\"sk-toggleable__control sk-hidden--visually\" id=\"6b99c3c5-e775-447d-8099-ea3740f84165\" type=\"checkbox\" ><label class=\"sk-toggleable__label\" for=\"6b99c3c5-e775-447d-8099-ea3740f84165\">LogisticRegression</label><div class=\"sk-toggleable__content\"><pre>LogisticRegression(max_iter=1000)</pre></div></div></div></div></div></div></div>"
      ],
      "text/plain": [
       "Pipeline(steps=[('preprocessing', StandardScaler()),\n",
       "                ('logistic_regression', LogisticRegression(max_iter=1000))])"
      ]
     },
     "execution_count": 48,
     "metadata": {},
     "output_type": "execute_result"
    }
   ],
   "source": [
    "unmitigated_pipeline.fit(X_train_bal, Y_train_bal)"
   ]
  },
  {
   "cell_type": "code",
   "execution_count": 49,
   "metadata": {
    "id": "Ok-eREU0xbAD"
   },
   "outputs": [],
   "source": [
    "Y_pred_proba = unmitigated_pipeline.predict_proba(X_test)[:,1]\n",
    "Y_pred = unmitigated_pipeline.predict(X_test)"
   ]
  },
  {
   "cell_type": "markdown",
   "metadata": {
    "id": "nkA0K8KV0HeD"
   },
   "source": [
    "Check model performance on test data"
   ]
  },
  {
   "cell_type": "code",
   "execution_count": 50,
   "metadata": {
    "colab": {
     "base_uri": "https://localhost:8080/",
     "height": 284
    },
    "id": "nz7QJOLx0RVH",
    "outputId": "34c58a5e-9a92-4ffe-c5a4-2499007c9823"
   },
   "outputs": [
    {
     "data": {
      "image/png": "[encoded data removed]",
      "text/plain": [
       "<Figure size 432x288 with 1 Axes>"
      ]
     },
     "metadata": {},
     "output_type": "display_data"
    }
   ],
   "source": [
    "plot_roc_curve(unmitigated_pipeline, X_test, Y_test); # plot ROC curve of probabilistic predictions"
   ]
  },
  {
   "cell_type": "code",
   "execution_count": 51,
   "metadata": {
    "colab": {
     "base_uri": "https://localhost:8080/"
    },
    "id": "pxYppCAy1owq",
    "outputId": "092fb451-084b-4130-eeb3-fc6a541805bc"
   },
   "outputs": [
    {
     "data": {
      "text/plain": [
       "0.6007818686112025"
      ]
     },
     "execution_count": 51,
     "metadata": {},
     "output_type": "execute_result"
    }
   ],
   "source": [
    "balanced_accuracy_score(Y_test, Y_pred) # show balanced accuracy rate of the 0/1 predictions"
   ]
  },
  {
   "cell_type": "markdown",
   "metadata": {
    "id": "jmWrDs5N2HVD"
   },
   "source": [
    "As we see, the performance of the model is well above the performance of a coin flip (whose performance would be 0.5 in both cases), albeit it is quite far from a perfect classifier (whose performance would be 1.0 in both cases).\n"
   ]
  },
  {
   "cell_type": "markdown",
   "metadata": {
    "id": "MbN_la-k2k7g"
   },
   "source": [
    "#### <mark>REMOVE?</mark>"
   ]
  },
  {
   "cell_type": "code",
   "execution_count": 52,
   "metadata": {
    "colab": {
     "base_uri": "https://localhost:8080/"
    },
    "id": "gh-LvHkVtQcM",
    "outputId": "321ab7cb-3d23-4523-936f-5fd0b27f4d5a"
   },
   "outputs": [
    {
     "data": {
      "image/png": "[encoded data removed]",
      "text/plain": [
       "<Figure size 432x288 with 1 Axes>"
      ]
     },
     "metadata": {},
     "output_type": "display_data"
    }
   ],
   "source": [
    "fpr, tpr, _ = roc_curve(Y_test, Y_pred_proba)\n",
    "auc = roc_auc_score(Y_test, Y_pred_proba)\n",
    "plt.plot(fpr, tpr, label=f\"AUC:{auc}\")\n",
    "plt.legend(loc=4)\n",
    "plt.xlabel(\"False Positive Rate\")\n",
    "plt.ylabel(\"True Positive Rate\")\n",
    "unmitigated_roc = figure_to_base64str(plt)"
   ]
  },
  {
   "cell_type": "markdown",
   "metadata": {
    "id": "daPx2t-8dh7c"
   },
   "source": [
    "<mark>[STOP REVIEW HERE]</mark>"
   ]
  },
  {
   "cell_type": "markdown",
   "metadata": {
    "id": "AmhwS1Z9VnK9"
   },
   "source": [
    "## Inspect the coefficients of trained model\n",
    "\n",
    "Check the coefficients of the fitted model to make sure that they \"makes sense\". While subjective, this step is important and helps catch mistakes and might point out to some fairness issues. However, we will systematically assess the fairness of the model in the next section.\n",
    "\n",
    "We use the `eli5` library, to visualize the feature coefficients in the model."
   ]
  },
  {
   "cell_type": "code",
   "execution_count": 53,
   "metadata": {
    "colab": {
     "base_uri": "https://localhost:8080/",
     "height": 456
    },
    "id": "BCuJswezKfXw",
    "outputId": "04bc09c4-b49e-4b4b-de6b-97091991b247"
   },
   "outputs": [],
   "source": [
    "#eli5.explain_weights(unmitigated_pipeline.named_steps[\"logistic_regression\"], top=20, feature_names=X.columns.values)"
   ]
  },
  {
   "cell_type": "markdown",
   "metadata": {
    "id": "mPEiIMVS3FQj"
   },
   "source": [
    "#### <mark>FIX OR REMOVE</mark>"
   ]
  },
  {
   "cell_type": "code",
   "execution_count": 54,
   "metadata": {
    "id": "1e17GgQqOXG2"
   },
   "outputs": [],
   "source": [
    "from sklearn.inspection import permutation_importance"
   ]
  },
  {
   "cell_type": "code",
   "execution_count": 55,
   "metadata": {
    "id": "0efhFyRlZvls"
   },
   "outputs": [],
   "source": [
    "perm_importances = permutation_importance(\n",
    "    unmitigated_pipeline,\n",
    "    X=X_test,\n",
    "    y=Y_test,\n",
    "    n_repeats=10,\n",
    "    random_state=random_seed\n",
    ")"
   ]
  },
  {
   "cell_type": "code",
   "execution_count": 56,
   "metadata": {
    "id": "hvjb65lmZv0m"
   },
   "outputs": [],
   "source": [
    "#for i in perm_importances.importances_mean.argsort()[::-1]:\n",
    "#  if (perm_importances.importances_mean[i] - 2*perm_importances.importances_std[i]) > 0:\n",
    "#    print(f\"{feature_names[i]}:    {perm_importances.importances_mean[i]} +/- {perm_importances.importances_std[i]}\")"
   ]
  },
  {
   "cell_type": "markdown",
   "metadata": {
    "id": "hX8CrWjhD7MB"
   },
   "source": [
    "# **Fairness assessment**"
   ]
  },
  {
   "cell_type": "markdown",
   "metadata": {
    "id": "0CS9-jaxtxh2"
   },
   "source": [
    "## Measuring fairness-related harms\n",
    "\n",
    "\n",
    "\n"
   ]
  },
  {
   "cell_type": "markdown",
   "metadata": {
    "id": "s8TMm9w8duVY"
   },
   "source": [
    "The goal of fairness assessment is to answer the question: *Which groups of people may be disproportionately negatively impacted by an AI system and in what ways?*\n",
    "\n",
    "The steps of the assesment are as follows:\n",
    "1. Identify harms\n",
    "2. Identify the groups that might be harmed\n",
    "3. Quantify harms\n",
    "4. Compare quantified harms across the groups\n",
    "\n",
    "We next examine these four steps in more detail."
   ]
  },
  {
   "cell_type": "markdown",
   "metadata": {
    "id": "X6hMFmzmPbL6"
   },
   "source": [
    "### 1. Identify harms\n",
    "\n",
    "For example, in a system for screening job applications, qualified candidates that are automatically rejected experience an allocation harm. In a speech-to-text transcription system, high error rates constitute harm in the quality of service.\n",
    "\n",
    "**In the health care scenario**, the patients that would benefit from a care management program, but are not recommended for it experience an allocation harm. In the context of the classification scenario these are **FALSE NEGATIVES**."
   ]
  },
  {
   "cell_type": "markdown",
   "metadata": {
    "id": "aqqUk1mjPnpM"
   },
   "source": [
    "### 2. Identify the groups that might be harmed\n",
    "\n",
    "In most applications, we consider demographic groups including historically marginalized groups (e.g., based on gender, race, ethnicity). We should also consider groups that are relevant to a particular application. For example, for speech-to-text transcription, groups based on the regional dialect or being a native or a non-native speaker.\n",
    "\n",
    "It is also important to consider group intersections, for example, in addition to considering groups according to gender and groups according to race, it is also important to consider their intersections (e.g., Black women, Latinx nonbinary people, etc.).\n",
    "\n",
    "**In the health care scenario**, based on the previous work, we focus on groups defined by **RACE**."
   ]
  },
  {
   "cell_type": "markdown",
   "metadata": {
    "id": "nmvSqI3dPrVk"
   },
   "source": [
    "### 3. Quantify harms\n",
    "\n",
    "Define metrics that quantify harms or benefits:\n",
    "\n",
    "* In job screening scenario, we need to quantify the number of candidates that are classified as \"negative\" (not recommended for the job), but whose true label is \"positive\" (they are qualified). One possible metric is the **false negative rate**: fraction of qualified candidates that are screened out.\n",
    "\n",
    "* In speech-to-text scenario, the harm could be measured by **word error rate**, number of mistakes in a transcript divided by the overall number of words.\n",
    "\n",
    "* **In the health care scenario**, we could consider two metrics for quantifying harms / benefits:\n",
    "  * **false negative rate**: fraction of patients that are readmitted within 30 days, but that are not recommended for the care management program; this quantifies harm\n",
    "  * **selection rate**: overall fraction of patients that are recommended for the care management program (regardless of whether they are readmittted with 30 days or no); this quantifies benefit; here the assumption is that all patients benefit similarly from the extra care\n",
    "\n"
   ]
  },
  {
   "cell_type": "markdown",
   "metadata": {
    "id": "fpJXt6miPvRX"
   },
   "source": [
    "### 4. Compare quantified harms across the groups\n",
    "\n",
    "The workhorse of fairness assessment are _disaggregated metrics_, which are **metrics evaluated on slices of data**. For example, to measure harms due to errors, we would begin by evaluating the errors on each slice of the data that corresponds to a group we identified in Step 2.\n",
    "If some of the groups are seeing much larger errors than other groups, we would flag this as a fairness harm.\n",
    "\n",
    "To summarize the disparities in errors (or other metrics), we may want to report quantities such as the **difference** or **ratio** of the metric values between the best and the worst slice. In settings where the goal is to guarantee certain minimum quality of service (such as speech recognition), it is also meaningful to report the **worst performance** across all considered groups.\n",
    "\n",
    "For example, when comparing false negative rate across groups defined by race, we might obtain the following table:\n",
    "\n",
    "| | false negative rate<br>(FNR) |\n",
    "|---|---|\n",
    "| AfricanAmerican | 0.42 |\n",
    "| Caucasian | 0.41 |\n",
    "| Other | 0.48 |\n",
    "| Unknown | 0.63 |\n",
    "| | |\n",
    "|_largest difference_| 0.22 &nbsp;&nbsp;(best is 0.0)|\n",
    "|_smallest ratio_| 0.65 &nbsp;&nbsp;(best is 1.0)|\n",
    "|_maximum_<br>_(worst-case) FNR_|0.63|\n"
   ]
  },
  {
   "cell_type": "markdown",
   "metadata": {
    "id": "9CjHlopBDgSG"
   },
   "source": [
    "## Fairness assessment with `MetricFrame`"
   ]
  },
  {
   "cell_type": "markdown",
   "metadata": {
    "id": "epJO2baHV2Dy"
   },
   "source": [
    "Fairlearn provides the data structure called `MetricFrame` to enable evaluation of disaggregated metrics. We will show how to use a `MetricFrame` object to assess the trained `LogisticRegression` classifier for potential fairness-related harms.\n",
    "\n"
   ]
  },
  {
   "cell_type": "code",
   "execution_count": 57,
   "metadata": {
    "colab": {
     "base_uri": "https://localhost:8080/"
    },
    "id": "0iiAYRvoduPh",
    "outputId": "ba163b88-cc19-4288-d825-3658a12f352d"
   },
   "outputs": [
    {
     "data": {
      "text/plain": [
       "race\n",
       "AfricanAmerican   0.420\n",
       "Caucasian         0.407\n",
       "Other             0.482\n",
       "Unknown           0.628\n",
       "Name: false_negative_rate, dtype: object"
      ]
     },
     "execution_count": 57,
     "metadata": {},
     "output_type": "execute_result"
    }
   ],
   "source": [
    "# In its simplest form MetricFrame takes four arguments:\n",
    "#    metric_function with signature metric_function(y_true, y_pred)\n",
    "#    y_true: array of labels\n",
    "#    y_pred: array of predictions\n",
    "#    sensitive_features: array of sensitive feature values\n",
    "\n",
    "mf1 = MetricFrame(false_negative_rate, y_true=Y_test, y_pred=Y_pred, sensitive_features=df_test['race'])\n",
    "\n",
    "# The disaggregated metrics are stored in a pandas Series mf1.by_group:\n",
    "\n",
    "mf1.by_group"
   ]
  },
  {
   "cell_type": "code",
   "execution_count": 58,
   "metadata": {
    "colab": {
     "base_uri": "https://localhost:8080/"
    },
    "id": "5tl1Qxt1fT2v",
    "outputId": "1c729d41-9231-416c-bf2f-bdb0333804ad"
   },
   "outputs": [
    {
     "name": "stdout",
     "output_type": "stream",
     "text": [
      "difference: 0.22\n",
      "ratio: 0.65\n",
      "max across groups: 0.63\n"
     ]
    }
   ],
   "source": [
    "# The largest difference, smallest ratio and worst-case performance are accessed as\n",
    "#   mf1.difference(), mf1.ratio(), mf1.group_max()\n",
    "\n",
    "print(f\"difference: {mf1.difference():.2}\\n\"\n",
    "      f\"ratio: {mf1.ratio():.2}\\n\"\n",
    "      f\"max across groups: {mf1.group_max():.2}\")"
   ]
  },
  {
   "cell_type": "code",
   "execution_count": 59,
   "metadata": {
    "colab": {
     "base_uri": "https://localhost:8080/",
     "height": 197
    },
    "id": "R2zmBHo5gk-F",
    "outputId": "d1025be4-a758-4539-c5a6-e0c6b14f6049"
   },
   "outputs": [
    {
     "data": {
      "text/html": [
       "<div>\n",
       "<style scoped>\n",
       "    .dataframe tbody tr th:only-of-type {\n",
       "        vertical-align: middle;\n",
       "    }\n",
       "\n",
       "    .dataframe tbody tr th {\n",
       "        vertical-align: top;\n",
       "    }\n",
       "\n",
       "    .dataframe thead th {\n",
       "        text-align: right;\n",
       "    }\n",
       "</style>\n",
       "<table border=\"1\" class=\"dataframe\">\n",
       "  <thead>\n",
       "    <tr style=\"text-align: right;\">\n",
       "      <th></th>\n",
       "      <th>selection_rate</th>\n",
       "      <th>false_negative_rate</th>\n",
       "      <th>balanced_accuracy</th>\n",
       "    </tr>\n",
       "    <tr>\n",
       "      <th>race</th>\n",
       "      <th></th>\n",
       "      <th></th>\n",
       "      <th></th>\n",
       "    </tr>\n",
       "  </thead>\n",
       "  <tbody>\n",
       "    <tr>\n",
       "      <th>AfricanAmerican</th>\n",
       "      <td>0.410</td>\n",
       "      <td>0.420</td>\n",
       "      <td>0.597</td>\n",
       "    </tr>\n",
       "    <tr>\n",
       "      <th>Caucasian</th>\n",
       "      <td>0.411</td>\n",
       "      <td>0.407</td>\n",
       "      <td>0.603</td>\n",
       "    </tr>\n",
       "    <tr>\n",
       "      <th>Other</th>\n",
       "      <td>0.337</td>\n",
       "      <td>0.482</td>\n",
       "      <td>0.601</td>\n",
       "    </tr>\n",
       "    <tr>\n",
       "      <th>Unknown</th>\n",
       "      <td>0.288</td>\n",
       "      <td>0.628</td>\n",
       "      <td>0.546</td>\n",
       "    </tr>\n",
       "  </tbody>\n",
       "</table>\n",
       "</div>"
      ],
      "text/plain": [
       "                selection_rate false_negative_rate balanced_accuracy\n",
       "race                                                                \n",
       "AfricanAmerican          0.410               0.420             0.597\n",
       "Caucasian                0.411               0.407             0.603\n",
       "Other                    0.337               0.482             0.601\n",
       "Unknown                  0.288               0.628             0.546"
      ]
     },
     "execution_count": 59,
     "metadata": {},
     "output_type": "execute_result"
    }
   ],
   "source": [
    "# You can also evaluate multiple metrics by providing a dictionary\n",
    "\n",
    "metrics_dict = {\n",
    "    \"selection_rate\": selection_rate,\n",
    "    \"false_negative_rate\": false_negative_rate,\n",
    "    \"balanced_accuracy\": balanced_accuracy_score,\n",
    "}\n",
    "\n",
    "mf2 = MetricFrame(metrics_dict, y_true=Y_test, y_pred=Y_pred, sensitive_features=df_test['race'])\n",
    "\n",
    "# The disaggregated metrics are then stored in a pandas DataFrame:\n",
    "\n",
    "mf2.by_group"
   ]
  },
  {
   "cell_type": "code",
   "execution_count": 60,
   "metadata": {
    "colab": {
     "base_uri": "https://localhost:8080/"
    },
    "id": "Hc29jRJrhlSC",
    "outputId": "f89b0fad-eace-45a1-8475-cfe5d9490ced"
   },
   "outputs": [
    {
     "data": {
      "text/plain": [
       "selection_rate        0.123\n",
       "false_negative_rate   0.221\n",
       "balanced_accuracy     0.057\n",
       "dtype: object"
      ]
     },
     "execution_count": 60,
     "metadata": {},
     "output_type": "execute_result"
    }
   ],
   "source": [
    "# The largest difference, smallest ratio, and the maximum and minimum values\n",
    "# across the groups are then all pandas Series, for example:\n",
    "\n",
    "mf2.difference()"
   ]
  },
  {
   "cell_type": "code",
   "execution_count": 61,
   "metadata": {
    "colab": {
     "base_uri": "https://localhost:8080/",
     "height": 167
    },
    "id": "bVbjFa4Aig9Y",
    "outputId": "d2800ae5-a864-4937-a53f-0f48b7439036"
   },
   "outputs": [
    {
     "data": {
      "text/html": [
       "<div>\n",
       "<style scoped>\n",
       "    .dataframe tbody tr th:only-of-type {\n",
       "        vertical-align: middle;\n",
       "    }\n",
       "\n",
       "    .dataframe tbody tr th {\n",
       "        vertical-align: top;\n",
       "    }\n",
       "\n",
       "    .dataframe thead th {\n",
       "        text-align: right;\n",
       "    }\n",
       "</style>\n",
       "<table border=\"1\" class=\"dataframe\">\n",
       "  <thead>\n",
       "    <tr style=\"text-align: right;\">\n",
       "      <th></th>\n",
       "      <th>selection_rate</th>\n",
       "      <th>false_negative_rate</th>\n",
       "      <th>balanced_accuracy</th>\n",
       "    </tr>\n",
       "  </thead>\n",
       "  <tbody>\n",
       "    <tr>\n",
       "      <th>difference</th>\n",
       "      <td>0.123</td>\n",
       "      <td>0.221</td>\n",
       "      <td>0.057</td>\n",
       "    </tr>\n",
       "    <tr>\n",
       "      <th>ratio</th>\n",
       "      <td>0.701</td>\n",
       "      <td>0.648</td>\n",
       "      <td>0.906</td>\n",
       "    </tr>\n",
       "    <tr>\n",
       "      <th>group_min</th>\n",
       "      <td>0.411</td>\n",
       "      <td>0.628</td>\n",
       "      <td>0.603</td>\n",
       "    </tr>\n",
       "    <tr>\n",
       "      <th>group_max</th>\n",
       "      <td>0.288</td>\n",
       "      <td>0.407</td>\n",
       "      <td>0.546</td>\n",
       "    </tr>\n",
       "  </tbody>\n",
       "</table>\n",
       "</div>"
      ],
      "text/plain": [
       "           selection_rate false_negative_rate balanced_accuracy\n",
       "difference          0.123               0.221             0.057\n",
       "ratio               0.701               0.648             0.906\n",
       "group_min           0.411               0.628             0.603\n",
       "group_max           0.288               0.407             0.546"
      ]
     },
     "execution_count": 61,
     "metadata": {},
     "output_type": "execute_result"
    }
   ],
   "source": [
    "# You'll probably want to view them transposed:\n",
    "\n",
    "pd.DataFrame({'difference': mf2.difference(),\n",
    "              'ratio': mf2.ratio(),\n",
    "              'group_min': mf2.group_max(),\n",
    "              'group_max': mf2.group_min()}).T"
   ]
  },
  {
   "cell_type": "code",
   "execution_count": 62,
   "metadata": {
    "colab": {
     "base_uri": "https://localhost:8080/",
     "height": 363
    },
    "id": "DvjRBIcjjSkl",
    "outputId": "f294d34d-a55d-4d23-d5f5-8c2c5415d623"
   },
   "outputs": [
    {
     "data": {
      "image/png": "[encoded data removed]",
      "text/plain": [
       "<Figure size 864x288 with 3 Axes>"
      ]
     },
     "metadata": {},
     "output_type": "display_data"
    }
   ],
   "source": [
    "# You can also easily plot all of the metrics using DataFrame plotting capabilities\n",
    "\n",
    "mf2.by_group.plot.bar(subplots=True, layout= [1,3], figsize=(12, 4), legend=False, rot=-45, position=1.5);"
   ]
  },
  {
   "cell_type": "markdown",
   "metadata": {
    "id": "b5C3SITjuPUm"
   },
   "source": [
    "According to the above bar chart, it seems that the group *Unknown* is selected for the care management program less often than other groups as reflected by the selection rate. Also this group experiences the largest false negative rate, so a larger fraction of group members that are likely to benefit from the care management program are not selected. Finally, the balanced accuracy on this group is also the lowest.\n",
    "\n",
    "However, the charts above are based on test data, so without any uncertainty quantification (such as error bars or confidence intervals), we cannot reliably compare these data statistics. In the next section, we augment `MetricFrame` with the report of error bars.\n"
   ]
  },
  {
   "cell_type": "markdown",
   "metadata": {
    "id": "Me1ocEi2kEgw"
   },
   "source": [
    "## Adding error bars"
   ]
  },
  {
   "cell_type": "markdown",
   "metadata": {
    "id": "9l8YJ8qQdehm"
   },
   "source": [
    "In this section, we define new custom metrics that quantify errors in our estimates of selection rate, false negative rate and balanced accuracy, and then review our metrics again."
   ]
  },
  {
   "cell_type": "code",
   "execution_count": 63,
   "metadata": {
    "id": "OiP-uXr_FLtz"
   },
   "outputs": [],
   "source": [
    "# All of our error bar calculations are based on normal approximation to\n",
    "# the binomial variables.\n",
    "\n",
    "def error_bar_normal(n_successes, n_trials, z=1.96):\n",
    "  \"\"\"\n",
    "  Computes the error bars for the parameter p of a binomial variable\n",
    "  using normal approximation. The default value z corresponds to the 95%\n",
    "  confidence interval.\n",
    "  \"\"\"\n",
    "  point_est = n_successes / n_trials\n",
    "  error_bar = z*np.sqrt(point_est*(1-point_est))/np.sqrt(n_trials)\n",
    "  return error_bar\n",
    "\n",
    "def fpr_error(Y_true, Y_pred):\n",
    "  \"\"\"\n",
    "  Compute the 95%-error bar for the false positive rate\n",
    "  \"\"\"\n",
    "  tn, fp, fn, tp = confusion_matrix(Y_true, Y_pred).ravel()\n",
    "  return error_bar_normal(fp, tn+fp)\n",
    "\n",
    "def fnr_error(Y_true, Y_pred):\n",
    "  \"\"\"\n",
    "  Compute the 95%-error bar for the false negative rate\n",
    "  \"\"\"\n",
    "  tn, fp, fn, tp = confusion_matrix(Y_true, Y_pred).ravel()\n",
    "  return error_bar_normal(fn, fn+tp)\n",
    "\n",
    "def selection_rate_error(Y_true, Y_pred):\n",
    "  \"\"\"\n",
    "  Compute the 95%-error bar for the selection rate\n",
    "  \"\"\"\n",
    "  tn, fp, fn, tp = confusion_matrix(Y_true, Y_pred).ravel()\n",
    "  return error_bar_normal(tp+fp, tn+fp+fn+tp)\n",
    "\n",
    "def balanced_accuracy_error(Y_true, Y_pred):\n",
    "  \"\"\"\n",
    "  Compute the 95%-error bar for the balanced accuracy\n",
    "  \"\"\"\n",
    "  fnr_err, fpr_err = fnr_error(Y_true, Y_pred), fpr_error(Y_true, Y_pred)\n",
    "  return np.sqrt(fnr_err**2 + fpr_err**2)/2"
   ]
  },
  {
   "cell_type": "markdown",
   "metadata": {
    "id": "qHaXfBYWp6ob"
   },
   "source": [
    "We next create a metric frame that includes the sample sizes and error bar sizes in addition to the metrics that we have used previously."
   ]
  },
  {
   "cell_type": "code",
   "execution_count": 64,
   "metadata": {
    "id": "OlEq6ogfyHb6"
   },
   "outputs": [],
   "source": [
    "metrics_with_err_bars = {\n",
    "    \"count\": lambda y_true, y_pred: len(y_true),\n",
    "    \"selection_rate\": selection_rate,\n",
    "    \"selection_err_bar\": selection_rate_error,\n",
    "    \"false_negative_rate\": false_negative_rate,\n",
    "    \"fnr_err_bar\": fnr_error,\n",
    "    \"balanced_accuracy\": balanced_accuracy_score,\n",
    "    \"bal_acc_err_bar\": balanced_accuracy_error\n",
    "}\n",
    "\n",
    "# sometimes we will only want to display metrics without error bars\n",
    "metrics_to_display = [\n",
    "    \"count\",\n",
    "    \"selection_rate\",\n",
    "    \"false_negative_rate\",\n",
    "    \"balanced_accuracy\"\n",
    "]\n",
    "\n",
    "# sometimes we will only want to show the difference values of the metrics other than count\n",
    "differences_to_display = [\n",
    "    \"selection_rate\",\n",
    "    \"false_negative_rate\",\n",
    "    \"balanced_accuracy\"\n",
    "]"
   ]
  },
  {
   "cell_type": "code",
   "execution_count": 65,
   "metadata": {
    "id": "55GOqFTYxbCi"
   },
   "outputs": [],
   "source": [
    "metricframe_unmitigated = MetricFrame(\n",
    "    metrics_with_err_bars,\n",
    "    y_true=Y_test,\n",
    "    y_pred=Y_pred,\n",
    "    sensitive_features=A_test\n",
    ")"
   ]
  },
  {
   "cell_type": "code",
   "execution_count": 66,
   "metadata": {
    "colab": {
     "base_uri": "https://localhost:8080/",
     "height": 197
    },
    "id": "MlZKPNkHxbFb",
    "outputId": "d501eb11-43c5-40f2-fc73-50720c30de86"
   },
   "outputs": [
    {
     "data": {
      "text/html": [
       "<div>\n",
       "<style scoped>\n",
       "    .dataframe tbody tr th:only-of-type {\n",
       "        vertical-align: middle;\n",
       "    }\n",
       "\n",
       "    .dataframe tbody tr th {\n",
       "        vertical-align: top;\n",
       "    }\n",
       "\n",
       "    .dataframe thead th {\n",
       "        text-align: right;\n",
       "    }\n",
       "</style>\n",
       "<table border=\"1\" class=\"dataframe\">\n",
       "  <thead>\n",
       "    <tr style=\"text-align: right;\">\n",
       "      <th></th>\n",
       "      <th>count</th>\n",
       "      <th>selection_rate</th>\n",
       "      <th>selection_err_bar</th>\n",
       "      <th>false_negative_rate</th>\n",
       "      <th>fnr_err_bar</th>\n",
       "      <th>balanced_accuracy</th>\n",
       "      <th>bal_acc_err_bar</th>\n",
       "    </tr>\n",
       "    <tr>\n",
       "      <th>race</th>\n",
       "      <th></th>\n",
       "      <th></th>\n",
       "      <th></th>\n",
       "      <th></th>\n",
       "      <th></th>\n",
       "      <th></th>\n",
       "      <th></th>\n",
       "    </tr>\n",
       "  </thead>\n",
       "  <tbody>\n",
       "    <tr>\n",
       "      <th>AfricanAmerican</th>\n",
       "      <td>9616</td>\n",
       "      <td>0.410</td>\n",
       "      <td>0.010</td>\n",
       "      <td>0.420</td>\n",
       "      <td>0.029</td>\n",
       "      <td>0.597</td>\n",
       "      <td>0.015</td>\n",
       "    </tr>\n",
       "    <tr>\n",
       "      <th>Caucasian</th>\n",
       "      <td>38039</td>\n",
       "      <td>0.411</td>\n",
       "      <td>0.005</td>\n",
       "      <td>0.407</td>\n",
       "      <td>0.015</td>\n",
       "      <td>0.603</td>\n",
       "      <td>0.008</td>\n",
       "    </tr>\n",
       "    <tr>\n",
       "      <th>Other</th>\n",
       "      <td>2113</td>\n",
       "      <td>0.337</td>\n",
       "      <td>0.020</td>\n",
       "      <td>0.482</td>\n",
       "      <td>0.066</td>\n",
       "      <td>0.601</td>\n",
       "      <td>0.034</td>\n",
       "    </tr>\n",
       "    <tr>\n",
       "      <th>Unknown</th>\n",
       "      <td>1114</td>\n",
       "      <td>0.288</td>\n",
       "      <td>0.027</td>\n",
       "      <td>0.628</td>\n",
       "      <td>0.098</td>\n",
       "      <td>0.546</td>\n",
       "      <td>0.051</td>\n",
       "    </tr>\n",
       "  </tbody>\n",
       "</table>\n",
       "</div>"
      ],
      "text/plain": [
       "                 count selection_rate selection_err_bar false_negative_rate  \\\n",
       "race                                                                          \n",
       "AfricanAmerican   9616          0.410             0.010               0.420   \n",
       "Caucasian        38039          0.411             0.005               0.407   \n",
       "Other             2113          0.337             0.020               0.482   \n",
       "Unknown           1114          0.288             0.027               0.628   \n",
       "\n",
       "                fnr_err_bar balanced_accuracy bal_acc_err_bar  \n",
       "race                                                           \n",
       "AfricanAmerican       0.029             0.597           0.015  \n",
       "Caucasian             0.015             0.603           0.008  \n",
       "Other                 0.066             0.601           0.034  \n",
       "Unknown               0.098             0.546           0.051  "
      ]
     },
     "execution_count": 66,
     "metadata": {},
     "output_type": "execute_result"
    }
   ],
   "source": [
    "unmitigated_groups = metricframe_unmitigated.by_group\n",
    "unmitigated_groups # show both the metrics as well as the error bars"
   ]
  },
  {
   "cell_type": "markdown",
   "metadata": {
    "id": "hh5F-A5C5rSV"
   },
   "source": [
    "We see that for smaller sample sizes we have larger error bars. The problem is further exacerbated for false negative rate, which is estimated only over *positive examples* and so its sample sizes is further reduced due to label imbalance.\n",
    "\n",
    "We next visualize the metrics with the corresponding error bars using a custom plotting function."
   ]
  },
  {
   "cell_type": "code",
   "execution_count": 67,
   "metadata": {
    "id": "rqFPLsATwROr"
   },
   "outputs": [],
   "source": [
    "def plot_group_metrics_with_error_bars(metricframe, metric, error_name):\n",
    "  \"\"\"\n",
    "  Plots the disaggregated `metric` for each group with an associated\n",
    "  error bar. Both metric and the erro bar are provided as columns in the \n",
    "  provided metricframe.\n",
    "  \"\"\"\n",
    "  grouped_metrics = metricframe.by_group\n",
    "  point_estimates = grouped_metrics[metric]\n",
    "  error_bars = grouped_metrics[error_name]\n",
    "  lower_bounds = point_estimates - error_bars\n",
    "  upper_bounds = point_estimates + error_bars\n",
    "\n",
    "  x_axis_names = [str(name) for name in error_bars.index.to_flat_index().tolist()]\n",
    "  plt.vlines(x_axis_names, lower_bounds, upper_bounds, linestyles=\"dashed\", alpha=0.45)\n",
    "  plt.scatter(x_axis_names, point_estimates, s=25)\n",
    "  plt.xticks(rotation=0)\n",
    "  y_start, y_end = np.round(min(lower_bounds), decimals=2), np.round(max(upper_bounds), decimals=2)\n",
    "  plt.yticks(np.arange(y_start, y_end, 0.05))\n",
    "  plt.ylabel(metric)"
   ]
  },
  {
   "cell_type": "code",
   "execution_count": 68,
   "metadata": {
    "colab": {
     "base_uri": "https://localhost:8080/",
     "height": 267
    },
    "id": "dsRFpuXfzrUA",
    "outputId": "118eba25-b37e-4711-c48f-73e691a7f666"
   },
   "outputs": [
    {
     "data": {
      "image/png": "[encoded data removed]",
      "text/plain": [
       "<Figure size 432x288 with 1 Axes>"
      ]
     },
     "metadata": {},
     "output_type": "display_data"
    }
   ],
   "source": [
    "plot_group_metrics_with_error_bars(metricframe_unmitigated, \"selection_rate\", \"selection_err_bar\")"
   ]
  },
  {
   "cell_type": "code",
   "execution_count": 69,
   "metadata": {
    "colab": {
     "base_uri": "https://localhost:8080/",
     "height": 267
    },
    "id": "B68Q2ZIgzrcE",
    "outputId": "ad35bd1b-8206-4410-9c56-b59a1c5fc4c2"
   },
   "outputs": [
    {
     "data": {
      "image/png": "[encoded data removed]",
      "text/plain": [
       "<Figure size 432x288 with 1 Axes>"
      ]
     },
     "metadata": {},
     "output_type": "display_data"
    }
   ],
   "source": [
    "plot_group_metrics_with_error_bars(metricframe_unmitigated, \"false_negative_rate\", \"fnr_err_bar\")"
   ]
  },
  {
   "cell_type": "code",
   "execution_count": 70,
   "metadata": {
    "colab": {
     "base_uri": "https://localhost:8080/",
     "height": 267
    },
    "id": "htoUhyirpqZt",
    "outputId": "204fc841-c720-450a-a8dd-b5fef13a3ff2"
   },
   "outputs": [
    {
     "data": {
      "image/png": "[encoded data removed]",
      "text/plain": [
       "<Figure size 432x288 with 1 Axes>"
      ]
     },
     "metadata": {},
     "output_type": "display_data"
    }
   ],
   "source": [
    "plot_group_metrics_with_error_bars(metricframe_unmitigated, \"balanced_accuracy\", \"bal_acc_err_bar\")"
   ]
  },
  {
   "cell_type": "markdown",
   "metadata": {
    "id": "SAMhqvycR7eE"
   },
   "source": [
    "As we see above, even accounting for the larger uncertainty in estimating the false negative rate for *Unknown*, this group is experiencing substantially larger false negative rate than other groups and thus experiences the harm of allocation."
   ]
  },
  {
   "cell_type": "markdown",
   "metadata": {
    "id": "n_1Rm8PbPmmk"
   },
   "source": [
    "# Exercise: Train other fairness-unaware models"
   ]
  },
  {
   "cell_type": "markdown",
   "metadata": {
    "id": "oeQF5qT6Qs-C"
   },
   "source": [
    "In this section, you'll be training your own fairness-unaware model and evaluate the model using the `MetricFrame` for fairness-related harms."
   ]
  },
  {
   "cell_type": "markdown",
   "metadata": {
    "id": "SsHy-Os0oVQU"
   },
   "source": [
    "We encourage you to explore the model's performance across different `sensitive_attributes` (such as `age` or `gender`) as well as different model performance metrics (e.g. ROC)."
   ]
  },
  {
   "cell_type": "markdown",
   "metadata": {
    "id": "61GU_zrFSC-6"
   },
   "source": [
    "1.) First, let's create our machine learning model. We'll create an `HistGradientBoostingClassifier` with `random_state=random_seed`. Then, we will fit it to the balanced training data set."
   ]
  },
  {
   "cell_type": "code",
   "execution_count": 71,
   "metadata": {
    "id": "cUPOfey0QtJ_"
   },
   "outputs": [],
   "source": [
    "from sklearn.experimental import enable_hist_gradient_boosting\n",
    "from sklearn.ensemble import HistGradientBoostingClassifier\n",
    "\n",
    "# Create your model here\n",
    "\n",
    "# Fit the model to the training data"
   ]
  },
  {
   "cell_type": "markdown",
   "metadata": {
    "id": "Fnnles-p6OXr"
   },
   "source": [
    "2.) Next, let's evaluate the fairness of the model using the `MetricFrame`. In the below cells, create a `MetricFrame` that looks at the following metrics:\n",
    "\n",
    "\n",
    "*   _Count_: The number of data points belonging to each sensitive feature category.\n",
    "*   _False Positive Rate_: $\\dfrac{FN}{FN+TP}$\n",
    "*  _Recall Score_: $\\dfrac{TP}{TP+FN}$\n",
    "\n",
    "As an extra challenge, you can use the prediction probabilities to compute the _ROC AUC Score_ for each sensitive group pair.\n",
    "\n"
   ]
  },
  {
   "cell_type": "code",
   "execution_count": 72,
   "metadata": {
    "id": "EXUYQPuwQtNm"
   },
   "outputs": [],
   "source": [
    "# Define additional fairness metrics of interest here"
   ]
  },
  {
   "cell_type": "markdown",
   "metadata": {
    "id": "Bll-8GAWJF6p"
   },
   "source": [
    "Now, let's create our `MetricFrame` using the metrics listed above with the sensitive groups of `race` and `gender`."
   ]
  },
  {
   "cell_type": "code",
   "execution_count": 73,
   "metadata": {
    "id": "zWLsCa_xQtbE"
   },
   "outputs": [],
   "source": [
    "# Create a MetricFrame on your model's results"
   ]
  },
  {
   "cell_type": "markdown",
   "metadata": {
    "id": "QeghVCbLZOf5"
   },
   "source": [
    "3.) Finally, play around with the plotting capabilities of the `MetricFrame` in the below section.\n",
    "\n"
   ]
  },
  {
   "cell_type": "code",
   "execution_count": 74,
   "metadata": {
    "id": "-ylW8y2CQtjb"
   },
   "outputs": [],
   "source": [
    "#Plot some of the performance disparities here"
   ]
  },
  {
   "cell_type": "markdown",
   "metadata": {
    "id": "8ZqVGZkam1eH"
   },
   "source": [
    "\n",
    "\n",
    "---\n"
   ]
  },
  {
   "cell_type": "markdown",
   "metadata": {
    "id": "-dgITdRiD7Yu"
   },
   "source": [
    "# **Mitigating fairness-related harms in ML models**"
   ]
  },
  {
   "cell_type": "markdown",
   "metadata": {
    "id": "sbUSG1jVA06G"
   },
   "source": [
    "We have found that the logistic regression predictor leads to a large difference in false negative rates between the groups. We next look at **algorithmic mitigation strategies** of this fairness issue (and similar ones).\n",
    "\n",
    "*Note that while we currently focus on the training stage of the AI lifecycle mitigation should not be limited to this stage. In fact, we have already discussed mitigation strategies that are applicable at the task definition stage (e.g., checking for construct validity) and data collection stage (e.g., collecting more data).*\n",
    "\n",
    "Within the model training stage, mitigation may occur at different steps relative to model training:\n",
    "\n",
    "* **Preprocessing**: A mitigation algorithm is applied to transform the input data to the training algorithm; for example, some strategies seek to remove and dependence between the input features and sensitive features.\n",
    "\n",
    "* **At training time**: The model is trained by an (optimization) algorithm that seeks to satisfy fairness constraints.\n",
    "\n",
    "* **Postprocessing**: The output of a trained model is transformed to mitigate fairness issues; for example, the predicted probability of readmission is thresholded according to a group-specific threshold.\n",
    "\n",
    "We will now dive into two algorithms: a postprocessing approach and a reductions approach (which is a training-time algorithm). Both of them are in fact **meta-algorithms** in the sense that they act as wrappers around _any_ standard (fairness-unaware) machine learning algorithms. This makes them quite versatile in practice.\n"
   ]
  },
  {
   "cell_type": "markdown",
   "metadata": {
    "id": "rX8QycCL0mJj"
   },
   "source": [
    "## Postprocessing with `ThresholdOptimizer`"
   ]
  },
  {
   "cell_type": "markdown",
   "metadata": {
    "id": "fRZfSFzcFaXP"
   },
   "source": [
    "**Postprocessing** techniques are a class of unfairness-mitigation algorithms that take an already trained model and a dataset as an input and seek to fit a transformation function to model's outputs to satisfy some (group) fairness constraint(s). They might be the only feasible unfairness mitigation approach when developers cannot influence training of the model, due to practical reasons or due to security or privacy.\n"
   ]
  },
  {
   "cell_type": "markdown",
   "metadata": {
    "id": "6PgzZkK9Wbni"
   },
   "source": [
    "Here we use the `ThresholdOptimizer` algorithm from Fairlearn, which follows the approach of [Hardt, Price, and Srebro (2016)](https://arxiv.org/abs/1610.02413).\n",
    "\n",
    "`ThresholdOptimizer` takes in an exisiting (possibly pre-fit) machine learning model whose predictions act as a scoring function and identifies a separate thrceshold for each group in order to optimize some specified objective metric (such as **balanced accuracy**) subject to specified fairness constraints (such as **false negative rate parity**). Thus, the resulting classifier is just a suitably thresholded version of the underlying machinelearning model.\n",
    "\n",
    "The constraint **false negative rate parity** requires that all the groups have equal values of false negative rate.\n",
    "\n"
   ]
  },
  {
   "cell_type": "markdown",
   "metadata": {
    "id": "OFOovaN7AwDr"
   },
   "source": [
    "To instatiate our `ThresholdOptimizer`, we pass in:\n",
    "\n",
    "*   An existing `estimator` that we wish to threshold. \n",
    "*   The fairness `constraints` we want to satisfy.\n",
    "*   The `objective` metric we want to maximize.\n",
    "\n"
   ]
  },
  {
   "cell_type": "code",
   "execution_count": 75,
   "metadata": {
    "id": "FY1ppkA5sTlx"
   },
   "outputs": [],
   "source": [
    "# The provided estimator needs to be wrapped in ClassifierWraper if we want\n",
    "# threshold optimizer to threshold its probabilistic predictions (as we do in case of\n",
    "# our trained logistic regression model).\n",
    "class ClassifierWrapper:\n",
    "    \n",
    "    def __init__(self, estimator):\n",
    "        self.estimator_ = estimator\n",
    "        \n",
    "    def fit(self, X, y):\n",
    "        self.estimator_.fit(X, y)\n",
    "        return self\n",
    "    \n",
    "    def predict(self, X):\n",
    "        return self.estimator_.predict_proba(X)[:, 1]"
   ]
  },
  {
   "cell_type": "code",
   "execution_count": 76,
   "metadata": {
    "id": "8je0grKPWHhy"
   },
   "outputs": [],
   "source": [
    "# Now we instantiote ThresholdOptimizer, with the logistic regression estimator\n",
    "# wrapped in ClassifierWrapper\n",
    "postprocess_est = ThresholdOptimizer(\n",
    "    estimator=ClassifierWrapper(unmitigated_pipeline),\n",
    "    constraints=\"false_negative_rate_parity\",\n",
    "    objective=\"balanced_accuracy_score\",\n",
    "    prefit=True\n",
    ")"
   ]
  },
  {
   "cell_type": "markdown",
   "metadata": {
    "id": "VDD86L7eCSe0"
   },
   "source": [
    "In order to use the `ThresholdOptimizer`, we need access to the sensitive features **both during training time and once it's deployed**."
   ]
  },
  {
   "cell_type": "code",
   "execution_count": 77,
   "metadata": {
    "colab": {
     "base_uri": "https://localhost:8080/",
     "height": 104
    },
    "id": "VCHJBB7x1rAK",
    "outputId": "60294439-2052-4fd2-c8c3-48a75bed1056"
   },
   "outputs": [
    {
     "data": {
      "text/html": [
       "<style>#sk-3a96155c-9a96-46fb-9680-456ab06dbe2e {color: black;background-color: white;}#sk-3a96155c-9a96-46fb-9680-456ab06dbe2e pre{padding: 0;}#sk-3a96155c-9a96-46fb-9680-456ab06dbe2e div.sk-toggleable {background-color: white;}#sk-3a96155c-9a96-46fb-9680-456ab06dbe2e label.sk-toggleable__label {cursor: pointer;display: block;width: 100%;margin-bottom: 0;padding: 0.2em 0.3em;box-sizing: border-box;text-align: center;}#sk-3a96155c-9a96-46fb-9680-456ab06dbe2e div.sk-toggleable__content {max-height: 0;max-width: 0;overflow: hidden;text-align: left;background-color: #f0f8ff;}#sk-3a96155c-9a96-46fb-9680-456ab06dbe2e div.sk-toggleable__content pre {margin: 0.2em;color: black;border-radius: 0.25em;background-color: #f0f8ff;}#sk-3a96155c-9a96-46fb-9680-456ab06dbe2e input.sk-toggleable__control:checked~div.sk-toggleable__content {max-height: 200px;max-width: 100%;overflow: auto;}#sk-3a96155c-9a96-46fb-9680-456ab06dbe2e div.sk-estimator input.sk-toggleable__control:checked~label.sk-toggleable__label {background-color: #d4ebff;}#sk-3a96155c-9a96-46fb-9680-456ab06dbe2e div.sk-label input.sk-toggleable__control:checked~label.sk-toggleable__label {background-color: #d4ebff;}#sk-3a96155c-9a96-46fb-9680-456ab06dbe2e input.sk-hidden--visually {border: 0;clip: rect(1px 1px 1px 1px);clip: rect(1px, 1px, 1px, 1px);height: 1px;margin: -1px;overflow: hidden;padding: 0;position: absolute;width: 1px;}#sk-3a96155c-9a96-46fb-9680-456ab06dbe2e div.sk-estimator {font-family: monospace;background-color: #f0f8ff;margin: 0.25em 0.25em;border: 1px dotted black;border-radius: 0.25em;box-sizing: border-box;}#sk-3a96155c-9a96-46fb-9680-456ab06dbe2e div.sk-estimator:hover {background-color: #d4ebff;}#sk-3a96155c-9a96-46fb-9680-456ab06dbe2e div.sk-parallel-item::after {content: \"\";width: 100%;border-bottom: 1px solid gray;flex-grow: 1;}#sk-3a96155c-9a96-46fb-9680-456ab06dbe2e div.sk-label:hover label.sk-toggleable__label {background-color: #d4ebff;}#sk-3a96155c-9a96-46fb-9680-456ab06dbe2e div.sk-serial::before {content: \"\";position: absolute;border-left: 1px solid gray;box-sizing: border-box;top: 2em;bottom: 0;left: 50%;}#sk-3a96155c-9a96-46fb-9680-456ab06dbe2e div.sk-serial {display: flex;flex-direction: column;align-items: center;background-color: white;}#sk-3a96155c-9a96-46fb-9680-456ab06dbe2e div.sk-item {z-index: 1;}#sk-3a96155c-9a96-46fb-9680-456ab06dbe2e div.sk-parallel {display: flex;align-items: stretch;justify-content: center;background-color: white;}#sk-3a96155c-9a96-46fb-9680-456ab06dbe2e div.sk-parallel-item {display: flex;flex-direction: column;position: relative;background-color: white;}#sk-3a96155c-9a96-46fb-9680-456ab06dbe2e div.sk-parallel-item:first-child::after {align-self: flex-end;width: 50%;}#sk-3a96155c-9a96-46fb-9680-456ab06dbe2e div.sk-parallel-item:last-child::after {align-self: flex-start;width: 50%;}#sk-3a96155c-9a96-46fb-9680-456ab06dbe2e div.sk-parallel-item:only-child::after {width: 0;}#sk-3a96155c-9a96-46fb-9680-456ab06dbe2e div.sk-dashed-wrapped {border: 1px dashed gray;margin: 0.2em;box-sizing: border-box;padding-bottom: 0.1em;background-color: white;position: relative;}#sk-3a96155c-9a96-46fb-9680-456ab06dbe2e div.sk-label label {font-family: monospace;font-weight: bold;background-color: white;display: inline-block;line-height: 1.2em;}#sk-3a96155c-9a96-46fb-9680-456ab06dbe2e div.sk-label-container {position: relative;z-index: 2;text-align: center;}#sk-3a96155c-9a96-46fb-9680-456ab06dbe2e div.sk-container {display: inline-block;position: relative;}</style><div id=\"sk-3a96155c-9a96-46fb-9680-456ab06dbe2e\" class\"sk-top-container\"><div class=\"sk-container\"><div class=\"sk-item\"><div class=\"sk-estimator sk-toggleable\"><input class=\"sk-toggleable__control sk-hidden--visually\" id=\"ad079280-ab8d-45ee-b4dc-08afe33c7226\" type=\"checkbox\" checked><label class=\"sk-toggleable__label\" for=\"ad079280-ab8d-45ee-b4dc-08afe33c7226\">ThresholdOptimizer</label><div class=\"sk-toggleable__content\"><pre>ThresholdOptimizer(constraints='false_negative_rate_parity',\n",
       "                   estimator=<__main__.ClassifierWrapper object at 0x00000189801A46C8>,\n",
       "                   objective='balanced_accuracy_score', prefit=True)</pre></div></div></div></div></div>"
      ],
      "text/plain": [
       "ThresholdOptimizer(constraints='false_negative_rate_parity',\n",
       "                   estimator=<__main__.ClassifierWrapper object at 0x00000189801A46C8>,\n",
       "                   objective='balanced_accuracy_score', prefit=True)"
      ]
     },
     "execution_count": 77,
     "metadata": {},
     "output_type": "execute_result"
    }
   ],
   "source": [
    "postprocess_est.fit(X_train_bal, Y_train_bal, sensitive_features=A_train_bal)"
   ]
  },
  {
   "cell_type": "code",
   "execution_count": 78,
   "metadata": {
    "id": "YscNZsYU1rCY"
   },
   "outputs": [],
   "source": [
    "# Record and evaluate the output of the trained ThresholdOptimizer on test data\n",
    "\n",
    "Y_pred_postprocess = postprocess_est.predict(X_test, sensitive_features=A_test)\n",
    "metricframe_postprocess = MetricFrame(\n",
    "    metrics_with_err_bars,\n",
    "    Y_test,\n",
    "    Y_pred_postprocess,\n",
    "    sensitive_features=A_test\n",
    ")"
   ]
  },
  {
   "cell_type": "markdown",
   "metadata": {
    "id": "_izbGv6tQ1KD"
   },
   "source": [
    "We can now inspect how the metric values differ between the postprocessed model and the unmitigated model:"
   ]
  },
  {
   "cell_type": "code",
   "execution_count": 79,
   "metadata": {
    "colab": {
     "base_uri": "https://localhost:8080/",
     "height": 227
    },
    "id": "-9mtWyWc1rH5",
    "outputId": "f8738bbd-b1b9-4940-d1ac-8649bd4753ad"
   },
   "outputs": [
    {
     "data": {
      "text/html": [
       "<div>\n",
       "<style scoped>\n",
       "    .dataframe tbody tr th:only-of-type {\n",
       "        vertical-align: middle;\n",
       "    }\n",
       "\n",
       "    .dataframe tbody tr th {\n",
       "        vertical-align: top;\n",
       "    }\n",
       "\n",
       "    .dataframe thead tr th {\n",
       "        text-align: left;\n",
       "    }\n",
       "\n",
       "    .dataframe thead tr:last-of-type th {\n",
       "        text-align: right;\n",
       "    }\n",
       "</style>\n",
       "<table border=\"1\" class=\"dataframe\">\n",
       "  <thead>\n",
       "    <tr>\n",
       "      <th></th>\n",
       "      <th colspan=\"3\" halign=\"left\">Unmitigated</th>\n",
       "      <th colspan=\"3\" halign=\"left\">ThresholdOptimizer</th>\n",
       "    </tr>\n",
       "    <tr>\n",
       "      <th></th>\n",
       "      <th>selection_rate</th>\n",
       "      <th>false_negative_rate</th>\n",
       "      <th>balanced_accuracy</th>\n",
       "      <th>selection_rate</th>\n",
       "      <th>false_negative_rate</th>\n",
       "      <th>balanced_accuracy</th>\n",
       "    </tr>\n",
       "    <tr>\n",
       "      <th>race</th>\n",
       "      <th></th>\n",
       "      <th></th>\n",
       "      <th></th>\n",
       "      <th></th>\n",
       "      <th></th>\n",
       "      <th></th>\n",
       "    </tr>\n",
       "  </thead>\n",
       "  <tbody>\n",
       "    <tr>\n",
       "      <th>AfricanAmerican</th>\n",
       "      <td>0.410</td>\n",
       "      <td>0.420</td>\n",
       "      <td>0.597</td>\n",
       "      <td>0.423</td>\n",
       "      <td>0.417</td>\n",
       "      <td>0.591</td>\n",
       "    </tr>\n",
       "    <tr>\n",
       "      <th>Caucasian</th>\n",
       "      <td>0.411</td>\n",
       "      <td>0.407</td>\n",
       "      <td>0.603</td>\n",
       "      <td>0.433</td>\n",
       "      <td>0.383</td>\n",
       "      <td>0.603</td>\n",
       "    </tr>\n",
       "    <tr>\n",
       "      <th>Other</th>\n",
       "      <td>0.337</td>\n",
       "      <td>0.482</td>\n",
       "      <td>0.601</td>\n",
       "      <td>0.364</td>\n",
       "      <td>0.441</td>\n",
       "      <td>0.609</td>\n",
       "    </tr>\n",
       "    <tr>\n",
       "      <th>Unknown</th>\n",
       "      <td>0.288</td>\n",
       "      <td>0.628</td>\n",
       "      <td>0.546</td>\n",
       "      <td>0.451</td>\n",
       "      <td>0.489</td>\n",
       "      <td>0.533</td>\n",
       "    </tr>\n",
       "  </tbody>\n",
       "</table>\n",
       "</div>"
      ],
      "text/plain": [
       "                   Unmitigated                                        \\\n",
       "                selection_rate false_negative_rate balanced_accuracy   \n",
       "race                                                                   \n",
       "AfricanAmerican          0.410               0.420             0.597   \n",
       "Caucasian                0.411               0.407             0.603   \n",
       "Other                    0.337               0.482             0.601   \n",
       "Unknown                  0.288               0.628             0.546   \n",
       "\n",
       "                ThresholdOptimizer                                        \n",
       "                    selection_rate false_negative_rate balanced_accuracy  \n",
       "race                                                                      \n",
       "AfricanAmerican              0.423               0.417             0.591  \n",
       "Caucasian                    0.433               0.383             0.603  \n",
       "Other                        0.364               0.441             0.609  \n",
       "Unknown                      0.451               0.489             0.533  "
      ]
     },
     "execution_count": 79,
     "metadata": {},
     "output_type": "execute_result"
    }
   ],
   "source": [
    "pd.set_option(\"display.float_format\", \"{:.3f}\".format)\n",
    "pd.concat([metricframe_unmitigated.by_group[differences_to_display],\n",
    "           metricframe_postprocess.by_group[differences_to_display]],\n",
    "           keys=['Unmitigated', 'ThresholdOptimizer'],\n",
    "           axis=1)"
   ]
  },
  {
   "cell_type": "markdown",
   "metadata": {
    "id": "mzPCUFsXPU_S"
   },
   "source": [
    "We next zoom in on differences between the largest and the smallest metric values:"
   ]
  },
  {
   "cell_type": "code",
   "execution_count": 80,
   "metadata": {
    "colab": {
     "base_uri": "https://localhost:8080/",
     "height": 107
    },
    "id": "dsC4v8Ap1rKt",
    "outputId": "1d4b3894-b83d-4b1b-9b74-38666a1d9621"
   },
   "outputs": [
    {
     "data": {
      "text/html": [
       "<div>\n",
       "<style scoped>\n",
       "    .dataframe tbody tr th:only-of-type {\n",
       "        vertical-align: middle;\n",
       "    }\n",
       "\n",
       "    .dataframe tbody tr th {\n",
       "        vertical-align: top;\n",
       "    }\n",
       "\n",
       "    .dataframe thead th {\n",
       "        text-align: right;\n",
       "    }\n",
       "</style>\n",
       "<table border=\"1\" class=\"dataframe\">\n",
       "  <thead>\n",
       "    <tr style=\"text-align: right;\">\n",
       "      <th></th>\n",
       "      <th>selection_rate</th>\n",
       "      <th>false_negative_rate</th>\n",
       "      <th>balanced_accuracy</th>\n",
       "    </tr>\n",
       "  </thead>\n",
       "  <tbody>\n",
       "    <tr>\n",
       "      <th>Unmitigated: difference</th>\n",
       "      <td>0.123</td>\n",
       "      <td>0.221</td>\n",
       "      <td>0.057</td>\n",
       "    </tr>\n",
       "    <tr>\n",
       "      <th>ThresholdOptimizer: difference</th>\n",
       "      <td>0.087</td>\n",
       "      <td>0.106</td>\n",
       "      <td>0.076</td>\n",
       "    </tr>\n",
       "  </tbody>\n",
       "</table>\n",
       "</div>"
      ],
      "text/plain": [
       "                               selection_rate false_negative_rate  \\\n",
       "Unmitigated: difference                 0.123               0.221   \n",
       "ThresholdOptimizer: difference          0.087               0.106   \n",
       "\n",
       "                               balanced_accuracy  \n",
       "Unmitigated: difference                    0.057  \n",
       "ThresholdOptimizer: difference             0.076  "
      ]
     },
     "execution_count": 80,
     "metadata": {},
     "output_type": "execute_result"
    }
   ],
   "source": [
    "pd.concat([metricframe_unmitigated.difference()[differences_to_display],\n",
    "           metricframe_postprocess.difference()[differences_to_display]],\n",
    "          keys=['Unmitigated: difference', 'ThresholdOptimizer: difference'],\n",
    "          axis=1).T"
   ]
  },
  {
   "cell_type": "markdown",
   "metadata": {
    "id": "Hhi_RSxSRoyg"
   },
   "source": [
    "As we see, `ThresholdOptimizer` was able to decrease the difference between the values of false negative rate by a factor of two."
   ]
  },
  {
   "cell_type": "markdown",
   "metadata": {
    "id": "GarQvopkVN2S"
   },
   "source": [
    "Finally, we save the disagregated statistics:"
   ]
  },
  {
   "cell_type": "code",
   "execution_count": 81,
   "metadata": {
    "colab": {
     "base_uri": "https://localhost:8080/",
     "height": 363
    },
    "id": "EsTehBH2SW7f",
    "outputId": "7b2582e3-d829-4ef7-f7b4-1a8e8ed7cbdd"
   },
   "outputs": [
    {
     "data": {
      "image/png": "[encoded data removed]",
      "text/plain": [
       "<Figure size 864x288 with 4 Axes>"
      ]
     },
     "metadata": {},
     "output_type": "display_data"
    }
   ],
   "source": [
    "metricframe_postprocess.by_group[metrics_to_display].plot.bar(subplots=True, layout=[1,4], figsize=(12, 4), legend=False, rot=-45, position=1.5)\n",
    "postprocess_performance = figure_to_base64str(plt)"
   ]
  },
  {
   "cell_type": "markdown",
   "metadata": {
    "id": "umd3slsDmk0d"
   },
   "source": [
    "### Postprocessing: correctness check"
   ]
  },
  {
   "cell_type": "markdown",
   "metadata": {
    "id": "Cs1kWzda8f0z"
   },
   "source": [
    "We can verify that `ThresholdOptimizer` achieves false negative rate parity on the training dataset, meaning that the values of the false negative rate parity with respect to all groups are close on the training data."
   ]
  },
  {
   "cell_type": "code",
   "execution_count": 82,
   "metadata": {
    "colab": {
     "base_uri": "https://localhost:8080/",
     "height": 197
    },
    "id": "ttOZAVbgmplf",
    "outputId": "9e92f41e-f77e-4499-96bc-0b12d5fcfce7"
   },
   "outputs": [
    {
     "data": {
      "text/html": [
       "<div>\n",
       "<style scoped>\n",
       "    .dataframe tbody tr th:only-of-type {\n",
       "        vertical-align: middle;\n",
       "    }\n",
       "\n",
       "    .dataframe tbody tr th {\n",
       "        vertical-align: top;\n",
       "    }\n",
       "\n",
       "    .dataframe thead th {\n",
       "        text-align: right;\n",
       "    }\n",
       "</style>\n",
       "<table border=\"1\" class=\"dataframe\">\n",
       "  <thead>\n",
       "    <tr style=\"text-align: right;\">\n",
       "      <th></th>\n",
       "      <th>count</th>\n",
       "      <th>selection_rate</th>\n",
       "      <th>false_negative_rate</th>\n",
       "      <th>balanced_accuracy</th>\n",
       "    </tr>\n",
       "    <tr>\n",
       "      <th>race</th>\n",
       "      <th></th>\n",
       "      <th></th>\n",
       "      <th></th>\n",
       "      <th></th>\n",
       "    </tr>\n",
       "  </thead>\n",
       "  <tbody>\n",
       "    <tr>\n",
       "      <th>AfricanAmerican</th>\n",
       "      <td>2124</td>\n",
       "      <td>0.495</td>\n",
       "      <td>0.383</td>\n",
       "      <td>0.616</td>\n",
       "    </tr>\n",
       "    <tr>\n",
       "      <th>Caucasian</th>\n",
       "      <td>8562</td>\n",
       "      <td>0.514</td>\n",
       "      <td>0.384</td>\n",
       "      <td>0.604</td>\n",
       "    </tr>\n",
       "    <tr>\n",
       "      <th>Other</th>\n",
       "      <td>448</td>\n",
       "      <td>0.453</td>\n",
       "      <td>0.395</td>\n",
       "      <td>0.637</td>\n",
       "    </tr>\n",
       "    <tr>\n",
       "      <th>Unknown</th>\n",
       "      <td>222</td>\n",
       "      <td>0.486</td>\n",
       "      <td>0.372</td>\n",
       "      <td>0.622</td>\n",
       "    </tr>\n",
       "  </tbody>\n",
       "</table>\n",
       "</div>"
      ],
      "text/plain": [
       "                count selection_rate false_negative_rate balanced_accuracy\n",
       "race                                                                      \n",
       "AfricanAmerican  2124          0.495               0.383             0.616\n",
       "Caucasian        8562          0.514               0.384             0.604\n",
       "Other             448          0.453               0.395             0.637\n",
       "Unknown           222          0.486               0.372             0.622"
      ]
     },
     "execution_count": 82,
     "metadata": {},
     "output_type": "execute_result"
    }
   ],
   "source": [
    "# Record and evaluate the output of the ThresholdOptimizer on the training data\n",
    "\n",
    "Y_pred_postprocess_training = postprocess_est.predict(X_train_bal, sensitive_features=A_train_bal)\n",
    "metricframe_postprocess_training = MetricFrame(\n",
    "    metrics_with_err_bars,\n",
    "    Y_train_bal,\n",
    "    Y_pred_postprocess_training,\n",
    "    sensitive_features=A_train_bal\n",
    ")\n",
    "metricframe_postprocess_training.by_group[metrics_to_display]"
   ]
  },
  {
   "cell_type": "code",
   "execution_count": 83,
   "metadata": {
    "colab": {
     "base_uri": "https://localhost:8080/"
    },
    "id": "Tty0cmJomp1h",
    "outputId": "f9d1638a-6be3-4cfc-fb82-43490a1aa132"
   },
   "outputs": [
    {
     "data": {
      "text/plain": [
       "selection_rate        0.061\n",
       "false_negative_rate   0.023\n",
       "balanced_accuracy     0.033\n",
       "dtype: object"
      ]
     },
     "execution_count": 83,
     "metadata": {},
     "output_type": "execute_result"
    }
   ],
   "source": [
    "# Evaluate the difference between the largest and smallest value of each metric\n",
    "metricframe_postprocess_training.difference()[differences_to_display]"
   ]
  },
  {
   "cell_type": "markdown",
   "metadata": {
    "id": "Kvdn7wBhCqXw"
   },
   "source": [
    "On our training data, the maximal `false_negative_rate_difference` is around 0.02. As we noted this difference goes up around 0.10 on the test data."
   ]
  },
  {
   "cell_type": "markdown",
   "metadata": {
    "id": "yEeSaAbuZk-Q"
   },
   "source": [
    "### <mark>REMOVE?</mark>"
   ]
  },
  {
   "cell_type": "code",
   "execution_count": 84,
   "metadata": {
    "colab": {
     "base_uri": "https://localhost:8080/"
    },
    "id": "519yWNIUmp7T",
    "outputId": "32133363-47cc-4bdf-909e-5c17e29ed734"
   },
   "outputs": [
    {
     "data": {
      "image/png": "[encoded data removed]",
      "text/plain": [
       "<Figure size 432x288 with 1 Axes>"
      ]
     },
     "metadata": {},
     "output_type": "display_data"
    },
    {
     "data": {
      "text/plain": [
       "<Figure size 432x288 with 0 Axes>"
      ]
     },
     "metadata": {},
     "output_type": "display_data"
    }
   ],
   "source": [
    "plot_threshold_optimizer(postprocess_est)\n",
    "threshold_plot = figure_to_base64str(plt)"
   ]
  },
  {
   "cell_type": "markdown",
   "metadata": {
    "id": "wAUI3LdQbBCs"
   },
   "source": [
    "### Deployment considerations: Randomized predictions"
   ]
  },
  {
   "cell_type": "markdown",
   "metadata": {
    "id": "w1dH2UFo47d7"
   },
   "source": [
    "<mark>[STOP REVIEW HERE]</mark>"
   ]
  },
  {
   "cell_type": "markdown",
   "metadata": {
    "id": "wlfeHwVC6dna"
   },
   "source": [
    "When we were describing `ThresholdOptimizer` we said that it picks a separate threshold for each group. However, that is not quite correct. In fact,`ThresholdOptimizer`, for each group, picks two thresholds that are close to each other (say `threshold0` and `threshold1`) and then, at deployment time, randomizes between the two: choosing `threshold0` with some probability `p0` and `threshold1` with the remaining probability `p1=1-p0` (the specific probabilities are determined during training; for certain kinds of constraints, three thresholds are considered.)\n",
    "\n",
    "This means that the predictions are randomized. To achieve reproducible randomization, it is possible to provide an argument `random_state` to the `predict` method. However, in some settings, even such reproducible randomization is not acceptable and can be in fact viewed as a fairness issue, because of its arbitrariness.\n",
    "\n",
    "One derandomization heuristic is to replace the two thresholds by their weighted average, i.e., `threshold = p0*threshold0 + p1*threshold1`. That corresponds to the assumption that the values of the scores between the two thresholds are approximately uniformly distributed. Using this heuristic, we derandomize `ThresholdOptimizer`.\n",
    "\n"
   ]
  },
  {
   "cell_type": "markdown",
   "metadata": {
    "id": "nia26AD2BBKf"
   },
   "source": [
    "The randomized model of the `ThresholdOptimizer` is stored as the field\n",
    "`interpolated_thresholder_` in the fitted ThresholdOptimizer, which is itself a\n",
    "valid estimator of type `InterpolatedThresholder`:"
   ]
  },
  {
   "cell_type": "code",
   "execution_count": 85,
   "metadata": {
    "colab": {
     "base_uri": "https://localhost:8080/",
     "height": 248
    },
    "id": "5w-c22tsZsvj",
    "outputId": "6c9f14ee-7ce5-49e7-e0a6-4d104d64f236"
   },
   "outputs": [
    {
     "data": {
      "text/html": [
       "<style>#sk-701336be-d20a-4366-8372-e654ef3d1735 {color: black;background-color: white;}#sk-701336be-d20a-4366-8372-e654ef3d1735 pre{padding: 0;}#sk-701336be-d20a-4366-8372-e654ef3d1735 div.sk-toggleable {background-color: white;}#sk-701336be-d20a-4366-8372-e654ef3d1735 label.sk-toggleable__label {cursor: pointer;display: block;width: 100%;margin-bottom: 0;padding: 0.2em 0.3em;box-sizing: border-box;text-align: center;}#sk-701336be-d20a-4366-8372-e654ef3d1735 div.sk-toggleable__content {max-height: 0;max-width: 0;overflow: hidden;text-align: left;background-color: #f0f8ff;}#sk-701336be-d20a-4366-8372-e654ef3d1735 div.sk-toggleable__content pre {margin: 0.2em;color: black;border-radius: 0.25em;background-color: #f0f8ff;}#sk-701336be-d20a-4366-8372-e654ef3d1735 input.sk-toggleable__control:checked~div.sk-toggleable__content {max-height: 200px;max-width: 100%;overflow: auto;}#sk-701336be-d20a-4366-8372-e654ef3d1735 div.sk-estimator input.sk-toggleable__control:checked~label.sk-toggleable__label {background-color: #d4ebff;}#sk-701336be-d20a-4366-8372-e654ef3d1735 div.sk-label input.sk-toggleable__control:checked~label.sk-toggleable__label {background-color: #d4ebff;}#sk-701336be-d20a-4366-8372-e654ef3d1735 input.sk-hidden--visually {border: 0;clip: rect(1px 1px 1px 1px);clip: rect(1px, 1px, 1px, 1px);height: 1px;margin: -1px;overflow: hidden;padding: 0;position: absolute;width: 1px;}#sk-701336be-d20a-4366-8372-e654ef3d1735 div.sk-estimator {font-family: monospace;background-color: #f0f8ff;margin: 0.25em 0.25em;border: 1px dotted black;border-radius: 0.25em;box-sizing: border-box;}#sk-701336be-d20a-4366-8372-e654ef3d1735 div.sk-estimator:hover {background-color: #d4ebff;}#sk-701336be-d20a-4366-8372-e654ef3d1735 div.sk-parallel-item::after {content: \"\";width: 100%;border-bottom: 1px solid gray;flex-grow: 1;}#sk-701336be-d20a-4366-8372-e654ef3d1735 div.sk-label:hover label.sk-toggleable__label {background-color: #d4ebff;}#sk-701336be-d20a-4366-8372-e654ef3d1735 div.sk-serial::before {content: \"\";position: absolute;border-left: 1px solid gray;box-sizing: border-box;top: 2em;bottom: 0;left: 50%;}#sk-701336be-d20a-4366-8372-e654ef3d1735 div.sk-serial {display: flex;flex-direction: column;align-items: center;background-color: white;}#sk-701336be-d20a-4366-8372-e654ef3d1735 div.sk-item {z-index: 1;}#sk-701336be-d20a-4366-8372-e654ef3d1735 div.sk-parallel {display: flex;align-items: stretch;justify-content: center;background-color: white;}#sk-701336be-d20a-4366-8372-e654ef3d1735 div.sk-parallel-item {display: flex;flex-direction: column;position: relative;background-color: white;}#sk-701336be-d20a-4366-8372-e654ef3d1735 div.sk-parallel-item:first-child::after {align-self: flex-end;width: 50%;}#sk-701336be-d20a-4366-8372-e654ef3d1735 div.sk-parallel-item:last-child::after {align-self: flex-start;width: 50%;}#sk-701336be-d20a-4366-8372-e654ef3d1735 div.sk-parallel-item:only-child::after {width: 0;}#sk-701336be-d20a-4366-8372-e654ef3d1735 div.sk-dashed-wrapped {border: 1px dashed gray;margin: 0.2em;box-sizing: border-box;padding-bottom: 0.1em;background-color: white;position: relative;}#sk-701336be-d20a-4366-8372-e654ef3d1735 div.sk-label label {font-family: monospace;font-weight: bold;background-color: white;display: inline-block;line-height: 1.2em;}#sk-701336be-d20a-4366-8372-e654ef3d1735 div.sk-label-container {position: relative;z-index: 2;text-align: center;}#sk-701336be-d20a-4366-8372-e654ef3d1735 div.sk-container {display: inline-block;position: relative;}</style><div id=\"sk-701336be-d20a-4366-8372-e654ef3d1735\" class\"sk-top-container\"><div class=\"sk-container\"><div class=\"sk-item\"><div class=\"sk-estimator sk-toggleable\"><input class=\"sk-toggleable__control sk-hidden--visually\" id=\"415faa13-b3fa-4cd8-ab8f-795cd8c555e5\" type=\"checkbox\" checked><label class=\"sk-toggleable__label\" for=\"415faa13-b3fa-4cd8-ab8f-795cd8c555e5\">InterpolatedThresholder</label><div class=\"sk-toggleable__content\"><pre>InterpolatedThresholder(estimator=<__main__.ClassifierWrapper object at 0x00000189801A46C8>,\n",
       "                        interpolation_dict={'AfricanAmerican': {'operation0': [>0.46913672282879426],\n",
       "                                                                'operation1': [>0.5250817359985542],\n",
       "                                                                'p0': 0.5274857142857142,\n",
       "                                                                'p1': 0.4725142857142858},\n",
       "                                            'Caucasian': {'operation0': [>0.44635403201489743],\n",
       "                                                          'operation1': [>0.4914834592330867],\n",
       "                                                          'p0': 0.001362035225048647,\n",
       "                                                          'p1': 0.9986379647749514},\n",
       "                                            'Other': {'operation0': [>0.47084804225170973],\n",
       "                                                      'operation1': [>0.5526805161380026],\n",
       "                                                      'p0': 0.789189189189189,\n",
       "                                                      'p1': 0.210810810810811},\n",
       "                                            'Unknown': {'operation0': [>0.40675496296610075],\n",
       "                                                        'operation1': [>0.5023341388392346],\n",
       "                                                        'p0': 0.6361600000000001,\n",
       "                                                        'p1': 0.36383999999999994}},\n",
       "                        prefit=True)</pre></div></div></div></div></div>"
      ],
      "text/plain": [
       "InterpolatedThresholder(estimator=<__main__.ClassifierWrapper object at 0x00000189801A46C8>,\n",
       "                        interpolation_dict={'AfricanAmerican': {'operation0': [>0.46913672282879426],\n",
       "                                                                'operation1': [>0.5250817359985542],\n",
       "                                                                'p0': 0.5274857142857142,\n",
       "                                                                'p1': 0.4725142857142858},\n",
       "                                            'Caucasian': {'operation0': [>0.44635403201489743],\n",
       "                                                          'operation1': [>0.4914834592330867],\n",
       "                                                          'p0': 0.001362035225048647,\n",
       "                                                          'p1': 0.9986379647749514},\n",
       "                                            'Other': {'operation0': [>0.47084804225170973],\n",
       "                                                      'operation1': [>0.5526805161380026],\n",
       "                                                      'p0': 0.789189189189189,\n",
       "                                                      'p1': 0.210810810810811},\n",
       "                                            'Unknown': {'operation0': [>0.40675496296610075],\n",
       "                                                        'operation1': [>0.5023341388392346],\n",
       "                                                        'p0': 0.6361600000000001,\n",
       "                                                        'p1': 0.36383999999999994}},\n",
       "                        prefit=True)"
      ]
     },
     "execution_count": 85,
     "metadata": {},
     "output_type": "execute_result"
    }
   ],
   "source": [
    "interpolated = postprocess_est.interpolated_thresholder_\n",
    "interpolated"
   ]
  },
  {
   "cell_type": "markdown",
   "metadata": {
    "id": "8PkqiznTuL0l"
   },
   "source": [
    "The `interpolation_dict` is a dictionary which assign to each sensitive feature value two thresholds and two respective probabilities. Using our derandomization strategy, we can create a dictionary that represents a deterministic rule:\n"
   ]
  },
  {
   "cell_type": "code",
   "execution_count": 86,
   "metadata": {
    "id": "F3a1Mw8koLUa"
   },
   "outputs": [],
   "source": [
    "def create_deterministic(interpolate_dict):\n",
    "  \"\"\"\n",
    "  Creates a deterministic interpolation_dictionary from a randomized\n",
    "  interpolation_dictionary. The determinstic thresholds are created by taking\n",
    "  the weighted combinations of the two randomized thresholds for each sensitive\n",
    "  group.\n",
    "  \"\"\"\n",
    "  deterministic_dict = {}\n",
    "  for (race, operations) in interpolate_dict.items():\n",
    "    op0, op1 = operations[\"operation0\"]._threshold, operations[\"operation1\"]._threshold\n",
    "    p0, p1 = operations[\"p0\"], operations[\"p1\"]\n",
    "    deterministic_dict[race] = Bunch(\n",
    "      p0=0.0,\n",
    "      p1=1.0,\n",
    "      operation0=ThresholdOperation(operator=\">\",threshold=(p0*op0 + p1*op1)),\n",
    "      operation1=ThresholdOperation(operator=\">\",threshold=(p0*op0 + p1*op1))\n",
    "    )\n",
    "  return deterministic_dict"
   ]
  },
  {
   "cell_type": "code",
   "execution_count": 87,
   "metadata": {
    "colab": {
     "base_uri": "https://localhost:8080/"
    },
    "id": "lbynyyy2CKxv",
    "outputId": "b394caa3-8319-4234-9321-9f1c08a961ac"
   },
   "outputs": [
    {
     "data": {
      "text/plain": [
       "{'AfricanAmerican': {'p0': 0.0,\n",
       "  'p1': 1.0,\n",
       "  'operation0': [>0.49557154076597976],\n",
       "  'operation1': [>0.49557154076597976]},\n",
       " 'Caucasian': {'p0': 0.0,\n",
       "  'p1': 1.0,\n",
       "  'operation0': [>0.49142199136352926],\n",
       "  'operation1': [>0.49142199136352926]},\n",
       " 'Other': {'p0': 0.0,\n",
       "  'p1': 1.0,\n",
       "  'operation0': [>0.4880992124223336],\n",
       "  'operation1': [>0.4880992124223336]},\n",
       " 'Unknown': {'p0': 0.0,\n",
       "  'p1': 1.0,\n",
       "  'operation0': [>0.4415304903157818],\n",
       "  'operation1': [>0.4415304903157818]}}"
      ]
     },
     "execution_count": 87,
     "metadata": {},
     "output_type": "execute_result"
    }
   ],
   "source": [
    "deterministic_dict = create_deterministic(interpolated.interpolation_dict)\n",
    "deterministic_dict"
   ]
  },
  {
   "cell_type": "markdown",
   "metadata": {
    "id": "euqycBW_3EB2"
   },
   "source": [
    "Now, we can create an `InterpolatedThresholder` that uses the same pre-fit estimator, but with derandomized thresholds."
   ]
  },
  {
   "cell_type": "code",
   "execution_count": 88,
   "metadata": {
    "id": "R3qKiaMiPOaG"
   },
   "outputs": [],
   "source": [
    "deterministic_thresholder = InterpolatedThresholder(estimator=interpolated.estimator,\n",
    "                                                 interpolation_dict=deterministic_dict,\n",
    "                                                 prefit=True)"
   ]
  },
  {
   "cell_type": "code",
   "execution_count": 89,
   "metadata": {
    "colab": {
     "base_uri": "https://localhost:8080/",
     "height": 248
    },
    "id": "XLNNadraaFMT",
    "outputId": "d6579ae0-2e1c-4c0b-fad9-f36a5feb9bee"
   },
   "outputs": [
    {
     "data": {
      "text/html": [
       "<style>#sk-fc0855f4-2e83-4b2a-9d19-c236d77a597b {color: black;background-color: white;}#sk-fc0855f4-2e83-4b2a-9d19-c236d77a597b pre{padding: 0;}#sk-fc0855f4-2e83-4b2a-9d19-c236d77a597b div.sk-toggleable {background-color: white;}#sk-fc0855f4-2e83-4b2a-9d19-c236d77a597b label.sk-toggleable__label {cursor: pointer;display: block;width: 100%;margin-bottom: 0;padding: 0.2em 0.3em;box-sizing: border-box;text-align: center;}#sk-fc0855f4-2e83-4b2a-9d19-c236d77a597b div.sk-toggleable__content {max-height: 0;max-width: 0;overflow: hidden;text-align: left;background-color: #f0f8ff;}#sk-fc0855f4-2e83-4b2a-9d19-c236d77a597b div.sk-toggleable__content pre {margin: 0.2em;color: black;border-radius: 0.25em;background-color: #f0f8ff;}#sk-fc0855f4-2e83-4b2a-9d19-c236d77a597b input.sk-toggleable__control:checked~div.sk-toggleable__content {max-height: 200px;max-width: 100%;overflow: auto;}#sk-fc0855f4-2e83-4b2a-9d19-c236d77a597b div.sk-estimator input.sk-toggleable__control:checked~label.sk-toggleable__label {background-color: #d4ebff;}#sk-fc0855f4-2e83-4b2a-9d19-c236d77a597b div.sk-label input.sk-toggleable__control:checked~label.sk-toggleable__label {background-color: #d4ebff;}#sk-fc0855f4-2e83-4b2a-9d19-c236d77a597b input.sk-hidden--visually {border: 0;clip: rect(1px 1px 1px 1px);clip: rect(1px, 1px, 1px, 1px);height: 1px;margin: -1px;overflow: hidden;padding: 0;position: absolute;width: 1px;}#sk-fc0855f4-2e83-4b2a-9d19-c236d77a597b div.sk-estimator {font-family: monospace;background-color: #f0f8ff;margin: 0.25em 0.25em;border: 1px dotted black;border-radius: 0.25em;box-sizing: border-box;}#sk-fc0855f4-2e83-4b2a-9d19-c236d77a597b div.sk-estimator:hover {background-color: #d4ebff;}#sk-fc0855f4-2e83-4b2a-9d19-c236d77a597b div.sk-parallel-item::after {content: \"\";width: 100%;border-bottom: 1px solid gray;flex-grow: 1;}#sk-fc0855f4-2e83-4b2a-9d19-c236d77a597b div.sk-label:hover label.sk-toggleable__label {background-color: #d4ebff;}#sk-fc0855f4-2e83-4b2a-9d19-c236d77a597b div.sk-serial::before {content: \"\";position: absolute;border-left: 1px solid gray;box-sizing: border-box;top: 2em;bottom: 0;left: 50%;}#sk-fc0855f4-2e83-4b2a-9d19-c236d77a597b div.sk-serial {display: flex;flex-direction: column;align-items: center;background-color: white;}#sk-fc0855f4-2e83-4b2a-9d19-c236d77a597b div.sk-item {z-index: 1;}#sk-fc0855f4-2e83-4b2a-9d19-c236d77a597b div.sk-parallel {display: flex;align-items: stretch;justify-content: center;background-color: white;}#sk-fc0855f4-2e83-4b2a-9d19-c236d77a597b div.sk-parallel-item {display: flex;flex-direction: column;position: relative;background-color: white;}#sk-fc0855f4-2e83-4b2a-9d19-c236d77a597b div.sk-parallel-item:first-child::after {align-self: flex-end;width: 50%;}#sk-fc0855f4-2e83-4b2a-9d19-c236d77a597b div.sk-parallel-item:last-child::after {align-self: flex-start;width: 50%;}#sk-fc0855f4-2e83-4b2a-9d19-c236d77a597b div.sk-parallel-item:only-child::after {width: 0;}#sk-fc0855f4-2e83-4b2a-9d19-c236d77a597b div.sk-dashed-wrapped {border: 1px dashed gray;margin: 0.2em;box-sizing: border-box;padding-bottom: 0.1em;background-color: white;position: relative;}#sk-fc0855f4-2e83-4b2a-9d19-c236d77a597b div.sk-label label {font-family: monospace;font-weight: bold;background-color: white;display: inline-block;line-height: 1.2em;}#sk-fc0855f4-2e83-4b2a-9d19-c236d77a597b div.sk-label-container {position: relative;z-index: 2;text-align: center;}#sk-fc0855f4-2e83-4b2a-9d19-c236d77a597b div.sk-container {display: inline-block;position: relative;}</style><div id=\"sk-fc0855f4-2e83-4b2a-9d19-c236d77a597b\" class\"sk-top-container\"><div class=\"sk-container\"><div class=\"sk-item\"><div class=\"sk-estimator sk-toggleable\"><input class=\"sk-toggleable__control sk-hidden--visually\" id=\"174baa7c-e37f-41ec-a8b0-4f5d11f699fc\" type=\"checkbox\" checked><label class=\"sk-toggleable__label\" for=\"174baa7c-e37f-41ec-a8b0-4f5d11f699fc\">InterpolatedThresholder</label><div class=\"sk-toggleable__content\"><pre>InterpolatedThresholder(estimator=<__main__.ClassifierWrapper object at 0x00000189801A46C8>,\n",
       "                        interpolation_dict={'AfricanAmerican': {'operation0': [>0.49557154076597976],\n",
       "                                                                'operation1': [>0.49557154076597976],\n",
       "                                                                'p0': 0.0,\n",
       "                                                                'p1': 1.0},\n",
       "                                            'Caucasian': {'operation0': [>0.49142199136352926],\n",
       "                                                          'operation1': [>0.49142199136352926],\n",
       "                                                          'p0': 0.0,\n",
       "                                                          'p1': 1.0},\n",
       "                                            'Other': {'operation0': [>0.4880992124223336],\n",
       "                                                      'operation1': [>0.4880992124223336],\n",
       "                                                      'p0': 0.0, 'p1': 1.0},\n",
       "                                            'Unknown': {'operation0': [>0.4415304903157818],\n",
       "                                                        'operation1': [>0.4415304903157818],\n",
       "                                                        'p0': 0.0, 'p1': 1.0}},\n",
       "                        prefit=True)</pre></div></div></div></div></div>"
      ],
      "text/plain": [
       "InterpolatedThresholder(estimator=<__main__.ClassifierWrapper object at 0x00000189801A46C8>,\n",
       "                        interpolation_dict={'AfricanAmerican': {'operation0': [>0.49557154076597976],\n",
       "                                                                'operation1': [>0.49557154076597976],\n",
       "                                                                'p0': 0.0,\n",
       "                                                                'p1': 1.0},\n",
       "                                            'Caucasian': {'operation0': [>0.49142199136352926],\n",
       "                                                          'operation1': [>0.49142199136352926],\n",
       "                                                          'p0': 0.0,\n",
       "                                                          'p1': 1.0},\n",
       "                                            'Other': {'operation0': [>0.4880992124223336],\n",
       "                                                      'operation1': [>0.4880992124223336],\n",
       "                                                      'p0': 0.0, 'p1': 1.0},\n",
       "                                            'Unknown': {'operation0': [>0.4415304903157818],\n",
       "                                                        'operation1': [>0.4415304903157818],\n",
       "                                                        'p0': 0.0, 'p1': 1.0}},\n",
       "                        prefit=True)"
      ]
     },
     "execution_count": 89,
     "metadata": {},
     "output_type": "execute_result"
    }
   ],
   "source": [
    "deterministic_thresholder.fit(X_train_bal, Y_train_bal, sensitive_features=A_train_bal)"
   ]
  },
  {
   "cell_type": "code",
   "execution_count": 90,
   "metadata": {
    "id": "TPRwWuuWY2Yy"
   },
   "outputs": [],
   "source": [
    "y_pred_postprocess_deterministic = deterministic_thresholder.predict(X_test, sensitive_features=A_test)"
   ]
  },
  {
   "cell_type": "code",
   "execution_count": 91,
   "metadata": {
    "id": "q3834uLWeXWO"
   },
   "outputs": [],
   "source": [
    "mf_deterministic = MetricFrame(\n",
    "    metrics_with_err_bars,\n",
    "    Y_test,\n",
    "    y_pred_postprocess_deterministic,\n",
    "    sensitive_features=A_test\n",
    ")"
   ]
  },
  {
   "cell_type": "markdown",
   "metadata": {
    "id": "2tnGhMYzDloo"
   },
   "source": [
    "Now compare the two models in terms of their disaggregated metrics:"
   ]
  },
  {
   "cell_type": "code",
   "execution_count": 92,
   "metadata": {
    "colab": {
     "base_uri": "https://localhost:8080/",
     "height": 197
    },
    "id": "NIkoljGTeXZ0",
    "outputId": "b06db3bf-fac5-484a-a743-f93cb2b14068"
   },
   "outputs": [
    {
     "data": {
      "text/html": [
       "<div>\n",
       "<style scoped>\n",
       "    .dataframe tbody tr th:only-of-type {\n",
       "        vertical-align: middle;\n",
       "    }\n",
       "\n",
       "    .dataframe tbody tr th {\n",
       "        vertical-align: top;\n",
       "    }\n",
       "\n",
       "    .dataframe thead th {\n",
       "        text-align: right;\n",
       "    }\n",
       "</style>\n",
       "<table border=\"1\" class=\"dataframe\">\n",
       "  <thead>\n",
       "    <tr style=\"text-align: right;\">\n",
       "      <th></th>\n",
       "      <th>selection_rate</th>\n",
       "      <th>false_negative_rate</th>\n",
       "      <th>balanced_accuracy</th>\n",
       "    </tr>\n",
       "    <tr>\n",
       "      <th>race</th>\n",
       "      <th></th>\n",
       "      <th></th>\n",
       "      <th></th>\n",
       "    </tr>\n",
       "  </thead>\n",
       "  <tbody>\n",
       "    <tr>\n",
       "      <th>AfricanAmerican</th>\n",
       "      <td>0.420</td>\n",
       "      <td>0.410</td>\n",
       "      <td>0.597</td>\n",
       "    </tr>\n",
       "    <tr>\n",
       "      <th>Caucasian</th>\n",
       "      <td>0.433</td>\n",
       "      <td>0.383</td>\n",
       "      <td>0.603</td>\n",
       "    </tr>\n",
       "    <tr>\n",
       "      <th>Other</th>\n",
       "      <td>0.363</td>\n",
       "      <td>0.459</td>\n",
       "      <td>0.599</td>\n",
       "    </tr>\n",
       "    <tr>\n",
       "      <th>Unknown</th>\n",
       "      <td>0.443</td>\n",
       "      <td>0.394</td>\n",
       "      <td>0.589</td>\n",
       "    </tr>\n",
       "  </tbody>\n",
       "</table>\n",
       "</div>"
      ],
      "text/plain": [
       "                selection_rate false_negative_rate balanced_accuracy\n",
       "race                                                                \n",
       "AfricanAmerican          0.420               0.410             0.597\n",
       "Caucasian                0.433               0.383             0.603\n",
       "Other                    0.363               0.459             0.599\n",
       "Unknown                  0.443               0.394             0.589"
      ]
     },
     "execution_count": 92,
     "metadata": {},
     "output_type": "execute_result"
    }
   ],
   "source": [
    "mf_deterministic.by_group[differences_to_display]"
   ]
  },
  {
   "cell_type": "code",
   "execution_count": 93,
   "metadata": {
    "colab": {
     "base_uri": "https://localhost:8080/",
     "height": 197
    },
    "id": "mVimPa2nlFpv",
    "outputId": "46449514-4179-4066-d75c-9a6856aae40a"
   },
   "outputs": [
    {
     "data": {
      "text/html": [
       "<div>\n",
       "<style scoped>\n",
       "    .dataframe tbody tr th:only-of-type {\n",
       "        vertical-align: middle;\n",
       "    }\n",
       "\n",
       "    .dataframe tbody tr th {\n",
       "        vertical-align: top;\n",
       "    }\n",
       "\n",
       "    .dataframe thead th {\n",
       "        text-align: right;\n",
       "    }\n",
       "</style>\n",
       "<table border=\"1\" class=\"dataframe\">\n",
       "  <thead>\n",
       "    <tr style=\"text-align: right;\">\n",
       "      <th></th>\n",
       "      <th>selection_rate</th>\n",
       "      <th>false_negative_rate</th>\n",
       "      <th>balanced_accuracy</th>\n",
       "    </tr>\n",
       "    <tr>\n",
       "      <th>race</th>\n",
       "      <th></th>\n",
       "      <th></th>\n",
       "      <th></th>\n",
       "    </tr>\n",
       "  </thead>\n",
       "  <tbody>\n",
       "    <tr>\n",
       "      <th>AfricanAmerican</th>\n",
       "      <td>0.423</td>\n",
       "      <td>0.417</td>\n",
       "      <td>0.591</td>\n",
       "    </tr>\n",
       "    <tr>\n",
       "      <th>Caucasian</th>\n",
       "      <td>0.433</td>\n",
       "      <td>0.383</td>\n",
       "      <td>0.603</td>\n",
       "    </tr>\n",
       "    <tr>\n",
       "      <th>Other</th>\n",
       "      <td>0.364</td>\n",
       "      <td>0.441</td>\n",
       "      <td>0.609</td>\n",
       "    </tr>\n",
       "    <tr>\n",
       "      <th>Unknown</th>\n",
       "      <td>0.451</td>\n",
       "      <td>0.489</td>\n",
       "      <td>0.533</td>\n",
       "    </tr>\n",
       "  </tbody>\n",
       "</table>\n",
       "</div>"
      ],
      "text/plain": [
       "                selection_rate false_negative_rate balanced_accuracy\n",
       "race                                                                \n",
       "AfricanAmerican          0.423               0.417             0.591\n",
       "Caucasian                0.433               0.383             0.603\n",
       "Other                    0.364               0.441             0.609\n",
       "Unknown                  0.451               0.489             0.533"
      ]
     },
     "execution_count": 93,
     "metadata": {},
     "output_type": "execute_result"
    }
   ],
   "source": [
    "metricframe_postprocess.by_group[differences_to_display]"
   ]
  },
  {
   "cell_type": "markdown",
   "metadata": {
    "id": "JOi4dwLKECHS"
   },
   "source": [
    "The differences are generally small except for the *Unknown* group, whose false negative rate goes down and balanced accuracy goes up."
   ]
  },
  {
   "cell_type": "markdown",
   "metadata": {
    "id": "NU_rncBQ0lab"
   },
   "source": [
    "## Reductions approach with `ExponentiatedGradient`"
   ]
  },
  {
   "cell_type": "markdown",
   "metadata": {
    "id": "bpyBnqNLZ-w_"
   },
   "source": [
    "With the `ThresholdOptimizer`, we took a fairness-unaware model and transformed the model's decision boundary to satisfy our fairness constraints. One limitation of `ThresholdOptimizer` is that it needs access to the sensitive features at deployment time.\n",
    "\n",
    "In this section, we will show how to use the _reductions_ approach of [Agarwal et. al (2018)](https://arxiv.org/abs/1803.02453) to obtain a model that satisfies the fairness constraints, but does not need access to sensitive features at deployment time.\n",
    "\n",
    "Terminology \"reductions\" refers to another kind of a wrapper approach, which instead of wrapping an already trained model, wraps any standard classification or regression algorithm, such as \n",
    "`LogisticRegression`. In other words, an input to a reduction algorithm is an object that supports training on any provided (weighted) dataset. In addition, a reduction algorithm receives a data set that includes sensitive features. The goal, like with post-processing, is to optimize a performance metric (such as classification accuracy) subject to fairness constraints (such as an upper bound on differences between false negative rates).\n",
    "\n",
    "The main reduction algorithm algorithm in Fairlearn is `ExponentiatedGradient`. It creates a sequence of reweighted datasets and retrains the wrapped model on each of them. The \n",
    "retraining process is guaranteed to find a model that satisfies the fairness constraints while optimizing the performance metric.\n",
    "\n",
    "The model returned by `ExponentiatedGradient` consists of several inner models, returned by the wrapped estimator. At deployment time, `ExponentiatedGradient` randomizes among these models according to a specific probability weights."
   ]
  },
  {
   "cell_type": "markdown",
   "metadata": {
    "id": "ZvT_qeduHCn8"
   },
   "source": [
    "To instantiate an `ExponentiatedGradient` model, we pass in two parameters:\n",
    "\n",
    "*   A base `estimator` (an object that supports training)\n",
    "*   Fairness `constraints` (an object of type `Moment`).\n",
    "\n",
    "The constraints supported by `ExponentiatedGradient` are more general than those supported by `ThresholdOptimizer`. For example, rather than requiring that false negative rates be equal, it is possible to specify the maxium allowed difference or ratio between the largest and the smallest value.\n"
   ]
  },
  {
   "cell_type": "code",
   "execution_count": 94,
   "metadata": {
    "id": "ToZdrYen0tJZ"
   },
   "outputs": [],
   "source": [
    "expgrad_est = ExponentiatedGradient(\n",
    "    estimator=LogisticRegression(max_iter=1000),\n",
    "    constraints=TruePositiveRateParity(difference_bound=0.02)\n",
    ")"
   ]
  },
  {
   "cell_type": "markdown",
   "metadata": {
    "id": "bLFk3SCxrskU"
   },
   "source": [
    "The constraints above are expressed for the true positive parity, they require that the difference between the largest and the smallest true positive rate (TPR) across all groups be at most 0.02. Since false negative rate (FNR) is equal to 1-TPR, this is equivalent to requiring that the difference between the largest and smallest FNR be at most 0.02."
   ]
  },
  {
   "cell_type": "code",
   "execution_count": 95,
   "metadata": {
    "id": "UFSF5Wn-3M-H"
   },
   "outputs": [],
   "source": [
    "# Fit the exponentiated gradient model\n",
    "expgrad_est.fit(X_train_bal, Y_train_bal, sensitive_features=A_train_bal)"
   ]
  },
  {
   "cell_type": "markdown",
   "metadata": {
    "id": "VsCeOlKFDQZZ"
   },
   "source": [
    "Similarly to `ThresholdOptimizer` the predictions of `ExponentiatedGradient` models are randomized. If we want to assure reproducible results, we can pass  `random_state` to the `predict` function. "
   ]
  },
  {
   "cell_type": "code",
   "execution_count": 96,
   "metadata": {
    "colab": {
     "base_uri": "https://localhost:8080/",
     "height": 197
    },
    "id": "YYz7GAqf4cbp",
    "outputId": "979806db-e375-47ec-cde8-63ac9f18531d"
   },
   "outputs": [
    {
     "data": {
      "text/html": [
       "<div>\n",
       "<style scoped>\n",
       "    .dataframe tbody tr th:only-of-type {\n",
       "        vertical-align: middle;\n",
       "    }\n",
       "\n",
       "    .dataframe tbody tr th {\n",
       "        vertical-align: top;\n",
       "    }\n",
       "\n",
       "    .dataframe thead th {\n",
       "        text-align: right;\n",
       "    }\n",
       "</style>\n",
       "<table border=\"1\" class=\"dataframe\">\n",
       "  <thead>\n",
       "    <tr style=\"text-align: right;\">\n",
       "      <th></th>\n",
       "      <th>count</th>\n",
       "      <th>selection_rate</th>\n",
       "      <th>false_negative_rate</th>\n",
       "      <th>balanced_accuracy</th>\n",
       "    </tr>\n",
       "    <tr>\n",
       "      <th>race</th>\n",
       "      <th></th>\n",
       "      <th></th>\n",
       "      <th></th>\n",
       "      <th></th>\n",
       "    </tr>\n",
       "  </thead>\n",
       "  <tbody>\n",
       "    <tr>\n",
       "      <th>AfricanAmerican</th>\n",
       "      <td>9616</td>\n",
       "      <td>0.413</td>\n",
       "      <td>0.423</td>\n",
       "      <td>0.593</td>\n",
       "    </tr>\n",
       "    <tr>\n",
       "      <th>Caucasian</th>\n",
       "      <td>38039</td>\n",
       "      <td>0.420</td>\n",
       "      <td>0.409</td>\n",
       "      <td>0.596</td>\n",
       "    </tr>\n",
       "    <tr>\n",
       "      <th>Other</th>\n",
       "      <td>2113</td>\n",
       "      <td>0.335</td>\n",
       "      <td>0.468</td>\n",
       "      <td>0.610</td>\n",
       "    </tr>\n",
       "    <tr>\n",
       "      <th>Unknown</th>\n",
       "      <td>1114</td>\n",
       "      <td>0.352</td>\n",
       "      <td>0.543</td>\n",
       "      <td>0.558</td>\n",
       "    </tr>\n",
       "  </tbody>\n",
       "</table>\n",
       "</div>"
      ],
      "text/plain": [
       "                 count selection_rate false_negative_rate balanced_accuracy\n",
       "race                                                                       \n",
       "AfricanAmerican   9616          0.413               0.423             0.593\n",
       "Caucasian        38039          0.420               0.409             0.596\n",
       "Other             2113          0.335               0.468             0.610\n",
       "Unknown           1114          0.352               0.543             0.558"
      ]
     },
     "execution_count": 96,
     "metadata": {},
     "output_type": "execute_result"
    }
   ],
   "source": [
    "# Record and evaluate predictions on test data\n",
    "\n",
    "Y_pred_reductions = expgrad_est.predict(X_test, random_state=random_seed)\n",
    "metricframe_reductions = MetricFrame(\n",
    "    metrics_with_err_bars,\n",
    "    Y_test,\n",
    "    Y_pred_reductions,\n",
    "    sensitive_features=A_test\n",
    ")\n",
    "metricframe_reductions.by_group[metrics_to_display]"
   ]
  },
  {
   "cell_type": "code",
   "execution_count": 97,
   "metadata": {
    "colab": {
     "base_uri": "https://localhost:8080/"
    },
    "id": "idYvm9lq4mh3",
    "outputId": "3d568b2b-9f3e-44c9-f190-c4eefc221d2a"
   },
   "outputs": [
    {
     "data": {
      "text/plain": [
       "selection_rate        0.085\n",
       "false_negative_rate   0.134\n",
       "balanced_accuracy     0.052\n",
       "dtype: object"
      ]
     },
     "execution_count": 97,
     "metadata": {},
     "output_type": "execute_result"
    }
   ],
   "source": [
    "# Evaluate the difference between the largest and smallest value of each metric\n",
    "metricframe_reductions.difference()[differences_to_display]"
   ]
  },
  {
   "cell_type": "markdown",
   "metadata": {
    "id": "qpxYOozouVx9"
   },
   "source": [
    "While there is a decrease in the false negative rate difference from the unmitigated model, this decrease is not as substantial as with `ThresholdOptimizer`. Note, however, that `ThresholdOptimizer` was able to use the sensitive feature (i.e., race) at deployment time."
   ]
  },
  {
   "cell_type": "markdown",
   "metadata": {
    "id": "IzTeHhWG4nJJ"
   },
   "source": [
    "### Explore individual predictors"
   ]
  },
  {
   "cell_type": "markdown",
   "metadata": {
    "id": "o7qCmHeYKWGp"
   },
   "source": [
    "During the training process, the `ExponentiatedGradient` algorithm iteratively trains multiple inner models on a reweighted training dataset. The algorithm stores each of these predictors and then randomizes among them at deployment time.\n",
    "\n",
    "In many applications, the randomization is undesirable, and also using multiple inner models can pose issues for interpretability. However, the inner models that `ExponentiatedGradient` relies on span a variety of fairness-accuracy trade-offs, and they could be considered for stand-alone deployment: addressing the randomization and interpretability issues, while possibly offering additional flexibility thanks to a variety of trade-offs. \n",
    "\n",
    "In this section explore the performance of the individual predictors learned by the `ExponentiatedGradient` algorithm. First, note that since the base estimator was `LogisticRegression` all these predictors are different logistic regression models:"
   ]
  },
  {
   "cell_type": "code",
   "execution_count": 98,
   "metadata": {
    "colab": {
     "base_uri": "https://localhost:8080/"
    },
    "id": "II_YtUZg3Ue4",
    "outputId": "3862ac3a-f230-4ff3-aa83-1d61ddd468e4"
   },
   "outputs": [
    {
     "data": {
      "text/plain": [
       "0     LogisticRegression(max_iter=1000)\n",
       "1     LogisticRegression(max_iter=1000)\n",
       "2     LogisticRegression(max_iter=1000)\n",
       "3     LogisticRegression(max_iter=1000)\n",
       "4     LogisticRegression(max_iter=1000)\n",
       "5     LogisticRegression(max_iter=1000)\n",
       "6     LogisticRegression(max_iter=1000)\n",
       "7     LogisticRegression(max_iter=1000)\n",
       "8     LogisticRegression(max_iter=1000)\n",
       "9     LogisticRegression(max_iter=1000)\n",
       "10    LogisticRegression(max_iter=1000)\n",
       "11    LogisticRegression(max_iter=1000)\n",
       "12    LogisticRegression(max_iter=1000)\n",
       "dtype: object"
      ]
     },
     "execution_count": 98,
     "metadata": {},
     "output_type": "execute_result"
    }
   ],
   "source": [
    "predictors = expgrad_est.predictors_\n",
    "predictors"
   ]
  },
  {
   "cell_type": "code",
   "execution_count": 99,
   "metadata": {
    "id": "K3Bh2IVm4Ynj"
   },
   "outputs": [],
   "source": [
    "# Collect predictions by all predictors and calculate balanced error\n",
    "# as well as the false negative difference for all of them\n",
    "\n",
    "sweep_preds = [clf.predict(X_test) for clf in predictors]\n",
    "balanced_error_sweep = [1-balanced_accuracy_score(Y_test, Y_sweep) for Y_sweep in sweep_preds]\n",
    "fnr_diff_sweep = [false_negative_rate_difference(Y_test, Y_sweep, sensitive_features=A_test) for Y_sweep in sweep_preds]"
   ]
  },
  {
   "cell_type": "code",
   "execution_count": 100,
   "metadata": {
    "colab": {
     "base_uri": "https://localhost:8080/",
     "height": 285
    },
    "id": "r9TKGsNY8Myu",
    "outputId": "bfb535c2-a0e2-486d-fd48-fa4d508e43a1"
   },
   "outputs": [
    {
     "data": {
      "image/png": "[encoded data removed]",
      "text/plain": [
       "<Figure size 432x288 with 1 Axes>"
      ]
     },
     "metadata": {},
     "output_type": "display_data"
    }
   ],
   "source": [
    "# Show the balanced error / fnr difference values of all predictors on a raster plot  \n",
    "\n",
    "plt.scatter(balanced_error_sweep, fnr_diff_sweep, label=\"ExponentiatedGradient - Iterations\")\n",
    "for i in range(len(predictors)):\n",
    "  plt.annotate(str(i), xy=(balanced_error_sweep[i]+0.001, fnr_diff_sweep[i]+0.001))\n",
    "\n",
    "# Also include in the plot the combined ExponentiatedGradient model\n",
    "# as well as the three previously fitted models\n",
    "\n",
    "plt.scatter(1-balanced_accuracy_score(Y_test, Y_pred_reductions),\n",
    "            false_negative_rate_difference(Y_test, Y_pred_reductions, sensitive_features=A_test),\n",
    "            label=\"ExponentiatedGradient - Combined model\")\n",
    "plt.scatter(1-balanced_accuracy_score(Y_test, Y_pred),\n",
    "            false_negative_rate_difference(Y_test, Y_pred, sensitive_features=A_test),\n",
    "            label=\"Unmitigated\")\n",
    "plt.scatter(1-balanced_accuracy_score(Y_test, Y_pred_postprocess),\n",
    "            false_negative_rate_difference(Y_test, Y_pred_postprocess, sensitive_features=A_test),\n",
    "            label=\"ThresholdOptimizer\")\n",
    "plt.scatter(1-balanced_accuracy_score(Y_test, y_pred_postprocess_deterministic),\n",
    "            false_negative_rate_difference(Y_test, y_pred_postprocess_deterministic, sensitive_features=A_test),\n",
    "            label=\"InterpolatedThresholder\")\n",
    "\n",
    "plt.xlabel(\"Balanced Error Rate\")\n",
    "plt.ylabel(\"False Negative Rate Difference\")\n",
    "plt.legend(bbox_to_anchor=(1.9,1))\n",
    "plt.show()"
   ]
  },
  {
   "cell_type": "markdown",
   "metadata": {
    "id": "1MozjJKkZqz_"
   },
   "source": [
    "## Exercise: Train an `ExponentiatedGradient` model"
   ]
  },
  {
   "cell_type": "markdown",
   "metadata": {
    "id": "lLeGnB4juJsM"
   },
   "source": [
    "When we instantiated our `ExponentiatedGradient` model above, you may have noticed the `difference_bound=0.02` in the `TruePositiveRateParity` Moment.\n",
    "\n",
    "The `difference_bound` parameter corresponds to the maximal difference between the true positive rates (on training data). In this section, you will explore how different inputs for the `difference_bound` parameter affect the `ExponentiatedGradient` algorithm.\n",
    "\n",
    "In the cell below, the `epsilons` variable is a list of floats representing possible values of `difference_bound` for you to explore. "
   ]
  },
  {
   "cell_type": "code",
   "execution_count": 101,
   "metadata": {
    "id": "AG6Tf-XA3Jtk"
   },
   "outputs": [],
   "source": [
    "#epsilons = [0.01, 0.05, 0.75, 0.1]"
   ]
  },
  {
   "cell_type": "markdown",
   "metadata": {
    "id": "ghjfKhtB3Kl9"
   },
   "source": [
    "1.) First, let's create our new `ExponentiatedGradient` instance in the cells below and fit it to the training data."
   ]
  },
  {
   "cell_type": "code",
   "execution_count": 102,
   "metadata": {
    "id": "F5lvfDtGZp6O"
   },
   "outputs": [],
   "source": [
    "# Create ExponentiatedGradient instance here"
   ]
  },
  {
   "cell_type": "code",
   "execution_count": 103,
   "metadata": {
    "id": "TYyadS7DZqFk"
   },
   "outputs": [],
   "source": [
    "# Fit the new instance to the balanced training dataset"
   ]
  },
  {
   "cell_type": "markdown",
   "metadata": {
    "id": "8H_UDlAs3M-D"
   },
   "source": [
    "2.) Now, let's look at the number of internal `predictors` learned by this `ExponentiatedGradient` model.\n",
    "\n",
    "How do the number of internal models learned by this instance differ from our original `ExponentiatedGradient` instance?\n",
    "\n",
    "In the cells below, compute the performance of the individual predictors in terms of both the predictive performance and the fairness disparity."
   ]
  },
  {
   "cell_type": "code",
   "execution_count": 104,
   "metadata": {
    "id": "CEUVENjeZqJF"
   },
   "outputs": [],
   "source": [
    "# Compute the balanced_accuracy_score for each of the predictors on the test data."
   ]
  },
  {
   "cell_type": "code",
   "execution_count": 105,
   "metadata": {
    "id": "EAtkvVOEZqMb"
   },
   "outputs": [],
   "source": [
    "# Compute the false_negative_rate_parity for each of the predictors on the test data."
   ]
  },
  {
   "cell_type": "markdown",
   "metadata": {
    "id": "Aos3gdHjDQEi"
   },
   "source": [
    "3a.) Finally, let's plot the performances of these individual inner models. In the below cells, plot the individual inner predictors against the performance of the _unmitigated_ Logistic Regression model and the `ThresholdOptimizer`.\n",
    "\n",
    "3b.) Then, plot the individual inner models of this `ExponentiatedGradient` instance against the inner models of the instance we created earlier."
   ]
  },
  {
   "cell_type": "code",
   "execution_count": 106,
   "metadata": {
    "id": "IxTjb8CeZqPI"
   },
   "outputs": [],
   "source": [
    "# Plot the individual predictors against the Unmitigated Model and the ThresholdOptimizer"
   ]
  },
  {
   "cell_type": "code",
   "execution_count": 107,
   "metadata": {
    "id": "xG7R8Vfq5RE0"
   },
   "outputs": [],
   "source": [
    "# Plot the individual predictors of your ExponentiatedGradient model against the individual predictors of the ExponentiatedGradient model we created above"
   ]
  },
  {
   "cell_type": "markdown",
   "metadata": {
    "id": "iyknfgrsW1gi"
   },
   "source": [
    "## Comparing performance of different techniques"
   ]
  },
  {
   "cell_type": "markdown",
   "metadata": {
    "id": "Vee-7c2Tw33O"
   },
   "source": [
    "Now we have covered two different class of techniques for mitigating the fairness-related harms we found in our fairness-unaware model. In this section, we will compare the performance of the models we trained above across our key metrics."
   ]
  },
  {
   "cell_type": "markdown",
   "metadata": {
    "id": "XEXnEeLl7mgc"
   },
   "source": [
    "#### Model Performance - By Group"
   ]
  },
  {
   "cell_type": "code",
   "execution_count": 108,
   "metadata": {
    "id": "SNyCZxHJuXZV"
   },
   "outputs": [],
   "source": [
    "def plot_technique_comparison(mf_dict, metric):\n",
    "  \"\"\"\n",
    "  Plots a specified metric for a given dictionary of MetricFrames.\n",
    "  \"\"\"\n",
    "  mf_dict = {k:v.by_group[metric] for (k,v) in mf_dict.items()}\n",
    "  comparison_df = pd.DataFrame.from_dict(mf_dict)\n",
    "  comparison_df.plot.bar(figsize=(12, 6), legend=False)\n",
    "  plt.title(metric)\n",
    "  plt.xticks(rotation=0, ha='center');\n",
    "  plt.legend(bbox_to_anchor=(1.01,1), loc='upper left')"
   ]
  },
  {
   "cell_type": "code",
   "execution_count": 109,
   "metadata": {
    "id": "9dNb-kI3uHzM"
   },
   "outputs": [],
   "source": [
    "test_dict = {\n",
    "    \"Reductions\": metricframe_reductions,\n",
    "    \"Unmitigated\": metricframe_unmitigated,\n",
    "    \"Postprocessing\": metricframe_postprocess,\n",
    "    \"Postprocessing (DET)\": mf_deterministic\n",
    "}"
   ]
  },
  {
   "cell_type": "code",
   "execution_count": 110,
   "metadata": {
    "colab": {
     "base_uri": "https://localhost:8080/",
     "height": 410
    },
    "id": "SweXBa-vEWFM",
    "outputId": "404c1f0f-0819-4e49-d4a7-71357b3c41dd"
   },
   "outputs": [
    {
     "data": {
      "image/png": "[encoded data removed]",
      "text/plain": [
       "<Figure size 864x432 with 1 Axes>"
      ]
     },
     "metadata": {},
     "output_type": "display_data"
    }
   ],
   "source": [
    "plot_technique_comparison(test_dict, \"false_negative_rate\")"
   ]
  },
  {
   "cell_type": "code",
   "execution_count": 111,
   "metadata": {
    "colab": {
     "base_uri": "https://localhost:8080/",
     "height": 410
    },
    "id": "FJOwW9db3wKe",
    "outputId": "7d04220e-b171-4979-8631-1877fd2a03ef"
   },
   "outputs": [
    {
     "data": {
      "image/png": "[encoded data removed]",
      "text/plain": [
       "<Figure size 864x432 with 1 Axes>"
      ]
     },
     "metadata": {},
     "output_type": "display_data"
    }
   ],
   "source": [
    "plot_technique_comparison(test_dict, \"balanced_accuracy\")"
   ]
  },
  {
   "cell_type": "code",
   "execution_count": 112,
   "metadata": {
    "colab": {
     "base_uri": "https://localhost:8080/",
     "height": 410
    },
    "id": "dACpOpm67K-m",
    "outputId": "b3445ae2-5fb5-45ba-88e8-279d18d73c62"
   },
   "outputs": [
    {
     "data": {
      "image/png": "[encoded data removed]",
      "text/plain": [
       "<Figure size 864x432 with 1 Axes>"
      ]
     },
     "metadata": {},
     "output_type": "display_data"
    }
   ],
   "source": [
    "plot_technique_comparison(test_dict, \"selection_rate\")"
   ]
  },
  {
   "cell_type": "markdown",
   "metadata": {
    "id": "OYkgAggpW11N"
   },
   "source": [
    "\n",
    "\n",
    "#### Model Performance - Overall"
   ]
  },
  {
   "cell_type": "code",
   "execution_count": 113,
   "metadata": {
    "id": "w3Rwe98m6Pv2"
   },
   "outputs": [],
   "source": [
    "overall_df = pd.DataFrame.from_dict({\n",
    "    \"Unmitigated\": metricframe_unmitigated.overall.loc[differences_to_display],\n",
    "    \"Postprocessing\": metricframe_postprocess.overall.loc[differences_to_display],\n",
    "    \"Postprocessing (DET)\": mf_deterministic.overall.loc[differences_to_display],\n",
    "    \"Reductions\": metricframe_reductions.overall.loc[differences_to_display]\n",
    "})"
   ]
  },
  {
   "cell_type": "code",
   "execution_count": 114,
   "metadata": {
    "colab": {
     "base_uri": "https://localhost:8080/",
     "height": 167
    },
    "id": "44Q-lYTa6PzX",
    "outputId": "492ff34b-90f2-4969-c2bd-25b01e9e32a3"
   },
   "outputs": [
    {
     "data": {
      "text/html": [
       "<div>\n",
       "<style scoped>\n",
       "    .dataframe tbody tr th:only-of-type {\n",
       "        vertical-align: middle;\n",
       "    }\n",
       "\n",
       "    .dataframe tbody tr th {\n",
       "        vertical-align: top;\n",
       "    }\n",
       "\n",
       "    .dataframe thead th {\n",
       "        text-align: right;\n",
       "    }\n",
       "</style>\n",
       "<table border=\"1\" class=\"dataframe\">\n",
       "  <thead>\n",
       "    <tr style=\"text-align: right;\">\n",
       "      <th></th>\n",
       "      <th>selection_rate</th>\n",
       "      <th>false_negative_rate</th>\n",
       "      <th>balanced_accuracy</th>\n",
       "    </tr>\n",
       "  </thead>\n",
       "  <tbody>\n",
       "    <tr>\n",
       "      <th>Unmitigated</th>\n",
       "      <td>0.405</td>\n",
       "      <td>0.416</td>\n",
       "      <td>0.601</td>\n",
       "    </tr>\n",
       "    <tr>\n",
       "      <th>Postprocessing</th>\n",
       "      <td>0.429</td>\n",
       "      <td>0.394</td>\n",
       "      <td>0.600</td>\n",
       "    </tr>\n",
       "    <tr>\n",
       "      <th>Postprocessing (DET)</th>\n",
       "      <td>0.428</td>\n",
       "      <td>0.392</td>\n",
       "      <td>0.602</td>\n",
       "    </tr>\n",
       "    <tr>\n",
       "      <th>Reductions</th>\n",
       "      <td>0.414</td>\n",
       "      <td>0.416</td>\n",
       "      <td>0.596</td>\n",
       "    </tr>\n",
       "  </tbody>\n",
       "</table>\n",
       "</div>"
      ],
      "text/plain": [
       "                     selection_rate false_negative_rate balanced_accuracy\n",
       "Unmitigated                   0.405               0.416             0.601\n",
       "Postprocessing                0.429               0.394             0.600\n",
       "Postprocessing (DET)          0.428               0.392             0.602\n",
       "Reductions                    0.414               0.416             0.596"
      ]
     },
     "execution_count": 114,
     "metadata": {},
     "output_type": "execute_result"
    }
   ],
   "source": [
    "overall_df.T"
   ]
  },
  {
   "cell_type": "markdown",
   "metadata": {
    "id": "nUR8a_EugXM5"
   },
   "source": []
  },
  {
   "cell_type": "code",
   "execution_count": 115,
   "metadata": {
    "colab": {
     "base_uri": "https://localhost:8080/",
     "height": 417
    },
    "id": "yUaAejwa6P3F",
    "outputId": "2338c1eb-9144-450e-a377-c2c4774a8771"
   },
   "outputs": [
    {
     "data": {
      "image/png": "[encoded data removed]",
      "text/plain": [
       "<Figure size 864x360 with 3 Axes>"
      ]
     },
     "metadata": {},
     "output_type": "display_data"
    }
   ],
   "source": [
    "overall_df.transpose().plot.bar(subplots=True, layout= [1,3], figsize=(12, 5), legend=False, rot=-45, position=1.5);"
   ]
  },
  {
   "cell_type": "code",
   "execution_count": 116,
   "metadata": {
    "id": "pIGS8f2M2Afu"
   },
   "outputs": [],
   "source": [
    "difference_df = pd.DataFrame.from_dict({\n",
    "    \"Unmitigated\": metricframe_unmitigated.difference()[differences_to_display],\n",
    "    \"Postprocessing\": metricframe_postprocess.difference()[differences_to_display],\n",
    "    \"Postprocessing (DET)\": mf_deterministic.difference()[differences_to_display],\n",
    "    \"Reductions\": metricframe_reductions.difference()[differences_to_display]\n",
    "}\n",
    ")"
   ]
  },
  {
   "cell_type": "code",
   "execution_count": 117,
   "metadata": {
    "colab": {
     "base_uri": "https://localhost:8080/",
     "height": 167
    },
    "id": "3pBkP7QCDVs6",
    "outputId": "1c0f13ae-6aa3-4fb1-f297-59cb351e5b16"
   },
   "outputs": [
    {
     "data": {
      "text/html": [
       "<div>\n",
       "<style scoped>\n",
       "    .dataframe tbody tr th:only-of-type {\n",
       "        vertical-align: middle;\n",
       "    }\n",
       "\n",
       "    .dataframe tbody tr th {\n",
       "        vertical-align: top;\n",
       "    }\n",
       "\n",
       "    .dataframe thead th {\n",
       "        text-align: right;\n",
       "    }\n",
       "</style>\n",
       "<table border=\"1\" class=\"dataframe\">\n",
       "  <thead>\n",
       "    <tr style=\"text-align: right;\">\n",
       "      <th></th>\n",
       "      <th>selection_rate</th>\n",
       "      <th>false_negative_rate</th>\n",
       "      <th>balanced_accuracy</th>\n",
       "    </tr>\n",
       "  </thead>\n",
       "  <tbody>\n",
       "    <tr>\n",
       "      <th>Unmitigated</th>\n",
       "      <td>0.123</td>\n",
       "      <td>0.221</td>\n",
       "      <td>0.057</td>\n",
       "    </tr>\n",
       "    <tr>\n",
       "      <th>Postprocessing</th>\n",
       "      <td>0.087</td>\n",
       "      <td>0.106</td>\n",
       "      <td>0.076</td>\n",
       "    </tr>\n",
       "    <tr>\n",
       "      <th>Postprocessing (DET)</th>\n",
       "      <td>0.080</td>\n",
       "      <td>0.076</td>\n",
       "      <td>0.014</td>\n",
       "    </tr>\n",
       "    <tr>\n",
       "      <th>Reductions</th>\n",
       "      <td>0.085</td>\n",
       "      <td>0.134</td>\n",
       "      <td>0.052</td>\n",
       "    </tr>\n",
       "  </tbody>\n",
       "</table>\n",
       "</div>"
      ],
      "text/plain": [
       "                     selection_rate false_negative_rate balanced_accuracy\n",
       "Unmitigated                   0.123               0.221             0.057\n",
       "Postprocessing                0.087               0.106             0.076\n",
       "Postprocessing (DET)          0.080               0.076             0.014\n",
       "Reductions                    0.085               0.134             0.052"
      ]
     },
     "execution_count": 117,
     "metadata": {},
     "output_type": "execute_result"
    }
   ],
   "source": [
    "difference_df.T"
   ]
  },
  {
   "cell_type": "code",
   "execution_count": 118,
   "metadata": {
    "colab": {
     "base_uri": "https://localhost:8080/",
     "height": 417
    },
    "id": "_qXEkByRDkK0",
    "outputId": "08eb211f-a97d-454b-e4bb-e1fbdc93529c"
   },
   "outputs": [
    {
     "data": {
      "image/png": "[encoded data removed]",
      "text/plain": [
       "<Figure size 864x360 with 3 Axes>"
      ]
     },
     "metadata": {},
     "output_type": "display_data"
    }
   ],
   "source": [
    "difference_df.T.plot.bar(subplots=True, layout= [1,3], figsize=(12, 5), legend=False, rot=-45, position=1.5);"
   ]
  },
  {
   "cell_type": "markdown",
   "metadata": {
    "id": "7S6CIoJ-W1jH"
   },
   "source": [
    "### Randomized predictions"
   ]
  },
  {
   "cell_type": "markdown",
   "metadata": {
    "id": "MzdFLJ9BA15F"
   },
   "source": [
    "Both the `ExponentiatedGradient` and the `ThresholdOptimizer` yield randomized predictions (may return different result given the same instance). Due to legal regulations or other concerns, a practitioner may not be able to deploy a randomized model. To address these restrictions:\n",
    "\n",
    "*   We created a deterministic `InterpolatedThreshold` predictor based on the randomized thresholds learned by the `ThresholdOptimizer`. This deteministic equivalent achieved similar performance as the `ThresholdOptimizer`.\n",
    "*   For the `ExponentiatedGradient` model, we can deploy one of the deterministic inner models rather than the overall `ExponentiatedGradient` model.\n",
    "\n"
   ]
  },
  {
   "cell_type": "markdown",
   "metadata": {
    "id": "P9dvkQvKW1lv"
   },
   "source": [
    "### Access to Sensitive Features\n",
    "\n"
   ]
  },
  {
   "cell_type": "markdown",
   "metadata": {
    "id": "L56tawsAW14B"
   },
   "source": [
    "\n",
    "\n",
    "*   The `ThresholdOptimizer` model requires access to the sensitive features during BOTH training time and once deployed. If you do not have access to the sensitive features once the model is deployed, you will not be able to use the `ThresholdOptimizer`.\n",
    "*   The `ExponentiatedGradient` model requires access to the sensitive features ONLY during training time. \n",
    "\n",
    "\n"
   ]
  },
  {
   "cell_type": "markdown",
   "metadata": {
    "id": "fQOR2R3XVa-U"
   },
   "source": [
    "# Model cards for model reporting"
   ]
  },
  {
   "cell_type": "markdown",
   "metadata": {
    "id": "2RAXJDoyVbBT"
   },
   "source": [
    "[Mitchell et al. (2019)](https://arxiv.org/abs/1810.03993) proposed the *model cards* framework for documenting and reporting model training details and deployment considerations. A _model card_ documents, for example, training and evaluation dataset summaries, ethical considerations, and quantitative performance results.\n",
    "\n"
   ]
  },
  {
   "cell_type": "markdown",
   "metadata": {
    "id": "QfI9oEwIkS6v"
   },
   "source": [
    "In this section, we will create a model card for one of the models we trained."
   ]
  },
  {
   "cell_type": "code",
   "execution_count": 119,
   "metadata": {
    "id": "OViYhOAHPftT"
   },
   "outputs": [],
   "source": [
    "mct = ModelCardToolkit()\n",
    "model_card = mct.scaffold_assets()\n"
   ]
  },
  {
   "cell_type": "markdown",
   "metadata": {
    "id": "Lnr6aRjIF_t6"
   },
   "source": [
    "The first section of the Model Card is the _model details_ section. In _model details_, we fill in some basic information for our model.\n",
    "\n",
    "\n",
    "*   _Name_: A name for the model\n",
    "*   _Overview_: A brief description of the model and its intended use case\n",
    "*   _Owners_: Name of individual(s) or group who created the model.\n",
    "*   _References_: Any external links or references\n",
    "\n"
   ]
  },
  {
   "cell_type": "code",
   "execution_count": 120,
   "metadata": {
    "id": "YKvUW25cPewp"
   },
   "outputs": [],
   "source": [
    "model_card.model_details.name = \"Diabetes Re-Admission Risk model\"\n",
    "model_card.model_details.overview = \"This model predicts whether a patient will be re-admitted into a hospital within 30 days.\"\n",
    "model_card.model_details.owners = [{\n",
    "    \"name\": \"Fairlearn Team\",\n",
    "    \"contact\": \"https://fairlearn.org/\"\n",
    "}]\n",
    "model_card.model_details.reference = [\n",
    "    \"https://archive.ics.uci.edu/ml/datasets/Diabetes+130-US+hospitals+for+years+1999-2008\"\n",
    "]\n",
    "model_card.model_details.version.name = \"v1.0\"\n",
    "model_card.model_details.version.date = str(date.today())\n",
    "model_card.model_details.license = \"MIT License\"\n"
   ]
  },
  {
   "cell_type": "code",
   "execution_count": 121,
   "metadata": {
    "id": "avEdkdzAPe2S"
   },
   "outputs": [],
   "source": [
    "model_card.considerations.use_cases = [\"High-Risk Patient Care Management\"]\n",
    "model_card.considerations.users = [\"Medical Professionals\",  \"ML Researchers\"]\n",
    "model_card.considerations.limitations = [\n",
    "    \"\"\"\n",
    "    This model will not generalize to hospitals outside of the United States. Features, such as those encoding insurance\n",
    "    information, are inherently tied to the U.S healthcare system.\n",
    "    In addition, this model is intended for patients who are admitted into U.S. hospitals for diabetes-related illnessess.\n",
    "    \"\"\"\n",
    "]\n",
    "model_card.considerations.ethical_considerations = [{\n",
    "    \"name\": (\"Low sample sizes of certain racial groups could lead to poorer performance on these groups\"),\n",
    "    \"mitigation_strategy\": \"Collect additional data points from more hospitals.\"\n",
    "}]"
   ]
  },
  {
   "cell_type": "markdown",
   "metadata": {
    "id": "orPNYAZFwGVM"
   },
   "source": [
    "The next two sections of the model card are meant to provide the reader with information about the data used to train and evaluate the model. For each of these sections, we provide a brief `description` of the data and then submit a `visualization` of the distribution of labels in the dataset."
   ]
  },
  {
   "cell_type": "code",
   "execution_count": 122,
   "metadata": {
    "id": "khWJN_vqm35e"
   },
   "outputs": [],
   "source": [
    "model_card.model_parameters.data.train.graphics.description = (\n",
    "    f\"{X_train_bal.shape[0]} rows with {X_train_bal.shape[1]} features. \"\n",
    "    f\"The original training data set was undersampled to allow for an equal number of positive and negative labeled instances.\"\n",
    ")\n",
    "\n",
    "model_card.model_parameters.data.train.graphics.collection = [\n",
    "    {\"name\": \"Sensitive Features\", \"image\": sensitive_train},\n",
    "    {\"name\": \"Target Label\", \"image\": outcome_train}                                                   \n",
    "]"
   ]
  },
  {
   "cell_type": "code",
   "execution_count": 123,
   "metadata": {
    "id": "h3fiatJ6nGQf"
   },
   "outputs": [],
   "source": [
    "model_card.model_parameters.data.eval.graphics.description = (\n",
    "    f\"{X_test.shape[0]} rows with {X_test.shape[1]} columns\"\n",
    ")\n",
    "\n",
    "model_card.model_parameters.data.eval.graphics.collection = [\n",
    "    {\"name\": \"Sensitive Features\", \"image\": sensitive_test},\n",
    "    {\"name\": \"Target Label\", \"image\": outcome_test}\n",
    "]"
   ]
  },
  {
   "cell_type": "markdown",
   "metadata": {
    "id": "frGlrXHAyn2C"
   },
   "source": [
    "In the last section, we fill out the `quantitative_analysis` section where we describe the model's performance metrics on the evaluation dataset. In particular, we want to report the model's disagregated performance with respect to our three metrics including false negative rate, which quantifies fairness-related harms."
   ]
  },
  {
   "cell_type": "code",
   "execution_count": 124,
   "metadata": {
    "id": "1cyHIMlAJqod"
   },
   "outputs": [],
   "source": [
    "def metricframe_to_dictionary(mframe, feature_name):\n",
    "    \"\"\"\n",
    "    Converts a MetricFrame into a Dictionary object that can be accepted by the Model Card's\n",
    "    Quantitative Analysis section.\n",
    "    \"\"\"\n",
    "    group_metrics = mframe.by_group[feature_name].reset_index()\n",
    "    group_metrics = group_metrics.melt(id_vars=\"race\", var_name=\"type\", value_vars=feature_name).rename(columns={\"race\":\"slice\"})\n",
    "    return group_metrics.to_dict(orient=\"records\")"
   ]
  },
  {
   "cell_type": "code",
   "execution_count": 125,
   "metadata": {
    "id": "kETWDtN68Gmq"
   },
   "outputs": [],
   "source": [
    "model_card.quantitative_analysis.graphics.description = (\n",
    "    f\"These graphs show the models performance on the test dataset for disagregated racial categories.\"\n",
    ")\n",
    "model_card.quantitative_analysis.performance_metrics = metricframe_to_dictionary(metricframe_postprocess, \"false_negative_rate\")\n",
    "model_card.quantitative_analysis.graphics.collection = [\n",
    "    {\"name\": \"ThresholdOptimizer\", \"image\": postprocess_performance}\n",
    "]"
   ]
  },
  {
   "cell_type": "markdown",
   "metadata": {
    "id": "WvL2mHlwp-l0"
   },
   "source": [
    "Finally, we pass our filled-out `model_card` to the `mct` object to generate an HTML version of the `model_card` that can be rendered within a Jupyter notebook."
   ]
  },
  {
   "cell_type": "code",
   "execution_count": 126,
   "metadata": {
    "id": "A-j_4mBaPe5z"
   },
   "outputs": [],
   "source": [
    "mct.update_model_card_json(model_card)\n",
    "html_modelcard = mct.export_format()"
   ]
  },
  {
   "cell_type": "code",
   "execution_count": 127,
   "metadata": {
    "colab": {
     "base_uri": "https://localhost:8080/",
     "height": 1000
    },
    "id": "89kqC0Jj9D6O",
    "outputId": "4dcabbce-8878-4573-dd81-6da32c170e76"
   },
   "outputs": [
    {
     "data": {
      "text/html": [
       "<!DOCTYPE html>\n",
       "\n",
       "\n",
       "\n",
       "\n",
       "\n",
       "\n",
       "\n",
       "<html lang=\"en\">\n",
       "<head>\n",
       "<style>\n",
       "  h1 {text-align: center;}\n",
       "  .row {\n",
       "    display: flex;\n",
       "  }\n",
       "  .col {\n",
       "    flex: 1;\n",
       "  }\n",
       "  .card {\n",
       "    padding: 1em;\n",
       "    border: 1px solid #DADCE0;\n",
       "    margin: 10px;\n",
       "  }\n",
       "  .img-container {\n",
       "    display: flex;\n",
       "    flex-wrap: wrap;\n",
       "    justify-content: space-around;\n",
       "    text-align: center;\n",
       "  }\n",
       "  .img-item {\n",
       "    flex: 1;\n",
       "  }\n",
       "  table, th, td { border: 1px solid black; }\n",
       "  th, td { border: 1px solid #CCC; height: 30px; }\n",
       "  caption { font-weight: bold; }\n",
       "</style>\n",
       "<title>\n",
       "  Model Card for Diabetes Re-Admission Risk model\n",
       "</title>\n",
       "</head>\n",
       "<body>\n",
       "  <h1>\n",
       "    Model Card for Diabetes Re-Admission Risk model\n",
       "  </h1>\n",
       "    <div class=\"row\">\n",
       "      <div class=\"col card\">\n",
       "        <h2>Model Details</h2>\n",
       "          <h3>Overview</h3>\n",
       "              This model predicts whether a patient will be re-admitted into a hospital within 30 days.\n",
       "          <h3>Version</h3>\n",
       "              \n",
       "  \n",
       "    <div>name: v1.0</div>\n",
       "\n",
       "              \n",
       "  \n",
       "    <div>date: 2021-06-18</div>\n",
       "\n",
       "              \n",
       "  \n",
       "\n",
       "          \n",
       "          <h3>Owners</h3>\n",
       "              <ul>\n",
       "                <li>Fairlearn Team, https://fairlearn.org/</li>\n",
       "              </ul>\n",
       "          \n",
       "            <h3>License</h3>\n",
       "              MIT License\n",
       "          \n",
       "          \n",
       "          \n",
       "          \n",
       "          \n",
       "      </div>\n",
       "      \n",
       "      <div class=\"col card\">\n",
       "        <h2>Considerations</h2>\n",
       "          \n",
       "            <h3>Intended Users</h3>\n",
       "              \n",
       "  \n",
       "  <ul>\n",
       "  \n",
       "    <li>Medical Professionals</li>\n",
       "  \n",
       "    <li>ML Researchers</li>\n",
       "  \n",
       "  </ul>\n",
       "\n",
       "          \n",
       "          \n",
       "            <h3>Use Cases</h3>\n",
       "              \n",
       "  \n",
       "  <ul>\n",
       "  \n",
       "    <li>High-Risk Patient Care Management</li>\n",
       "  \n",
       "  </ul>\n",
       "\n",
       "          \n",
       "          \n",
       "            <h3>Limitations</h3>\n",
       "              \n",
       "  \n",
       "  <ul>\n",
       "  \n",
       "    <li>\n",
       "    This model will not generalize to hospitals outside of the United States. Features, such as those encoding insurance\n",
       "    information, are inherently tied to the U.S healthcare system.\n",
       "    In addition, this model is intended for patients who are admitted into U.S. hospitals for diabetes-related illnessess.\n",
       "    </li>\n",
       "  \n",
       "  </ul>\n",
       "\n",
       "          \n",
       "          \n",
       "          \n",
       "            <h3>Ethical Considerations</h3>\n",
       "              <ul>\n",
       "                <li>\n",
       "                  <div>Risk: Low sample sizes of certain racial groups could lead to poorer performance on these groups</div>\n",
       "                  <div>Mitigation Strategy: Collect additional data points from more hospitals.</div>\n",
       "                </li> </ul>\n",
       "      </div>\n",
       "      \n",
       "    </div>\n",
       "    \n",
       "      <div class=\"row\">\n",
       "        <div class=\"col card\">\n",
       "          <h2>Train Set</h2>\n",
       "            11356 rows with 45 features. The original training data set was undersampled to allow for an equal number of positive and negative labeled instances.\n",
       "            \n",
       "  <div class=\"img-container\">\n",
       "  \n",
       "    <div class=\"img-item\">\n",
       "      <img src='data:image/jpeg;base64,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' alt='Sensitive Features' />\n",
       "    </div>\n",
       "  \n",
       "    <div class=\"img-item\">\n",
       "      <img src='data:image/jpeg;base64,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' alt='Target Label' />\n",
       "    </div>\n",
       "  \n",
       "  </div>\n",
       "\n",
       "        </div>\n",
       "      </div>\n",
       "    \n",
       "    \n",
       "      <div class=\"row\">\n",
       "        <div class=\"col card\">\n",
       "          <h2>Eval Set</h2>\n",
       "            50882 rows with 45 columns\n",
       "            \n",
       "  <div class=\"img-container\">\n",
       "  \n",
       "    <div class=\"img-item\">\n",
       "      <img src='data:image/jpeg;base64,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' alt='Sensitive Features' />\n",
       "    </div>\n",
       "  \n",
       "    <div class=\"img-item\">\n",
       "      <img src='data:image/jpeg;base64,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' alt='Target Label' />\n",
       "    </div>\n",
       "  \n",
       "  </div>\n",
       "\n",
       "        </div>\n",
       "      </div>\n",
       "    \n",
       "    \n",
       "      <div class=\"row\">\n",
       "        <div class=\"col card\">\n",
       "          <h2>Quantitative Analysis</h2>\n",
       "            \n",
       "              These graphs show the models performance on the test dataset for disagregated racial categories.\n",
       "              \n",
       "  <div class=\"img-container\">\n",
       "  \n",
       "    <div class=\"img-item\">\n",
       "      <img src='data:image/jpeg;base64,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' alt='ThresholdOptimizer' />\n",
       "    </div>\n",
       "  \n",
       "  </div>\n",
       "\n",
       "            \n",
       "              \n",
       "<table>\n",
       "  <caption>Performance Metrics</caption>\n",
       "  <tr><th>Name</th><th>Value</th></tr>\n",
       "\n",
       "  <tr><td>\n",
       "false_negative_rate, AfricanAmerican\n",
       "</td><td>\n",
       "0.4166666666666667\n",
       "</td></tr>\n",
       "\n",
       "  <tr><td>\n",
       "false_negative_rate, Caucasian\n",
       "</td><td>\n",
       "0.3830444075041558\n",
       "</td></tr>\n",
       "\n",
       "  <tr><td>\n",
       "false_negative_rate, Other\n",
       "</td><td>\n",
       "0.44144144144144143\n",
       "</td></tr>\n",
       "\n",
       "  <tr><td>\n",
       "false_negative_rate, Unknown\n",
       "</td><td>\n",
       "0.48936170212765956\n",
       "</td></tr>\n",
       "\n",
       "</table>\n",
       "\n",
       "            \n",
       "        </div>\n",
       "      </div>\n",
       "    \n",
       "</body>\n",
       "</html>"
      ],
      "text/plain": [
       "<IPython.core.display.HTML object>"
      ]
     },
     "metadata": {},
     "output_type": "display_data"
    }
   ],
   "source": [
    "display.display(display.HTML(html_modelcard))"
   ]
  },
  {
   "cell_type": "markdown",
   "metadata": {
    "id": "1yjoezizXk1W"
   },
   "source": [
    "<mark>[STOP REVIEW HERE]</mark>"
   ]
  },
  {
   "cell_type": "markdown",
   "metadata": {
    "id": "1j9WzWcCVbZV"
   },
   "source": [
    "# Discussion and conclusion"
   ]
  },
  {
   "cell_type": "markdown",
   "metadata": {
    "id": "heNLaI5ApXZA"
   },
   "source": [
    "## Outline"
   ]
  },
  {
   "cell_type": "markdown",
   "metadata": {
    "id": "IqR10ViTpXiu"
   },
   "source": [
    "> * Recap the journey\n",
    ">   * Summarize fairness-related harms\n",
    ">   * Fairness-related harms can be introduced or propagated at any stage in the AI lifecycle\n",
    ">   * Review how our sequence of exercises touched the AI lifecycle at different stages and the role of various resources:\n",
    ">     * Datasheets for datasets\n",
    ">     * Fairlearn\n",
    ">     * Model cards\n",
    "> * But the task does not end with model deployment:\n",
    ">   * After the model is deployed, it’s important to continue monitoring the performance along the metrics you’ve evaluated. You may need to revise the fairness metrics, update the models, consider additional sensitive features, update the task definition, or collect new data.\n",
    "> * Although we used a variety of software tools, fairness is a sociotechnical challenge, so mitigations cannot be purely technical, and need to be supported by processes and practices, including government regulation and organizational incentives.\n",
    "> * Provide resources for further reading and invite folks to join the Fairlearn community.\n",
    "> * Open the floor for questions?\n"
   ]
  },
  {
   "cell_type": "markdown",
   "metadata": {
    "id": "rHPo-kN5apO5"
   },
   "source": [
    "[THIS SECTION STILL NEEDS FILLING IN]"
   ]
  },
  {
   "cell_type": "markdown",
   "metadata": {
    "id": "RM6jbQaPucaZ"
   },
   "source": [
    "## \"There are no biased models, only biased datasets!\""
   ]
  },
  {
   "cell_type": "markdown",
   "metadata": {
    "id": "yN7ryyIilPk6"
   },
   "source": [
    "\n",
    "*   Draft this section about the disparity in the dataset to the disparity in the model performance, and the context in the larger social context.\n",
    "\n"
   ]
  },
  {
   "cell_type": "markdown",
   "metadata": {
    "id": "T4rPCW5cBDLa"
   },
   "source": [
    "One common argument against algorithmic fairness is \"ML models only reflect the disparities in the data. If the training data is unbiased, then we would have unbiased models\"."
   ]
  },
  {
   "cell_type": "code",
   "execution_count": null,
   "metadata": {
    "id": "2UuFaA2XubkJ"
   },
   "outputs": [],
   "source": []
  },
  {
   "cell_type": "markdown",
   "metadata": {
    "id": "ptj4HbCLyFxQ"
   },
   "source": [
    "## Tie back into types of harms"
   ]
  },
  {
   "cell_type": "code",
   "execution_count": null,
   "metadata": {
    "id": "fEsOe9GgyREH"
   },
   "outputs": [],
   "source": []
  },
  {
   "cell_type": "code",
   "execution_count": null,
   "metadata": {
    "id": "fat6GnknP7BT"
   },
   "outputs": [],
   "source": []
  }
 ],
 "metadata": {
  "colab": {
   "collapsed_sections": [
    "MbN_la-k2k7g",
    "0CS9-jaxtxh2",
    "yEeSaAbuZk-Q"
   ],
   "name": "SciPy 2021 Tutorial.ipynb",
   "provenance": [],
   "toc_visible": true
  },
  "kernelspec": {
   "display_name": "Python 3",
   "language": "python",
   "name": "python3"
  },
  "language_info": {
   "codemirror_mode": {
    "name": "ipython",
    "version": 3
   },
   "file_extension": ".py",
   "mimetype": "text/x-python",
   "name": "python",
   "nbconvert_exporter": "python",
   "pygments_lexer": "ipython3",
   "version": "3.7.10"
  }
 },
 "nbformat": 4,
 "nbformat_minor": 1
}
